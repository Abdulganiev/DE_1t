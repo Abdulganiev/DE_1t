{
 "cells": [
  {
   "cell_type": "markdown",
   "id": "1d6908d9",
   "metadata": {
    "toc": true
   },
   "source": [
    "<h1>Table of Contents<span class=\"tocSkip\"></span></h1>\n",
    "<div class=\"toc\"><ul class=\"toc-item\"><li><span><a href=\"#Подготовить-анализы-к-тестированию-(Убрать-отсутствующие-значения-\\-попробовать-выделить-новые-признаки)\" data-toc-modified-id=\"Подготовить-анализы-к-тестированию-(Убрать-отсутствующие-значения-\\-попробовать-выделить-новые-признаки)-1\"><span class=\"toc-item-num\">1&nbsp;&nbsp;</span>Подготовить анализы к тестированию (Убрать отсутствующие значения \\ попробовать выделить новые признаки)</a></span><ul class=\"toc-item\"><li><span><a href=\"#Подключение-библиотек\" data-toc-modified-id=\"Подключение-библиотек-1.1\"><span class=\"toc-item-num\">1.1&nbsp;&nbsp;</span>Подключение библиотек</a></span></li><li><span><a href=\"#Настройки\" data-toc-modified-id=\"Настройки-1.2\"><span class=\"toc-item-num\">1.2&nbsp;&nbsp;</span>Настройки</a></span></li><li><span><a href=\"#Датасет\" data-toc-modified-id=\"Датасет-1.3\"><span class=\"toc-item-num\">1.3&nbsp;&nbsp;</span>Датасет</a></span></li><li><span><a href=\"#Описание-полей-датасета\" data-toc-modified-id=\"Описание-полей-датасета-1.4\"><span class=\"toc-item-num\">1.4&nbsp;&nbsp;</span>Описание полей датасета</a></span></li><li><span><a href=\"#Проверка-на-дублированные-строки\" data-toc-modified-id=\"Проверка-на-дублированные-строки-1.5\"><span class=\"toc-item-num\">1.5&nbsp;&nbsp;</span>Проверка на дублированные строки</a></span></li><li><span><a href=\"#Преобразование-столба-data-в-правильный-формат\" data-toc-modified-id=\"Преобразование-столба-data-в-правильный-формат-1.6\"><span class=\"toc-item-num\">1.6&nbsp;&nbsp;</span>Преобразование столба data в правильный формат</a></span></li><li><span><a href=\"#Удаление-ненужных-столбцов\" data-toc-modified-id=\"Удаление-ненужных-столбцов-1.7\"><span class=\"toc-item-num\">1.7&nbsp;&nbsp;</span>Удаление ненужных столбцов</a></span></li><li><span><a href=\"#Описание-категориальных-признаков\" data-toc-modified-id=\"Описание-категориальных-признаков-1.8\"><span class=\"toc-item-num\">1.8&nbsp;&nbsp;</span>Описание категориальных признаков</a></span></li><li><span><a href=\"#Уникальные-значения-для-всех-столбцов\" data-toc-modified-id=\"Уникальные-значения-для-всех-столбцов-1.9\"><span class=\"toc-item-num\">1.9&nbsp;&nbsp;</span>Уникальные значения для всех столбцов</a></span></li><li><span><a href=\"#Отсутствующие-значения\" data-toc-modified-id=\"Отсутствующие-значения-1.10\"><span class=\"toc-item-num\">1.10&nbsp;&nbsp;</span>Отсутствующие значения</a></span></li><li><span><a href=\"#Тепловая-диаграмма\" data-toc-modified-id=\"Тепловая-диаграмма-1.11\"><span class=\"toc-item-num\">1.11&nbsp;&nbsp;</span>Тепловая диаграмма</a></span></li><li><span><a href=\"#Группировка-по-гистограмме\" data-toc-modified-id=\"Группировка-по-гистограмме-1.12\"><span class=\"toc-item-num\">1.12&nbsp;&nbsp;</span>Группировка по гистограмме</a></span><ul class=\"toc-item\"><li><span><a href=\"#binning_feature('Total')\" data-toc-modified-id=\"binning_feature('Total')-1.12.1\"><span class=\"toc-item-num\">1.12.1&nbsp;&nbsp;</span>binning_feature('Total')</a></span></li><li><span><a href=\"#binning_feature('Unit-price')\" data-toc-modified-id=\"binning_feature('Unit-price')-1.12.2\"><span class=\"toc-item-num\">1.12.2&nbsp;&nbsp;</span>binning_feature('Unit price')</a></span></li><li><span><a href=\"#binning_feature('Quantity')\" data-toc-modified-id=\"binning_feature('Quantity')-1.12.3\"><span class=\"toc-item-num\">1.12.3&nbsp;&nbsp;</span>binning_feature('Quantity')</a></span></li><li><span><a href=\"#binning_feature('cogs')\" data-toc-modified-id=\"binning_feature('cogs')-1.12.4\"><span class=\"toc-item-num\">1.12.4&nbsp;&nbsp;</span>binning_feature('cogs')</a></span></li><li><span><a href=\"#binning_feature('gross-income')\" data-toc-modified-id=\"binning_feature('gross-income')-1.12.5\"><span class=\"toc-item-num\">1.12.5&nbsp;&nbsp;</span>binning_feature('gross income')</a></span></li><li><span><a href=\"#binning_feature('Rating')\" data-toc-modified-id=\"binning_feature('Rating')-1.12.6\"><span class=\"toc-item-num\">1.12.6&nbsp;&nbsp;</span>binning_feature('Rating')</a></span></li></ul></li></ul></li><li><span><a href=\"#Провести-одномерный-анализ-данных\" data-toc-modified-id=\"Провести-одномерный-анализ-данных-2\"><span class=\"toc-item-num\">2&nbsp;&nbsp;</span>Провести одномерный анализ данных</a></span><ul class=\"toc-item\"><li><span><a href=\"#Статистический-анализ-на-норму\" data-toc-modified-id=\"Статистический-анализ-на-норму-2.1\"><span class=\"toc-item-num\">2.1&nbsp;&nbsp;</span>Статистический анализ на норму</a></span><ul class=\"toc-item\"><li><span><a href=\"#K2-тест-Д-Агостино-(если-возможно)\" data-toc-modified-id=\"K2-тест-Д-Агостино-(если-возможно)-2.1.1\"><span class=\"toc-item-num\">2.1.1&nbsp;&nbsp;</span>K2-тест Д-Агостино (если возможно)</a></span><ul class=\"toc-item\"><li><span><a href=\"#Total\" data-toc-modified-id=\"Total-2.1.1.1\"><span class=\"toc-item-num\">2.1.1.1&nbsp;&nbsp;</span>Total</a></span></li><li><span><a href=\"#Unit-price\" data-toc-modified-id=\"Unit-price-2.1.1.2\"><span class=\"toc-item-num\">2.1.1.2&nbsp;&nbsp;</span>Unit price</a></span></li><li><span><a href=\"#Quantity\" data-toc-modified-id=\"Quantity-2.1.1.3\"><span class=\"toc-item-num\">2.1.1.3&nbsp;&nbsp;</span>Quantity</a></span></li><li><span><a href=\"#cogs\" data-toc-modified-id=\"cogs-2.1.1.4\"><span class=\"toc-item-num\">2.1.1.4&nbsp;&nbsp;</span>cogs</a></span></li><li><span><a href=\"#gross-income\" data-toc-modified-id=\"gross-income-2.1.1.5\"><span class=\"toc-item-num\">2.1.1.5&nbsp;&nbsp;</span>gross income</a></span></li><li><span><a href=\"#Rating\" data-toc-modified-id=\"Rating-2.1.1.6\"><span class=\"toc-item-num\">2.1.1.6&nbsp;&nbsp;</span>Rating</a></span></li></ul></li><li><span><a href=\"#Критерий-Шапиро-Уилка-(если-возможно)\" data-toc-modified-id=\"Критерий-Шапиро-Уилка-(если-возможно)-2.1.2\"><span class=\"toc-item-num\">2.1.2&nbsp;&nbsp;</span>Критерий Шапиро-Уилка (если возможно)</a></span><ul class=\"toc-item\"><li><span><a href=\"#Total\" data-toc-modified-id=\"Total-2.1.2.1\"><span class=\"toc-item-num\">2.1.2.1&nbsp;&nbsp;</span>Total</a></span></li><li><span><a href=\"#Unit-price\" data-toc-modified-id=\"Unit-price-2.1.2.2\"><span class=\"toc-item-num\">2.1.2.2&nbsp;&nbsp;</span>Unit price</a></span></li><li><span><a href=\"#Quantity\" data-toc-modified-id=\"Quantity-2.1.2.3\"><span class=\"toc-item-num\">2.1.2.3&nbsp;&nbsp;</span>Quantity</a></span></li><li><span><a href=\"#cogs\" data-toc-modified-id=\"cogs-2.1.2.4\"><span class=\"toc-item-num\">2.1.2.4&nbsp;&nbsp;</span>cogs</a></span></li><li><span><a href=\"#gross-income\" data-toc-modified-id=\"gross-income-2.1.2.5\"><span class=\"toc-item-num\">2.1.2.5&nbsp;&nbsp;</span>gross income</a></span></li><li><span><a href=\"#Rating\" data-toc-modified-id=\"Rating-2.1.2.6\"><span class=\"toc-item-num\">2.1.2.6&nbsp;&nbsp;</span>Rating</a></span></li></ul></li><li><span><a href=\"#Критерий-Андерсона-—-Дарлинга-(если-возможно)\" data-toc-modified-id=\"Критерий-Андерсона-—-Дарлинга-(если-возможно)-2.1.3\"><span class=\"toc-item-num\">2.1.3&nbsp;&nbsp;</span>Критерий Андерсона — Дарлинга (если возможно)</a></span><ul class=\"toc-item\"><li><span><a href=\"#Total\" data-toc-modified-id=\"Total-2.1.3.1\"><span class=\"toc-item-num\">2.1.3.1&nbsp;&nbsp;</span>Total</a></span></li><li><span><a href=\"#Unit-price\" data-toc-modified-id=\"Unit-price-2.1.3.2\"><span class=\"toc-item-num\">2.1.3.2&nbsp;&nbsp;</span>Unit price</a></span></li><li><span><a href=\"#Quantity\" data-toc-modified-id=\"Quantity-2.1.3.3\"><span class=\"toc-item-num\">2.1.3.3&nbsp;&nbsp;</span>Quantity</a></span></li><li><span><a href=\"#cogs\" data-toc-modified-id=\"cogs-2.1.3.4\"><span class=\"toc-item-num\">2.1.3.4&nbsp;&nbsp;</span>cogs</a></span></li><li><span><a href=\"#gross-income\" data-toc-modified-id=\"gross-income-2.1.3.5\"><span class=\"toc-item-num\">2.1.3.5&nbsp;&nbsp;</span>gross income</a></span></li><li><span><a href=\"#Rating\" data-toc-modified-id=\"Rating-2.1.3.6\"><span class=\"toc-item-num\">2.1.3.6&nbsp;&nbsp;</span>Rating</a></span></li></ul></li></ul></li><li><span><a href=\"#Одномерная-визуализация\" data-toc-modified-id=\"Одномерная-визуализация-2.2\"><span class=\"toc-item-num\">2.2&nbsp;&nbsp;</span>Одномерная визуализация</a></span><ul class=\"toc-item\"><li><span><a href=\"#Gender\" data-toc-modified-id=\"Gender-2.2.1\"><span class=\"toc-item-num\">2.2.1&nbsp;&nbsp;</span>Gender</a></span></li><li><span><a href=\"#Customer-type\" data-toc-modified-id=\"Customer-type-2.2.2\"><span class=\"toc-item-num\">2.2.2&nbsp;&nbsp;</span>Customer type</a></span></li><li><span><a href=\"#Product-line\" data-toc-modified-id=\"Product-line-2.2.3\"><span class=\"toc-item-num\">2.2.3&nbsp;&nbsp;</span>Product line</a></span></li><li><span><a href=\"#Payment\" data-toc-modified-id=\"Payment-2.2.4\"><span class=\"toc-item-num\">2.2.4&nbsp;&nbsp;</span>Payment</a></span></li><li><span><a href=\"#Branch\" data-toc-modified-id=\"Branch-2.2.5\"><span class=\"toc-item-num\">2.2.5&nbsp;&nbsp;</span>Branch</a></span></li><li><span><a href=\"#City\" data-toc-modified-id=\"City-2.2.6\"><span class=\"toc-item-num\">2.2.6&nbsp;&nbsp;</span>City</a></span></li></ul></li></ul></li><li><span><a href=\"#Провести-двухмерный-анализ-данных\" data-toc-modified-id=\"Провести-двухмерный-анализ-данных-3\"><span class=\"toc-item-num\">3&nbsp;&nbsp;</span>Провести двухмерный анализ данных</a></span><ul class=\"toc-item\"><li><span><a href=\"#Сопоставление-различный-пар-типов-данных\" data-toc-modified-id=\"Сопоставление-различный-пар-типов-данных-3.1\"><span class=\"toc-item-num\">3.1&nbsp;&nbsp;</span>Сопоставление различный пар типов данных</a></span><ul class=\"toc-item\"><li><span><a href=\"#Числовые-и-числовые-данные-(если-возможно)\" data-toc-modified-id=\"Числовые-и-числовые-данные-(если-возможно)-3.1.1\"><span class=\"toc-item-num\">3.1.1&nbsp;&nbsp;</span>Числовые и числовые данные (если возможно)</a></span><ul class=\"toc-item\"><li><span><a href=\"#'Total','Unit-price'\" data-toc-modified-id=\"'Total','Unit-price'-3.1.1.1\"><span class=\"toc-item-num\">3.1.1.1&nbsp;&nbsp;</span>'Total','Unit price'</a></span></li><li><span><a href=\"#'Total','cogs'\" data-toc-modified-id=\"'Total','cogs'-3.1.1.2\"><span class=\"toc-item-num\">3.1.1.2&nbsp;&nbsp;</span>'Total','cogs'</a></span></li><li><span><a href=\"#'Total','gross-income'\" data-toc-modified-id=\"'Total','gross-income'-3.1.1.3\"><span class=\"toc-item-num\">3.1.1.3&nbsp;&nbsp;</span>'Total','gross income'</a></span></li><li><span><a href=\"#'Unit-price','cogs'\" data-toc-modified-id=\"'Unit-price','cogs'-3.1.1.4\"><span class=\"toc-item-num\">3.1.1.4&nbsp;&nbsp;</span>'Unit price','cogs'</a></span></li><li><span><a href=\"#'Unit-price','gross-income'\" data-toc-modified-id=\"'Unit-price','gross-income'-3.1.1.5\"><span class=\"toc-item-num\">3.1.1.5&nbsp;&nbsp;</span>'Unit price','gross income'</a></span></li><li><span><a href=\"#'cogs','gross-income'\" data-toc-modified-id=\"'cogs','gross-income'-3.1.1.6\"><span class=\"toc-item-num\">3.1.1.6&nbsp;&nbsp;</span>'cogs','gross income'</a></span></li></ul></li><li><span><a href=\"#Числовые-и-Порядковые-данные-(если-возможно)\" data-toc-modified-id=\"Числовые-и-Порядковые-данные-(если-возможно)-3.1.2\"><span class=\"toc-item-num\">3.1.2&nbsp;&nbsp;</span>Числовые и Порядковые данные (если возможно)</a></span><ul class=\"toc-item\"><li><span><a href=\"#Коэффициент-корреляции-Кендалла\" data-toc-modified-id=\"Коэффициент-корреляции-Кендалла-3.1.2.1\"><span class=\"toc-item-num\">3.1.2.1&nbsp;&nbsp;</span>Коэффициент корреляции Кендалла</a></span></li><li><span><a href=\"#Целевая-корреляция-(Двухклассовая)\" data-toc-modified-id=\"Целевая-корреляция-(Двухклассовая)-3.1.2.2\"><span class=\"toc-item-num\">3.1.2.2&nbsp;&nbsp;</span>Целевая корреляция (Двухклассовая)</a></span></li></ul></li><li><span><a href=\"#Порядковые-и-порядковые-данные-(если-возможно)\" data-toc-modified-id=\"Порядковые-и-порядковые-данные-(если-возможно)-3.1.3\"><span class=\"toc-item-num\">3.1.3&nbsp;&nbsp;</span>Порядковые и порядковые данные (если возможно)</a></span></li><li><span><a href=\"#Категориальные-и-Категориальные-данные-(если-возможно)\" data-toc-modified-id=\"Категориальные-и-Категориальные-данные-(если-возможно)-3.1.4\"><span class=\"toc-item-num\">3.1.4&nbsp;&nbsp;</span>Категориальные и Категориальные данные (если возможно)</a></span></li></ul></li><li><span><a href=\"#Коллинеарность\" data-toc-modified-id=\"Коллинеарность-3.2\"><span class=\"toc-item-num\">3.2&nbsp;&nbsp;</span>Коллинеарность</a></span></li><li><span><a href=\"#Двумерная-визуализация\" data-toc-modified-id=\"Двумерная-визуализация-3.3\"><span class=\"toc-item-num\">3.3&nbsp;&nbsp;</span>Двумерная визуализация</a></span></li></ul></li><li><span><a href=\"#Многомерный-анализ-данных\" data-toc-modified-id=\"Многомерный-анализ-данных-4\"><span class=\"toc-item-num\">4&nbsp;&nbsp;</span>Многомерный анализ данных</a></span><ul class=\"toc-item\"><li><span><a href=\"#Мультиколлинеарность-(Критерий-Краскела-—-Уоллиса)\" data-toc-modified-id=\"Мультиколлинеарность-(Критерий-Краскела-—-Уоллиса)-4.1\"><span class=\"toc-item-num\">4.1&nbsp;&nbsp;</span>Мультиколлинеарность (Критерий Краскела — Уоллиса)</a></span></li><li><span><a href=\"#Многомерная-визуализация\" data-toc-modified-id=\"Многомерная-визуализация-4.2\"><span class=\"toc-item-num\">4.2&nbsp;&nbsp;</span>Многомерная визуализация</a></span></li></ul></li><li><span><a href=\"#Итоговые-выводы\" data-toc-modified-id=\"Итоговые-выводы-5\"><span class=\"toc-item-num\">5&nbsp;&nbsp;</span>Итоговые выводы</a></span></li><li><span><a href=\"#Решения-практических-заданий-отправьте-в-файле-формата-&quot;.ipynb&quot;,-используя-редакторы-кода-Jupyter-/-Google-Colab\" data-toc-modified-id=\"Решения-практических-заданий-отправьте-в-файле-формата-&quot;.ipynb&quot;,-используя-редакторы-кода-Jupyter-/-Google-Colab-6\"><span class=\"toc-item-num\">6&nbsp;&nbsp;</span>Решения практических заданий отправьте в файле формата \".ipynb\", используя редакторы кода Jupyter / Google Colab</a></span></li></ul></div>"
   ]
  },
  {
   "cell_type": "markdown",
   "id": "30ccae71",
   "metadata": {},
   "source": [
    "# Подготовить анализы к тестированию (Убрать отсутствующие значения \\ попробовать выделить новые признаки)"
   ]
  },
  {
   "cell_type": "markdown",
   "id": "ea67f4eb",
   "metadata": {},
   "source": [
    "## Подключение библиотек"
   ]
  },
  {
   "cell_type": "code",
   "execution_count": 118,
   "id": "57785314",
   "metadata": {},
   "outputs": [
    {
     "data": {
      "text/html": [
       "        <script type=\"text/javascript\">\n",
       "        window.PlotlyConfig = {MathJaxConfig: 'local'};\n",
       "        if (window.MathJax) {MathJax.Hub.Config({SVG: {font: \"STIX-Web\"}});}\n",
       "        if (typeof require !== 'undefined') {\n",
       "        require.undef(\"plotly\");\n",
       "        requirejs.config({\n",
       "            paths: {\n",
       "                'plotly': ['https://cdn.plot.ly/plotly-2.4.2.min']\n",
       "            }\n",
       "        });\n",
       "        require(['plotly'], function(Plotly) {\n",
       "            window._Plotly = Plotly;\n",
       "        });\n",
       "        }\n",
       "        </script>\n",
       "        "
      ]
     },
     "metadata": {},
     "output_type": "display_data"
    }
   ],
   "source": [
    "\"\"\"Импорт базовых модулей\"\"\"\n",
    "import math\n",
    "import os\n",
    "import gc\n",
    "import random\n",
    "from pprint import pprint\n",
    "import numpy as np               # Для линейной алгебры\n",
    "import pandas as pd              # Для работы с данными\n",
    "import matplotlib.pyplot as plt  # Для 2D визуализации\n",
    "import seaborn as sns\n",
    "\n",
    "# Настройка Warnings\n",
    "import warnings\n",
    "warnings.filterwarnings(\"ignore\")\n",
    "\n",
    "from collections import Counter\n",
    "from scipy import stats                         # Для статистики\n",
    "from scipy.stats.contingency import association\n",
    "from scipy.stats import shapiro\n",
    "\n",
    "\"\"\"Plotly визуализация\"\"\"\n",
    "import plotly.graph_objs as go\n",
    "import plotly.express as px\n",
    "import plotly.io as pio\n",
    "from plotly.subplots import make_subplots\n",
    "from plotly.offline import init_notebook_mode, iplot\n",
    "  \n",
    "\n",
    "\"\"\"scikit-learn модули\"\"\"\n",
    "from sklearn.preprocessing import OrdinalEncoder, LabelEncoder\n",
    "from sklearn.preprocessing import PowerTransformer\n",
    "from sklearn.feature_selection import chi2\n",
    "from sklearn.metrics import matthews_corrcoef\n",
    "\n",
    "import multiprocessing\n",
    "import pickle, joblib\n",
    "\n",
    "\n",
    "from IPython.display import Markdown, display\n",
    "\n",
    "def printmd(string):\n",
    "    display(Markdown(string))\n",
    "\n",
    "\n",
    "sns.set_style('whitegrid')\n",
    "\n",
    "init_notebook_mode(connected=True)\n",
    "\n",
    "%matplotlib inline\n",
    "\n",
    "plt_params = {\n",
    "    'axes.facecolor' : 'white',\n",
    "}\n",
    "\n",
    "plt.rcParams.update(plt_params)"
   ]
  },
  {
   "cell_type": "markdown",
   "id": "615b7c26",
   "metadata": {
    "heading_collapsed": true
   },
   "source": [
    "## Настройки"
   ]
  },
  {
   "cell_type": "code",
   "execution_count": 2,
   "id": "37bb3842",
   "metadata": {
    "hidden": true
   },
   "outputs": [],
   "source": [
    "left_padding = 21\n",
    "SEED = 42\n",
    "\n",
    "def seed_everything(seed=42):\n",
    "    random.seed(seed)\n",
    "    os.environ['PYTHONHASHSEED'] = str(seed)\n",
    "    np.random.seed(seed)\n",
    "\n",
    "seed_everything(SEED)"
   ]
  },
  {
   "cell_type": "markdown",
   "id": "57183f9a",
   "metadata": {},
   "source": [
    "## Датасет"
   ]
  },
  {
   "cell_type": "code",
   "execution_count": 92,
   "id": "98b181ac",
   "metadata": {},
   "outputs": [
    {
     "data": {
      "text/html": [
       "<div>\n",
       "<style scoped>\n",
       "    .dataframe tbody tr th:only-of-type {\n",
       "        vertical-align: middle;\n",
       "    }\n",
       "\n",
       "    .dataframe tbody tr th {\n",
       "        vertical-align: top;\n",
       "    }\n",
       "\n",
       "    .dataframe thead th {\n",
       "        text-align: right;\n",
       "    }\n",
       "</style>\n",
       "<table border=\"1\" class=\"dataframe\">\n",
       "  <thead>\n",
       "    <tr style=\"text-align: right;\">\n",
       "      <th></th>\n",
       "      <th>Invoice ID</th>\n",
       "      <th>Branch</th>\n",
       "      <th>City</th>\n",
       "      <th>Customer type</th>\n",
       "      <th>Gender</th>\n",
       "      <th>Product line</th>\n",
       "      <th>Unit price</th>\n",
       "      <th>Quantity</th>\n",
       "      <th>Tax 5%</th>\n",
       "      <th>Total</th>\n",
       "      <th>Date</th>\n",
       "      <th>Time</th>\n",
       "      <th>Payment</th>\n",
       "      <th>cogs</th>\n",
       "      <th>gross margin percentage</th>\n",
       "      <th>gross income</th>\n",
       "      <th>Rating</th>\n",
       "    </tr>\n",
       "  </thead>\n",
       "  <tbody>\n",
       "    <tr>\n",
       "      <th>0</th>\n",
       "      <td>750-67-8428</td>\n",
       "      <td>A</td>\n",
       "      <td>Yangon</td>\n",
       "      <td>Member</td>\n",
       "      <td>Female</td>\n",
       "      <td>Health and beauty</td>\n",
       "      <td>74.69</td>\n",
       "      <td>7</td>\n",
       "      <td>26.1415</td>\n",
       "      <td>548.9715</td>\n",
       "      <td>1/5/2019</td>\n",
       "      <td>13:08</td>\n",
       "      <td>Ewallet</td>\n",
       "      <td>522.83</td>\n",
       "      <td>4.761905</td>\n",
       "      <td>26.1415</td>\n",
       "      <td>9.1</td>\n",
       "    </tr>\n",
       "    <tr>\n",
       "      <th>1</th>\n",
       "      <td>226-31-3081</td>\n",
       "      <td>C</td>\n",
       "      <td>Naypyitaw</td>\n",
       "      <td>Normal</td>\n",
       "      <td>Female</td>\n",
       "      <td>Electronic accessories</td>\n",
       "      <td>15.28</td>\n",
       "      <td>5</td>\n",
       "      <td>3.8200</td>\n",
       "      <td>80.2200</td>\n",
       "      <td>3/8/2019</td>\n",
       "      <td>10:29</td>\n",
       "      <td>Cash</td>\n",
       "      <td>76.40</td>\n",
       "      <td>4.761905</td>\n",
       "      <td>3.8200</td>\n",
       "      <td>9.6</td>\n",
       "    </tr>\n",
       "    <tr>\n",
       "      <th>2</th>\n",
       "      <td>631-41-3108</td>\n",
       "      <td>A</td>\n",
       "      <td>Yangon</td>\n",
       "      <td>Normal</td>\n",
       "      <td>Male</td>\n",
       "      <td>Home and lifestyle</td>\n",
       "      <td>46.33</td>\n",
       "      <td>7</td>\n",
       "      <td>16.2155</td>\n",
       "      <td>340.5255</td>\n",
       "      <td>3/3/2019</td>\n",
       "      <td>13:23</td>\n",
       "      <td>Credit card</td>\n",
       "      <td>324.31</td>\n",
       "      <td>4.761905</td>\n",
       "      <td>16.2155</td>\n",
       "      <td>7.4</td>\n",
       "    </tr>\n",
       "    <tr>\n",
       "      <th>3</th>\n",
       "      <td>123-19-1176</td>\n",
       "      <td>A</td>\n",
       "      <td>Yangon</td>\n",
       "      <td>Member</td>\n",
       "      <td>Male</td>\n",
       "      <td>Health and beauty</td>\n",
       "      <td>58.22</td>\n",
       "      <td>8</td>\n",
       "      <td>23.2880</td>\n",
       "      <td>489.0480</td>\n",
       "      <td>1/27/2019</td>\n",
       "      <td>20:33</td>\n",
       "      <td>Ewallet</td>\n",
       "      <td>465.76</td>\n",
       "      <td>4.761905</td>\n",
       "      <td>23.2880</td>\n",
       "      <td>8.4</td>\n",
       "    </tr>\n",
       "    <tr>\n",
       "      <th>4</th>\n",
       "      <td>373-73-7910</td>\n",
       "      <td>A</td>\n",
       "      <td>Yangon</td>\n",
       "      <td>Normal</td>\n",
       "      <td>Male</td>\n",
       "      <td>Sports and travel</td>\n",
       "      <td>86.31</td>\n",
       "      <td>7</td>\n",
       "      <td>30.2085</td>\n",
       "      <td>634.3785</td>\n",
       "      <td>2/8/2019</td>\n",
       "      <td>10:37</td>\n",
       "      <td>Ewallet</td>\n",
       "      <td>604.17</td>\n",
       "      <td>4.761905</td>\n",
       "      <td>30.2085</td>\n",
       "      <td>5.3</td>\n",
       "    </tr>\n",
       "  </tbody>\n",
       "</table>\n",
       "</div>"
      ],
      "text/plain": [
       "    Invoice ID Branch       City Customer type  Gender  \\\n",
       "0  750-67-8428      A     Yangon        Member  Female   \n",
       "1  226-31-3081      C  Naypyitaw        Normal  Female   \n",
       "2  631-41-3108      A     Yangon        Normal    Male   \n",
       "3  123-19-1176      A     Yangon        Member    Male   \n",
       "4  373-73-7910      A     Yangon        Normal    Male   \n",
       "\n",
       "             Product line  Unit price  Quantity   Tax 5%     Total       Date  \\\n",
       "0       Health and beauty       74.69         7  26.1415  548.9715   1/5/2019   \n",
       "1  Electronic accessories       15.28         5   3.8200   80.2200   3/8/2019   \n",
       "2      Home and lifestyle       46.33         7  16.2155  340.5255   3/3/2019   \n",
       "3       Health and beauty       58.22         8  23.2880  489.0480  1/27/2019   \n",
       "4       Sports and travel       86.31         7  30.2085  634.3785   2/8/2019   \n",
       "\n",
       "    Time      Payment    cogs  gross margin percentage  gross income  Rating  \n",
       "0  13:08      Ewallet  522.83                 4.761905       26.1415     9.1  \n",
       "1  10:29         Cash   76.40                 4.761905        3.8200     9.6  \n",
       "2  13:23  Credit card  324.31                 4.761905       16.2155     7.4  \n",
       "3  20:33      Ewallet  465.76                 4.761905       23.2880     8.4  \n",
       "4  10:37      Ewallet  604.17                 4.761905       30.2085     5.3  "
      ]
     },
     "execution_count": 92,
     "metadata": {},
     "output_type": "execute_result"
    }
   ],
   "source": [
    "df_churn = pd.read_csv('task_02_07_supermarket_sales_17.csv')\n",
    "df_churn.head()"
   ]
  },
  {
   "cell_type": "markdown",
   "id": "c9dbe949",
   "metadata": {},
   "source": [
    "## Описание полей датасета"
   ]
  },
  {
   "cell_type": "markdown",
   "id": "4bb910a8",
   "metadata": {},
   "source": [
    "Количество супермаркетов в большинстве густонаселенных городов растет, и конкуренция на рынке также высока. Набор данных представляет собой один из исторических данных о продажах компании-супермаркета, который был зарегистрирован в 3 разных филиалах за 3 месяца. С этим набором данных легко применять методы прогнозного анализа данных.  \n",
    "***Атрибутивная информация***  \n",
    "**Invoice ID** - Идентификационный номер счета-фактуры, сгенерированный компьютером  \n",
    "**Branch** - Филиал суперцентра (доступно 3 филиала, обозначенных буквами A, B и C).  \n",
    "**City** - Расположение суперцентра  \n",
    "**Customer type** - Тип клиентов, зарегистрированных участниками для клиентов, использующих карту участника, и обычный для клиентов без карты участника  \n",
    "**Gender** - Гендерный тип клиента  \n",
    "**Product line** - Общие группы категоризации товаров  \n",
    "**Unit price** - Цена каждого продукта в $  \n",
    "**Quantity** - Количество продуктов, приобретенных клиентом  \n",
    "**Tax 5%** - налоговый сбор в размере 5% при покупке клиентом  \n",
    "**Total** - Общая цена, включая налог  \n",
    "**Date** - Дата покупки  \n",
    "**Time** - Время покупки  \n",
    "**Payment** - Платеж, используемый клиентом для покупки  \n",
    "**cogs** - Себестоимость проданных товаров  \n",
    "**gross margin percentage**- Процент валовой прибыли  \n",
    "**gross income** - Валовой доход  \n",
    "**Rating** - Оценка стратификации покупателей по их общему опыту совершения покупок (по шкале от 1 до 10)"
   ]
  },
  {
   "cell_type": "code",
   "execution_count": 34,
   "id": "72b8bb9d",
   "metadata": {},
   "outputs": [
    {
     "data": {
      "text/markdown": [
       "Размерность датасета: **1000** rows,  **17** columns"
      ],
      "text/plain": [
       "<IPython.core.display.Markdown object>"
      ]
     },
     "metadata": {},
     "output_type": "display_data"
    }
   ],
   "source": [
    "printmd(f\"Размерность датасета: **{df_churn.shape[0]}** rows,  **{df_churn.shape[1]}** columns\")"
   ]
  },
  {
   "cell_type": "code",
   "execution_count": 93,
   "id": "86c76fb7",
   "metadata": {},
   "outputs": [
    {
     "name": "stdout",
     "output_type": "stream",
     "text": [
      "<class 'pandas.core.frame.DataFrame'>\n",
      "RangeIndex: 1000 entries, 0 to 999\n",
      "Data columns (total 17 columns):\n",
      " #   Column                   Non-Null Count  Dtype  \n",
      "---  ------                   --------------  -----  \n",
      " 0   Invoice ID               1000 non-null   object \n",
      " 1   Branch                   1000 non-null   object \n",
      " 2   City                     1000 non-null   object \n",
      " 3   Customer type            1000 non-null   object \n",
      " 4   Gender                   1000 non-null   object \n",
      " 5   Product line             1000 non-null   object \n",
      " 6   Unit price               1000 non-null   float64\n",
      " 7   Quantity                 1000 non-null   int64  \n",
      " 8   Tax 5%                   1000 non-null   float64\n",
      " 9   Total                    1000 non-null   float64\n",
      " 10  Date                     1000 non-null   object \n",
      " 11  Time                     1000 non-null   object \n",
      " 12  Payment                  1000 non-null   object \n",
      " 13  cogs                     1000 non-null   float64\n",
      " 14  gross margin percentage  1000 non-null   float64\n",
      " 15  gross income             1000 non-null   float64\n",
      " 16  Rating                   1000 non-null   float64\n",
      "dtypes: float64(7), int64(1), object(9)\n",
      "memory usage: 132.9+ KB\n"
     ]
    }
   ],
   "source": [
    "df_churn.info()"
   ]
  },
  {
   "cell_type": "markdown",
   "id": "0fa7684a",
   "metadata": {},
   "source": [
    "##  Проверка на дублированные строки"
   ]
  },
  {
   "cell_type": "code",
   "execution_count": 19,
   "id": "e6a6deec",
   "metadata": {},
   "outputs": [
    {
     "name": "stdout",
     "output_type": "stream",
     "text": [
      "Известные наблюдения: 1000 \\ Уникальные наблюдения: 1000\n"
     ]
    },
    {
     "data": {
      "text/markdown": [
       "**Дубликатов не найдено**"
      ],
      "text/plain": [
       "<IPython.core.display.Markdown object>"
      ]
     },
     "metadata": {},
     "output_type": "display_data"
    }
   ],
   "source": [
    "print('Известные наблюдения: {} \\ Уникальные наблюдения: {}'.format(len(df_churn.index), len(df_churn.drop_duplicates().index)))\n",
    "\n",
    "printmd(\"**Дубликатов не найдено**\")"
   ]
  },
  {
   "cell_type": "markdown",
   "id": "848e80ad",
   "metadata": {},
   "source": [
    "## Преобразование столба data в правильный формат"
   ]
  },
  {
   "cell_type": "code",
   "execution_count": 94,
   "id": "c6b5b7c0",
   "metadata": {},
   "outputs": [],
   "source": [
    "df_churn['Date'] = pd.to_datetime(df_churn['Date'], errors='coerce')"
   ]
  },
  {
   "cell_type": "code",
   "execution_count": 95,
   "id": "fa53d974",
   "metadata": {},
   "outputs": [
    {
     "data": {
      "text/html": [
       "<div>\n",
       "<style scoped>\n",
       "    .dataframe tbody tr th:only-of-type {\n",
       "        vertical-align: middle;\n",
       "    }\n",
       "\n",
       "    .dataframe tbody tr th {\n",
       "        vertical-align: top;\n",
       "    }\n",
       "\n",
       "    .dataframe thead th {\n",
       "        text-align: right;\n",
       "    }\n",
       "</style>\n",
       "<table border=\"1\" class=\"dataframe\">\n",
       "  <thead>\n",
       "    <tr style=\"text-align: right;\">\n",
       "      <th></th>\n",
       "      <th>Invoice ID</th>\n",
       "      <th>Branch</th>\n",
       "      <th>City</th>\n",
       "      <th>Customer type</th>\n",
       "      <th>Gender</th>\n",
       "      <th>Product line</th>\n",
       "      <th>Unit price</th>\n",
       "      <th>Quantity</th>\n",
       "      <th>Tax 5%</th>\n",
       "      <th>Total</th>\n",
       "      <th>Date</th>\n",
       "      <th>Time</th>\n",
       "      <th>Payment</th>\n",
       "      <th>cogs</th>\n",
       "      <th>gross margin percentage</th>\n",
       "      <th>gross income</th>\n",
       "      <th>Rating</th>\n",
       "    </tr>\n",
       "  </thead>\n",
       "  <tbody>\n",
       "    <tr>\n",
       "      <th>0</th>\n",
       "      <td>750-67-8428</td>\n",
       "      <td>A</td>\n",
       "      <td>Yangon</td>\n",
       "      <td>Member</td>\n",
       "      <td>Female</td>\n",
       "      <td>Health and beauty</td>\n",
       "      <td>74.69</td>\n",
       "      <td>7</td>\n",
       "      <td>26.1415</td>\n",
       "      <td>548.9715</td>\n",
       "      <td>2019-01-05</td>\n",
       "      <td>13:08</td>\n",
       "      <td>Ewallet</td>\n",
       "      <td>522.83</td>\n",
       "      <td>4.761905</td>\n",
       "      <td>26.1415</td>\n",
       "      <td>9.1</td>\n",
       "    </tr>\n",
       "    <tr>\n",
       "      <th>1</th>\n",
       "      <td>226-31-3081</td>\n",
       "      <td>C</td>\n",
       "      <td>Naypyitaw</td>\n",
       "      <td>Normal</td>\n",
       "      <td>Female</td>\n",
       "      <td>Electronic accessories</td>\n",
       "      <td>15.28</td>\n",
       "      <td>5</td>\n",
       "      <td>3.8200</td>\n",
       "      <td>80.2200</td>\n",
       "      <td>2019-03-08</td>\n",
       "      <td>10:29</td>\n",
       "      <td>Cash</td>\n",
       "      <td>76.40</td>\n",
       "      <td>4.761905</td>\n",
       "      <td>3.8200</td>\n",
       "      <td>9.6</td>\n",
       "    </tr>\n",
       "    <tr>\n",
       "      <th>2</th>\n",
       "      <td>631-41-3108</td>\n",
       "      <td>A</td>\n",
       "      <td>Yangon</td>\n",
       "      <td>Normal</td>\n",
       "      <td>Male</td>\n",
       "      <td>Home and lifestyle</td>\n",
       "      <td>46.33</td>\n",
       "      <td>7</td>\n",
       "      <td>16.2155</td>\n",
       "      <td>340.5255</td>\n",
       "      <td>2019-03-03</td>\n",
       "      <td>13:23</td>\n",
       "      <td>Credit card</td>\n",
       "      <td>324.31</td>\n",
       "      <td>4.761905</td>\n",
       "      <td>16.2155</td>\n",
       "      <td>7.4</td>\n",
       "    </tr>\n",
       "    <tr>\n",
       "      <th>3</th>\n",
       "      <td>123-19-1176</td>\n",
       "      <td>A</td>\n",
       "      <td>Yangon</td>\n",
       "      <td>Member</td>\n",
       "      <td>Male</td>\n",
       "      <td>Health and beauty</td>\n",
       "      <td>58.22</td>\n",
       "      <td>8</td>\n",
       "      <td>23.2880</td>\n",
       "      <td>489.0480</td>\n",
       "      <td>2019-01-27</td>\n",
       "      <td>20:33</td>\n",
       "      <td>Ewallet</td>\n",
       "      <td>465.76</td>\n",
       "      <td>4.761905</td>\n",
       "      <td>23.2880</td>\n",
       "      <td>8.4</td>\n",
       "    </tr>\n",
       "    <tr>\n",
       "      <th>4</th>\n",
       "      <td>373-73-7910</td>\n",
       "      <td>A</td>\n",
       "      <td>Yangon</td>\n",
       "      <td>Normal</td>\n",
       "      <td>Male</td>\n",
       "      <td>Sports and travel</td>\n",
       "      <td>86.31</td>\n",
       "      <td>7</td>\n",
       "      <td>30.2085</td>\n",
       "      <td>634.3785</td>\n",
       "      <td>2019-02-08</td>\n",
       "      <td>10:37</td>\n",
       "      <td>Ewallet</td>\n",
       "      <td>604.17</td>\n",
       "      <td>4.761905</td>\n",
       "      <td>30.2085</td>\n",
       "      <td>5.3</td>\n",
       "    </tr>\n",
       "  </tbody>\n",
       "</table>\n",
       "</div>"
      ],
      "text/plain": [
       "    Invoice ID Branch       City Customer type  Gender  \\\n",
       "0  750-67-8428      A     Yangon        Member  Female   \n",
       "1  226-31-3081      C  Naypyitaw        Normal  Female   \n",
       "2  631-41-3108      A     Yangon        Normal    Male   \n",
       "3  123-19-1176      A     Yangon        Member    Male   \n",
       "4  373-73-7910      A     Yangon        Normal    Male   \n",
       "\n",
       "             Product line  Unit price  Quantity   Tax 5%     Total       Date  \\\n",
       "0       Health and beauty       74.69         7  26.1415  548.9715 2019-01-05   \n",
       "1  Electronic accessories       15.28         5   3.8200   80.2200 2019-03-08   \n",
       "2      Home and lifestyle       46.33         7  16.2155  340.5255 2019-03-03   \n",
       "3       Health and beauty       58.22         8  23.2880  489.0480 2019-01-27   \n",
       "4       Sports and travel       86.31         7  30.2085  634.3785 2019-02-08   \n",
       "\n",
       "    Time      Payment    cogs  gross margin percentage  gross income  Rating  \n",
       "0  13:08      Ewallet  522.83                 4.761905       26.1415     9.1  \n",
       "1  10:29         Cash   76.40                 4.761905        3.8200     9.6  \n",
       "2  13:23  Credit card  324.31                 4.761905       16.2155     7.4  \n",
       "3  20:33      Ewallet  465.76                 4.761905       23.2880     8.4  \n",
       "4  10:37      Ewallet  604.17                 4.761905       30.2085     5.3  "
      ]
     },
     "execution_count": 95,
     "metadata": {},
     "output_type": "execute_result"
    }
   ],
   "source": [
    "df_churn.head()"
   ]
  },
  {
   "cell_type": "markdown",
   "id": "e0bf0c02",
   "metadata": {},
   "source": [
    "## Удаление ненужных столбцов"
   ]
  },
  {
   "cell_type": "code",
   "execution_count": 96,
   "id": "1239e1cd",
   "metadata": {},
   "outputs": [],
   "source": [
    "del df_churn[\"Invoice ID\"]"
   ]
  },
  {
   "cell_type": "code",
   "execution_count": 53,
   "id": "c74567c4",
   "metadata": {},
   "outputs": [],
   "source": [
    "# del df_churn[\"Date2\"]"
   ]
  },
  {
   "cell_type": "markdown",
   "id": "8c07abf0",
   "metadata": {},
   "source": [
    "## Описание категориальных признаков"
   ]
  },
  {
   "cell_type": "code",
   "execution_count": 97,
   "id": "2a9b4c26",
   "metadata": {},
   "outputs": [
    {
     "data": {
      "text/html": [
       "<div>\n",
       "<style scoped>\n",
       "    .dataframe tbody tr th:only-of-type {\n",
       "        vertical-align: middle;\n",
       "    }\n",
       "\n",
       "    .dataframe tbody tr th {\n",
       "        vertical-align: top;\n",
       "    }\n",
       "\n",
       "    .dataframe thead th {\n",
       "        text-align: right;\n",
       "    }\n",
       "</style>\n",
       "<table border=\"1\" class=\"dataframe\">\n",
       "  <thead>\n",
       "    <tr style=\"text-align: right;\">\n",
       "      <th></th>\n",
       "      <th>count</th>\n",
       "      <th>unique</th>\n",
       "      <th>top</th>\n",
       "      <th>freq</th>\n",
       "    </tr>\n",
       "  </thead>\n",
       "  <tbody>\n",
       "    <tr>\n",
       "      <th>Branch</th>\n",
       "      <td>1000</td>\n",
       "      <td>3</td>\n",
       "      <td>A</td>\n",
       "      <td>340</td>\n",
       "    </tr>\n",
       "    <tr>\n",
       "      <th>City</th>\n",
       "      <td>1000</td>\n",
       "      <td>3</td>\n",
       "      <td>Yangon</td>\n",
       "      <td>340</td>\n",
       "    </tr>\n",
       "    <tr>\n",
       "      <th>Customer type</th>\n",
       "      <td>1000</td>\n",
       "      <td>2</td>\n",
       "      <td>Member</td>\n",
       "      <td>501</td>\n",
       "    </tr>\n",
       "    <tr>\n",
       "      <th>Gender</th>\n",
       "      <td>1000</td>\n",
       "      <td>2</td>\n",
       "      <td>Female</td>\n",
       "      <td>501</td>\n",
       "    </tr>\n",
       "    <tr>\n",
       "      <th>Product line</th>\n",
       "      <td>1000</td>\n",
       "      <td>6</td>\n",
       "      <td>Fashion accessories</td>\n",
       "      <td>178</td>\n",
       "    </tr>\n",
       "    <tr>\n",
       "      <th>Time</th>\n",
       "      <td>1000</td>\n",
       "      <td>506</td>\n",
       "      <td>19:48</td>\n",
       "      <td>7</td>\n",
       "    </tr>\n",
       "    <tr>\n",
       "      <th>Payment</th>\n",
       "      <td>1000</td>\n",
       "      <td>3</td>\n",
       "      <td>Ewallet</td>\n",
       "      <td>345</td>\n",
       "    </tr>\n",
       "  </tbody>\n",
       "</table>\n",
       "</div>"
      ],
      "text/plain": [
       "              count unique                  top freq\n",
       "Branch         1000      3                    A  340\n",
       "City           1000      3               Yangon  340\n",
       "Customer type  1000      2               Member  501\n",
       "Gender         1000      2               Female  501\n",
       "Product line   1000      6  Fashion accessories  178\n",
       "Time           1000    506                19:48    7\n",
       "Payment        1000      3              Ewallet  345"
      ]
     },
     "execution_count": 97,
     "metadata": {},
     "output_type": "execute_result"
    }
   ],
   "source": [
    "df_churn.describe(include=['object']).T"
   ]
  },
  {
   "cell_type": "markdown",
   "id": "9fa653ab",
   "metadata": {},
   "source": [
    "## Уникальные значения для всех столбцов"
   ]
  },
  {
   "cell_type": "code",
   "execution_count": 98,
   "id": "051d0265",
   "metadata": {},
   "outputs": [
    {
     "data": {
      "text/markdown": [
       "**Уникальные значения по признакам**"
      ],
      "text/plain": [
       "<IPython.core.display.Markdown object>"
      ]
     },
     "metadata": {},
     "output_type": "display_data"
    },
    {
     "name": "stdout",
     "output_type": "stream",
     "text": [
      "Branch                3\n",
      "City                  3\n",
      "Customer type         2\n",
      "Gender                2\n",
      "Product line          6\n",
      "Unit price            943\n",
      "Quantity              10\n",
      "Tax 5%                990\n",
      "Total                 990\n",
      "Date                  89\n",
      "Time                  506\n",
      "Payment               3\n",
      "cogs                  990\n",
      "gross margin percentage 1\n",
      "gross income          990\n",
      "Rating                61\n"
     ]
    }
   ],
   "source": [
    "printmd(\"**Уникальные значения по признакам**\")\n",
    "for feature in df_churn.columns:\n",
    "    uniq = np.unique(df_churn[feature])\n",
    "    print(feature.ljust(left_padding),len(uniq))"
   ]
  },
  {
   "cell_type": "markdown",
   "id": "ca0021af",
   "metadata": {},
   "source": [
    "## Отсутствующие значения"
   ]
  },
  {
   "cell_type": "code",
   "execution_count": 99,
   "id": "a6cb7610",
   "metadata": {},
   "outputs": [
    {
     "data": {
      "text/plain": [
       "Branch                     0\n",
       "City                       0\n",
       "Customer type              0\n",
       "Gender                     0\n",
       "Product line               0\n",
       "Unit price                 0\n",
       "Quantity                   0\n",
       "Tax 5%                     0\n",
       "Total                      0\n",
       "Date                       0\n",
       "Time                       0\n",
       "Payment                    0\n",
       "cogs                       0\n",
       "gross margin percentage    0\n",
       "gross income               0\n",
       "Rating                     0\n",
       "dtype: int64"
      ]
     },
     "execution_count": 99,
     "metadata": {},
     "output_type": "execute_result"
    }
   ],
   "source": [
    "df_churn.isna().sum()"
   ]
  },
  {
   "cell_type": "code",
   "execution_count": 100,
   "id": "d0541ce8",
   "metadata": {},
   "outputs": [
    {
     "data": {
      "text/markdown": [
       "'**isna**' применимо только для числового типа данных<br>"
      ],
      "text/plain": [
       "<IPython.core.display.Markdown object>"
      ]
     },
     "metadata": {},
     "output_type": "display_data"
    },
    {
     "data": {
      "text/markdown": [
       "Проверка отсутствующих значений для типа данных объекта"
      ],
      "text/plain": [
       "<IPython.core.display.Markdown object>"
      ]
     },
     "metadata": {},
     "output_type": "display_data"
    },
    {
     "name": "stdout",
     "output_type": "stream",
     "text": [
      "Branch                0\n",
      "City                  0\n",
      "Customer type         0\n",
      "Gender                0\n",
      "Time                  0\n",
      "Product line          0\n",
      "Payment               0\n"
     ]
    }
   ],
   "source": [
    "cat_cols = set(df_churn.columns) - set(df_churn._get_numeric_data().columns) - set(df_churn.select_dtypes(include=['datetime64']).columns)\n",
    "\n",
    "printmd(\"'**isna**' применимо только для числового типа данных<br>\")\n",
    "printmd(\"Проверка отсутствующих значений для типа данных объекта\")\n",
    "\n",
    "for cat in cat_cols:\n",
    "    print(cat.ljust(left_padding), df_churn[cat].apply(lambda x:len(x.strip()) == 0 or x.strip().lower() == 'nan').sum())\n"
   ]
  },
  {
   "cell_type": "code",
   "execution_count": 106,
   "id": "943954f7",
   "metadata": {},
   "outputs": [
    {
     "name": "stdout",
     "output_type": "stream",
     "text": [
      "<class 'pandas.core.frame.DataFrame'>\n",
      "RangeIndex: 1000 entries, 0 to 999\n",
      "Data columns (total 16 columns):\n",
      " #   Column                   Non-Null Count  Dtype         \n",
      "---  ------                   --------------  -----         \n",
      " 0   Branch                   1000 non-null   object        \n",
      " 1   City                     1000 non-null   object        \n",
      " 2   Customer type            1000 non-null   object        \n",
      " 3   Gender                   1000 non-null   object        \n",
      " 4   Product line             1000 non-null   object        \n",
      " 5   Unit price               1000 non-null   float64       \n",
      " 6   Quantity                 1000 non-null   int64         \n",
      " 7   Tax 5%                   1000 non-null   float64       \n",
      " 8   Total                    1000 non-null   float64       \n",
      " 9   Date                     1000 non-null   datetime64[ns]\n",
      " 10  Time                     1000 non-null   object        \n",
      " 11  Payment                  1000 non-null   object        \n",
      " 12  cogs                     1000 non-null   float64       \n",
      " 13  gross margin percentage  1000 non-null   float64       \n",
      " 14  gross income             1000 non-null   float64       \n",
      " 15  Rating                   1000 non-null   float64       \n",
      "dtypes: datetime64[ns](1), float64(7), int64(1), object(7)\n",
      "memory usage: 125.1+ KB\n"
     ]
    }
   ],
   "source": [
    "df_churn.info()"
   ]
  },
  {
   "cell_type": "markdown",
   "id": "b852a1c6",
   "metadata": {},
   "source": [
    "## Тепловая диаграмма"
   ]
  },
  {
   "cell_type": "code",
   "execution_count": 177,
   "id": "25862c1c",
   "metadata": {},
   "outputs": [
    {
     "data": {
      "image/png": "[encoded data removed]",
      "text/plain": [
       "<Figure size 1080x1080 with 2 Axes>"
      ]
     },
     "metadata": {
      "needs_background": "light"
     },
     "output_type": "display_data"
    }
   ],
   "source": [
    "corr_matrix = df_churn.corr()\n",
    "\n",
    "plt.figure(figsize=(15, 15))\n",
    "plt.imshow(corr_matrix, cmap='Greens')\n",
    "plt.colorbar()  # добавим шкалу интенсивности цвета\n",
    "\n",
    "plt.xticks(range(len(corr_matrix.columns)), corr_matrix.columns)\n",
    "plt.yticks(range(len(corr_matrix)), corr_matrix.index);"
   ]
  },
  {
   "cell_type": "markdown",
   "id": "a4078539",
   "metadata": {},
   "source": [
    "## Группировка по гистограмме"
   ]
  },
  {
   "cell_type": "code",
   "execution_count": 104,
   "id": "4a60e545",
   "metadata": {},
   "outputs": [],
   "source": [
    "def binning_feature(feature):\n",
    "    plt.hist(df_churn[feature])\n",
    "\n",
    "    # set x/y labels and plot title\n",
    "    plt.xlabel(f\"{feature.title()}\")\n",
    "    plt.ylabel(\"Count\")\n",
    "    plt.title(f\"{feature.title()} Bins\")\n",
    "    plt.show()\n",
    "\n",
    "    bins = np.linspace(min(df_churn[feature]), max(df_churn[feature]), 4)\n",
    "    \n",
    "    printmd(\"**Value Range**\")\n",
    "    \n",
    "    printmd(f\"Low ({bins[0] : .2f} - {bins[1]: .2f})\")\n",
    "    printmd(f\"Medium ({bins[1]: .2f} - {bins[2]: .2f})\")\n",
    "    printmd(f\"High ({bins[2]: .2f} - {bins[3]: .2f})\")\n",
    "\n",
    "    group_names = ['Low', 'Medium', 'High']\n",
    "\n",
    "    df_churn.insert(df_churn.shape[1]-1,f'{feature}-binned', pd.cut(df_churn[feature], bins, labels=group_names, include_lowest=True))\n",
    "    display(df_churn[[feature, f'{feature}-binned']].head(10))\n",
    "\n",
    "\n",
    "    # count values\n",
    "    printmd(\"<br>**Binning Distribution**<br>\")\n",
    "    display(df_churn[f'{feature}-binned'].value_counts())\n",
    "\n",
    "\n",
    "    # plot the distribution of each bin\n",
    "    plt.bar(group_names, df_churn[f'{feature}-binned'].value_counts())\n",
    "    # px.bar(data_canada, x='year', y='pop')\n",
    "\n",
    "    # set x/y labels and plot title\n",
    "    plt.xlabel(f\"{feature.title()}\")\n",
    "    plt.ylabel(\"Count\")\n",
    "    plt.title(f\"{feature.title()} Bins\")\n",
    "    plt.show()"
   ]
  },
  {
   "cell_type": "markdown",
   "id": "7915fb34",
   "metadata": {},
   "source": [
    "### binning_feature('Total')"
   ]
  },
  {
   "cell_type": "code",
   "execution_count": 107,
   "id": "20f843fd",
   "metadata": {},
   "outputs": [
    {
     "data": {
      "image/png": "[encoded data removed]",
      "text/plain": [
       "<Figure size 432x288 with 1 Axes>"
      ]
     },
     "metadata": {
      "needs_background": "light"
     },
     "output_type": "display_data"
    },
    {
     "data": {
      "text/markdown": [
       "**Value Range**"
      ],
      "text/plain": [
       "<IPython.core.display.Markdown object>"
      ]
     },
     "metadata": {},
     "output_type": "display_data"
    },
    {
     "data": {
      "text/markdown": [
       "Low ( 10.68 -  354.67)"
      ],
      "text/plain": [
       "<IPython.core.display.Markdown object>"
      ]
     },
     "metadata": {},
     "output_type": "display_data"
    },
    {
     "data": {
      "text/markdown": [
       "Medium ( 354.67 -  698.66)"
      ],
      "text/plain": [
       "<IPython.core.display.Markdown object>"
      ]
     },
     "metadata": {},
     "output_type": "display_data"
    },
    {
     "data": {
      "text/markdown": [
       "High ( 698.66 -  1042.65)"
      ],
      "text/plain": [
       "<IPython.core.display.Markdown object>"
      ]
     },
     "metadata": {},
     "output_type": "display_data"
    },
    {
     "data": {
      "text/html": [
       "<div>\n",
       "<style scoped>\n",
       "    .dataframe tbody tr th:only-of-type {\n",
       "        vertical-align: middle;\n",
       "    }\n",
       "\n",
       "    .dataframe tbody tr th {\n",
       "        vertical-align: top;\n",
       "    }\n",
       "\n",
       "    .dataframe thead th {\n",
       "        text-align: right;\n",
       "    }\n",
       "</style>\n",
       "<table border=\"1\" class=\"dataframe\">\n",
       "  <thead>\n",
       "    <tr style=\"text-align: right;\">\n",
       "      <th></th>\n",
       "      <th>Total</th>\n",
       "      <th>Total-binned</th>\n",
       "    </tr>\n",
       "  </thead>\n",
       "  <tbody>\n",
       "    <tr>\n",
       "      <th>0</th>\n",
       "      <td>548.9715</td>\n",
       "      <td>Medium</td>\n",
       "    </tr>\n",
       "    <tr>\n",
       "      <th>1</th>\n",
       "      <td>80.2200</td>\n",
       "      <td>Low</td>\n",
       "    </tr>\n",
       "    <tr>\n",
       "      <th>2</th>\n",
       "      <td>340.5255</td>\n",
       "      <td>Low</td>\n",
       "    </tr>\n",
       "    <tr>\n",
       "      <th>3</th>\n",
       "      <td>489.0480</td>\n",
       "      <td>Medium</td>\n",
       "    </tr>\n",
       "    <tr>\n",
       "      <th>4</th>\n",
       "      <td>634.3785</td>\n",
       "      <td>Medium</td>\n",
       "    </tr>\n",
       "    <tr>\n",
       "      <th>5</th>\n",
       "      <td>627.6165</td>\n",
       "      <td>Medium</td>\n",
       "    </tr>\n",
       "    <tr>\n",
       "      <th>6</th>\n",
       "      <td>433.6920</td>\n",
       "      <td>Medium</td>\n",
       "    </tr>\n",
       "    <tr>\n",
       "      <th>7</th>\n",
       "      <td>772.3800</td>\n",
       "      <td>High</td>\n",
       "    </tr>\n",
       "    <tr>\n",
       "      <th>8</th>\n",
       "      <td>76.1460</td>\n",
       "      <td>Low</td>\n",
       "    </tr>\n",
       "    <tr>\n",
       "      <th>9</th>\n",
       "      <td>172.7460</td>\n",
       "      <td>Low</td>\n",
       "    </tr>\n",
       "  </tbody>\n",
       "</table>\n",
       "</div>"
      ],
      "text/plain": [
       "      Total Total-binned\n",
       "0  548.9715       Medium\n",
       "1   80.2200          Low\n",
       "2  340.5255          Low\n",
       "3  489.0480       Medium\n",
       "4  634.3785       Medium\n",
       "5  627.6165       Medium\n",
       "6  433.6920       Medium\n",
       "7  772.3800         High\n",
       "8   76.1460          Low\n",
       "9  172.7460          Low"
      ]
     },
     "metadata": {},
     "output_type": "display_data"
    },
    {
     "data": {
      "text/markdown": [
       "<br>**Binning Distribution**<br>"
      ],
      "text/plain": [
       "<IPython.core.display.Markdown object>"
      ]
     },
     "metadata": {},
     "output_type": "display_data"
    },
    {
     "data": {
      "text/plain": [
       "Low       636\n",
       "Medium    255\n",
       "High      109\n",
       "Name: Total-binned, dtype: int64"
      ]
     },
     "metadata": {},
     "output_type": "display_data"
    },
    {
     "data": {
      "image/png": "[encoded data removed]",
      "text/plain": [
       "<Figure size 432x288 with 1 Axes>"
      ]
     },
     "metadata": {
      "needs_background": "light"
     },
     "output_type": "display_data"
    }
   ],
   "source": [
    "binning_feature('Total')"
   ]
  },
  {
   "cell_type": "markdown",
   "id": "a583246f",
   "metadata": {},
   "source": [
    "### binning_feature('Unit price')"
   ]
  },
  {
   "cell_type": "code",
   "execution_count": 109,
   "id": "710fabd5",
   "metadata": {},
   "outputs": [
    {
     "data": {
      "image/png": "[encoded data removed]",
      "text/plain": [
       "<Figure size 432x288 with 1 Axes>"
      ]
     },
     "metadata": {
      "needs_background": "light"
     },
     "output_type": "display_data"
    },
    {
     "data": {
      "text/markdown": [
       "**Value Range**"
      ],
      "text/plain": [
       "<IPython.core.display.Markdown object>"
      ]
     },
     "metadata": {},
     "output_type": "display_data"
    },
    {
     "data": {
      "text/markdown": [
       "Low ( 10.08 -  40.04)"
      ],
      "text/plain": [
       "<IPython.core.display.Markdown object>"
      ]
     },
     "metadata": {},
     "output_type": "display_data"
    },
    {
     "data": {
      "text/markdown": [
       "Medium ( 40.04 -  70.00)"
      ],
      "text/plain": [
       "<IPython.core.display.Markdown object>"
      ]
     },
     "metadata": {},
     "output_type": "display_data"
    },
    {
     "data": {
      "text/markdown": [
       "High ( 70.00 -  99.96)"
      ],
      "text/plain": [
       "<IPython.core.display.Markdown object>"
      ]
     },
     "metadata": {},
     "output_type": "display_data"
    },
    {
     "data": {
      "text/html": [
       "<div>\n",
       "<style scoped>\n",
       "    .dataframe tbody tr th:only-of-type {\n",
       "        vertical-align: middle;\n",
       "    }\n",
       "\n",
       "    .dataframe tbody tr th {\n",
       "        vertical-align: top;\n",
       "    }\n",
       "\n",
       "    .dataframe thead th {\n",
       "        text-align: right;\n",
       "    }\n",
       "</style>\n",
       "<table border=\"1\" class=\"dataframe\">\n",
       "  <thead>\n",
       "    <tr style=\"text-align: right;\">\n",
       "      <th></th>\n",
       "      <th>Unit price</th>\n",
       "      <th>Unit price-binned</th>\n",
       "    </tr>\n",
       "  </thead>\n",
       "  <tbody>\n",
       "    <tr>\n",
       "      <th>0</th>\n",
       "      <td>74.69</td>\n",
       "      <td>High</td>\n",
       "    </tr>\n",
       "    <tr>\n",
       "      <th>1</th>\n",
       "      <td>15.28</td>\n",
       "      <td>Low</td>\n",
       "    </tr>\n",
       "    <tr>\n",
       "      <th>2</th>\n",
       "      <td>46.33</td>\n",
       "      <td>Medium</td>\n",
       "    </tr>\n",
       "    <tr>\n",
       "      <th>3</th>\n",
       "      <td>58.22</td>\n",
       "      <td>Medium</td>\n",
       "    </tr>\n",
       "    <tr>\n",
       "      <th>4</th>\n",
       "      <td>86.31</td>\n",
       "      <td>High</td>\n",
       "    </tr>\n",
       "    <tr>\n",
       "      <th>5</th>\n",
       "      <td>85.39</td>\n",
       "      <td>High</td>\n",
       "    </tr>\n",
       "    <tr>\n",
       "      <th>6</th>\n",
       "      <td>68.84</td>\n",
       "      <td>Medium</td>\n",
       "    </tr>\n",
       "    <tr>\n",
       "      <th>7</th>\n",
       "      <td>73.56</td>\n",
       "      <td>High</td>\n",
       "    </tr>\n",
       "    <tr>\n",
       "      <th>8</th>\n",
       "      <td>36.26</td>\n",
       "      <td>Low</td>\n",
       "    </tr>\n",
       "    <tr>\n",
       "      <th>9</th>\n",
       "      <td>54.84</td>\n",
       "      <td>Medium</td>\n",
       "    </tr>\n",
       "  </tbody>\n",
       "</table>\n",
       "</div>"
      ],
      "text/plain": [
       "   Unit price Unit price-binned\n",
       "0       74.69              High\n",
       "1       15.28               Low\n",
       "2       46.33            Medium\n",
       "3       58.22            Medium\n",
       "4       86.31              High\n",
       "5       85.39              High\n",
       "6       68.84            Medium\n",
       "7       73.56              High\n",
       "8       36.26               Low\n",
       "9       54.84            Medium"
      ]
     },
     "metadata": {},
     "output_type": "display_data"
    },
    {
     "data": {
      "text/markdown": [
       "<br>**Binning Distribution**<br>"
      ],
      "text/plain": [
       "<IPython.core.display.Markdown object>"
      ]
     },
     "metadata": {},
     "output_type": "display_data"
    },
    {
     "data": {
      "text/plain": [
       "High      352\n",
       "Low       332\n",
       "Medium    316\n",
       "Name: Unit price-binned, dtype: int64"
      ]
     },
     "metadata": {},
     "output_type": "display_data"
    },
    {
     "data": {
      "image/png": "[encoded data removed]",
      "text/plain": [
       "<Figure size 432x288 with 1 Axes>"
      ]
     },
     "metadata": {
      "needs_background": "light"
     },
     "output_type": "display_data"
    }
   ],
   "source": [
    "binning_feature('Unit price')"
   ]
  },
  {
   "cell_type": "markdown",
   "id": "386933a4",
   "metadata": {},
   "source": [
    "### binning_feature('Quantity')"
   ]
  },
  {
   "cell_type": "code",
   "execution_count": 111,
   "id": "9cf9ab87",
   "metadata": {},
   "outputs": [
    {
     "data": {
      "image/png": "[encoded data removed]",
      "text/plain": [
       "<Figure size 432x288 with 1 Axes>"
      ]
     },
     "metadata": {
      "needs_background": "light"
     },
     "output_type": "display_data"
    },
    {
     "data": {
      "text/markdown": [
       "**Value Range**"
      ],
      "text/plain": [
       "<IPython.core.display.Markdown object>"
      ]
     },
     "metadata": {},
     "output_type": "display_data"
    },
    {
     "data": {
      "text/markdown": [
       "Low ( 1.00 -  4.00)"
      ],
      "text/plain": [
       "<IPython.core.display.Markdown object>"
      ]
     },
     "metadata": {},
     "output_type": "display_data"
    },
    {
     "data": {
      "text/markdown": [
       "Medium ( 4.00 -  7.00)"
      ],
      "text/plain": [
       "<IPython.core.display.Markdown object>"
      ]
     },
     "metadata": {},
     "output_type": "display_data"
    },
    {
     "data": {
      "text/markdown": [
       "High ( 7.00 -  10.00)"
      ],
      "text/plain": [
       "<IPython.core.display.Markdown object>"
      ]
     },
     "metadata": {},
     "output_type": "display_data"
    },
    {
     "data": {
      "text/html": [
       "<div>\n",
       "<style scoped>\n",
       "    .dataframe tbody tr th:only-of-type {\n",
       "        vertical-align: middle;\n",
       "    }\n",
       "\n",
       "    .dataframe tbody tr th {\n",
       "        vertical-align: top;\n",
       "    }\n",
       "\n",
       "    .dataframe thead th {\n",
       "        text-align: right;\n",
       "    }\n",
       "</style>\n",
       "<table border=\"1\" class=\"dataframe\">\n",
       "  <thead>\n",
       "    <tr style=\"text-align: right;\">\n",
       "      <th></th>\n",
       "      <th>Quantity</th>\n",
       "      <th>Quantity-binned</th>\n",
       "    </tr>\n",
       "  </thead>\n",
       "  <tbody>\n",
       "    <tr>\n",
       "      <th>0</th>\n",
       "      <td>7</td>\n",
       "      <td>Medium</td>\n",
       "    </tr>\n",
       "    <tr>\n",
       "      <th>1</th>\n",
       "      <td>5</td>\n",
       "      <td>Medium</td>\n",
       "    </tr>\n",
       "    <tr>\n",
       "      <th>2</th>\n",
       "      <td>7</td>\n",
       "      <td>Medium</td>\n",
       "    </tr>\n",
       "    <tr>\n",
       "      <th>3</th>\n",
       "      <td>8</td>\n",
       "      <td>High</td>\n",
       "    </tr>\n",
       "    <tr>\n",
       "      <th>4</th>\n",
       "      <td>7</td>\n",
       "      <td>Medium</td>\n",
       "    </tr>\n",
       "    <tr>\n",
       "      <th>5</th>\n",
       "      <td>7</td>\n",
       "      <td>Medium</td>\n",
       "    </tr>\n",
       "    <tr>\n",
       "      <th>6</th>\n",
       "      <td>6</td>\n",
       "      <td>Medium</td>\n",
       "    </tr>\n",
       "    <tr>\n",
       "      <th>7</th>\n",
       "      <td>10</td>\n",
       "      <td>High</td>\n",
       "    </tr>\n",
       "    <tr>\n",
       "      <th>8</th>\n",
       "      <td>2</td>\n",
       "      <td>Low</td>\n",
       "    </tr>\n",
       "    <tr>\n",
       "      <th>9</th>\n",
       "      <td>3</td>\n",
       "      <td>Low</td>\n",
       "    </tr>\n",
       "  </tbody>\n",
       "</table>\n",
       "</div>"
      ],
      "text/plain": [
       "   Quantity Quantity-binned\n",
       "0         7          Medium\n",
       "1         5          Medium\n",
       "2         7          Medium\n",
       "3         8            High\n",
       "4         7          Medium\n",
       "5         7          Medium\n",
       "6         6          Medium\n",
       "7        10            High\n",
       "8         2             Low\n",
       "9         3             Low"
      ]
     },
     "metadata": {},
     "output_type": "display_data"
    },
    {
     "data": {
      "text/markdown": [
       "<br>**Binning Distribution**<br>"
      ],
      "text/plain": [
       "<IPython.core.display.Markdown object>"
      ]
     },
     "metadata": {},
     "output_type": "display_data"
    },
    {
     "data": {
      "text/plain": [
       "Low       402\n",
       "Medium    302\n",
       "High      296\n",
       "Name: Quantity-binned, dtype: int64"
      ]
     },
     "metadata": {},
     "output_type": "display_data"
    },
    {
     "data": {
      "image/png": "[encoded data removed]",
      "text/plain": [
       "<Figure size 432x288 with 1 Axes>"
      ]
     },
     "metadata": {
      "needs_background": "light"
     },
     "output_type": "display_data"
    }
   ],
   "source": [
    " binning_feature('Quantity')"
   ]
  },
  {
   "cell_type": "markdown",
   "id": "58646be5",
   "metadata": {},
   "source": [
    "###  binning_feature('cogs')"
   ]
  },
  {
   "cell_type": "code",
   "execution_count": 112,
   "id": "8ffdc50c",
   "metadata": {},
   "outputs": [
    {
     "data": {
      "image/png": "[encoded data removed]",
      "text/plain": [
       "<Figure size 432x288 with 1 Axes>"
      ]
     },
     "metadata": {
      "needs_background": "light"
     },
     "output_type": "display_data"
    },
    {
     "data": {
      "text/markdown": [
       "**Value Range**"
      ],
      "text/plain": [
       "<IPython.core.display.Markdown object>"
      ]
     },
     "metadata": {},
     "output_type": "display_data"
    },
    {
     "data": {
      "text/markdown": [
       "Low ( 10.17 -  337.78)"
      ],
      "text/plain": [
       "<IPython.core.display.Markdown object>"
      ]
     },
     "metadata": {},
     "output_type": "display_data"
    },
    {
     "data": {
      "text/markdown": [
       "Medium ( 337.78 -  665.39)"
      ],
      "text/plain": [
       "<IPython.core.display.Markdown object>"
      ]
     },
     "metadata": {},
     "output_type": "display_data"
    },
    {
     "data": {
      "text/markdown": [
       "High ( 665.39 -  993.00)"
      ],
      "text/plain": [
       "<IPython.core.display.Markdown object>"
      ]
     },
     "metadata": {},
     "output_type": "display_data"
    },
    {
     "data": {
      "text/html": [
       "<div>\n",
       "<style scoped>\n",
       "    .dataframe tbody tr th:only-of-type {\n",
       "        vertical-align: middle;\n",
       "    }\n",
       "\n",
       "    .dataframe tbody tr th {\n",
       "        vertical-align: top;\n",
       "    }\n",
       "\n",
       "    .dataframe thead th {\n",
       "        text-align: right;\n",
       "    }\n",
       "</style>\n",
       "<table border=\"1\" class=\"dataframe\">\n",
       "  <thead>\n",
       "    <tr style=\"text-align: right;\">\n",
       "      <th></th>\n",
       "      <th>cogs</th>\n",
       "      <th>cogs-binned</th>\n",
       "    </tr>\n",
       "  </thead>\n",
       "  <tbody>\n",
       "    <tr>\n",
       "      <th>0</th>\n",
       "      <td>522.83</td>\n",
       "      <td>Medium</td>\n",
       "    </tr>\n",
       "    <tr>\n",
       "      <th>1</th>\n",
       "      <td>76.40</td>\n",
       "      <td>Low</td>\n",
       "    </tr>\n",
       "    <tr>\n",
       "      <th>2</th>\n",
       "      <td>324.31</td>\n",
       "      <td>Low</td>\n",
       "    </tr>\n",
       "    <tr>\n",
       "      <th>3</th>\n",
       "      <td>465.76</td>\n",
       "      <td>Medium</td>\n",
       "    </tr>\n",
       "    <tr>\n",
       "      <th>4</th>\n",
       "      <td>604.17</td>\n",
       "      <td>Medium</td>\n",
       "    </tr>\n",
       "    <tr>\n",
       "      <th>5</th>\n",
       "      <td>597.73</td>\n",
       "      <td>Medium</td>\n",
       "    </tr>\n",
       "    <tr>\n",
       "      <th>6</th>\n",
       "      <td>413.04</td>\n",
       "      <td>Medium</td>\n",
       "    </tr>\n",
       "    <tr>\n",
       "      <th>7</th>\n",
       "      <td>735.60</td>\n",
       "      <td>High</td>\n",
       "    </tr>\n",
       "    <tr>\n",
       "      <th>8</th>\n",
       "      <td>72.52</td>\n",
       "      <td>Low</td>\n",
       "    </tr>\n",
       "    <tr>\n",
       "      <th>9</th>\n",
       "      <td>164.52</td>\n",
       "      <td>Low</td>\n",
       "    </tr>\n",
       "  </tbody>\n",
       "</table>\n",
       "</div>"
      ],
      "text/plain": [
       "     cogs cogs-binned\n",
       "0  522.83      Medium\n",
       "1   76.40         Low\n",
       "2  324.31         Low\n",
       "3  465.76      Medium\n",
       "4  604.17      Medium\n",
       "5  597.73      Medium\n",
       "6  413.04      Medium\n",
       "7  735.60        High\n",
       "8   72.52         Low\n",
       "9  164.52         Low"
      ]
     },
     "metadata": {},
     "output_type": "display_data"
    },
    {
     "data": {
      "text/markdown": [
       "<br>**Binning Distribution**<br>"
      ],
      "text/plain": [
       "<IPython.core.display.Markdown object>"
      ]
     },
     "metadata": {},
     "output_type": "display_data"
    },
    {
     "data": {
      "text/plain": [
       "Low       636\n",
       "Medium    255\n",
       "High      109\n",
       "Name: cogs-binned, dtype: int64"
      ]
     },
     "metadata": {},
     "output_type": "display_data"
    },
    {
     "data": {
      "image/png": "[encoded data removed]",
      "text/plain": [
       "<Figure size 432x288 with 1 Axes>"
      ]
     },
     "metadata": {
      "needs_background": "light"
     },
     "output_type": "display_data"
    }
   ],
   "source": [
    "binning_feature('cogs')"
   ]
  },
  {
   "cell_type": "markdown",
   "id": "3473922e",
   "metadata": {},
   "source": [
    "### binning_feature('gross income')"
   ]
  },
  {
   "cell_type": "code",
   "execution_count": 145,
   "id": "0c27610c",
   "metadata": {},
   "outputs": [
    {
     "data": {
      "image/png": "[encoded data removed]",
      "text/plain": [
       "<Figure size 432x288 with 1 Axes>"
      ]
     },
     "metadata": {
      "needs_background": "light"
     },
     "output_type": "display_data"
    },
    {
     "data": {
      "text/markdown": [
       "**Value Range**"
      ],
      "text/plain": [
       "<IPython.core.display.Markdown object>"
      ]
     },
     "metadata": {},
     "output_type": "display_data"
    },
    {
     "data": {
      "text/markdown": [
       "Low ( 0.51 -  16.89)"
      ],
      "text/plain": [
       "<IPython.core.display.Markdown object>"
      ]
     },
     "metadata": {},
     "output_type": "display_data"
    },
    {
     "data": {
      "text/markdown": [
       "Medium ( 16.89 -  33.27)"
      ],
      "text/plain": [
       "<IPython.core.display.Markdown object>"
      ]
     },
     "metadata": {},
     "output_type": "display_data"
    },
    {
     "data": {
      "text/markdown": [
       "High ( 33.27 -  49.65)"
      ],
      "text/plain": [
       "<IPython.core.display.Markdown object>"
      ]
     },
     "metadata": {},
     "output_type": "display_data"
    },
    {
     "data": {
      "text/html": [
       "<div>\n",
       "<style scoped>\n",
       "    .dataframe tbody tr th:only-of-type {\n",
       "        vertical-align: middle;\n",
       "    }\n",
       "\n",
       "    .dataframe tbody tr th {\n",
       "        vertical-align: top;\n",
       "    }\n",
       "\n",
       "    .dataframe thead th {\n",
       "        text-align: right;\n",
       "    }\n",
       "</style>\n",
       "<table border=\"1\" class=\"dataframe\">\n",
       "  <thead>\n",
       "    <tr style=\"text-align: right;\">\n",
       "      <th></th>\n",
       "      <th>gross income</th>\n",
       "      <th>gross income-binned</th>\n",
       "    </tr>\n",
       "  </thead>\n",
       "  <tbody>\n",
       "    <tr>\n",
       "      <th>0</th>\n",
       "      <td>26.1415</td>\n",
       "      <td>Medium</td>\n",
       "    </tr>\n",
       "    <tr>\n",
       "      <th>1</th>\n",
       "      <td>3.8200</td>\n",
       "      <td>Low</td>\n",
       "    </tr>\n",
       "    <tr>\n",
       "      <th>2</th>\n",
       "      <td>16.2155</td>\n",
       "      <td>Low</td>\n",
       "    </tr>\n",
       "    <tr>\n",
       "      <th>3</th>\n",
       "      <td>23.2880</td>\n",
       "      <td>Medium</td>\n",
       "    </tr>\n",
       "    <tr>\n",
       "      <th>4</th>\n",
       "      <td>30.2085</td>\n",
       "      <td>Medium</td>\n",
       "    </tr>\n",
       "    <tr>\n",
       "      <th>5</th>\n",
       "      <td>29.8865</td>\n",
       "      <td>Medium</td>\n",
       "    </tr>\n",
       "    <tr>\n",
       "      <th>6</th>\n",
       "      <td>20.6520</td>\n",
       "      <td>Medium</td>\n",
       "    </tr>\n",
       "    <tr>\n",
       "      <th>7</th>\n",
       "      <td>36.7800</td>\n",
       "      <td>High</td>\n",
       "    </tr>\n",
       "    <tr>\n",
       "      <th>8</th>\n",
       "      <td>3.6260</td>\n",
       "      <td>Low</td>\n",
       "    </tr>\n",
       "    <tr>\n",
       "      <th>9</th>\n",
       "      <td>8.2260</td>\n",
       "      <td>Low</td>\n",
       "    </tr>\n",
       "  </tbody>\n",
       "</table>\n",
       "</div>"
      ],
      "text/plain": [
       "   gross income gross income-binned\n",
       "0       26.1415              Medium\n",
       "1        3.8200                 Low\n",
       "2       16.2155                 Low\n",
       "3       23.2880              Medium\n",
       "4       30.2085              Medium\n",
       "5       29.8865              Medium\n",
       "6       20.6520              Medium\n",
       "7       36.7800                High\n",
       "8        3.6260                 Low\n",
       "9        8.2260                 Low"
      ]
     },
     "metadata": {},
     "output_type": "display_data"
    },
    {
     "data": {
      "text/markdown": [
       "<br>**Binning Distribution**<br>"
      ],
      "text/plain": [
       "<IPython.core.display.Markdown object>"
      ]
     },
     "metadata": {},
     "output_type": "display_data"
    },
    {
     "data": {
      "text/plain": [
       "Low       636\n",
       "Medium    255\n",
       "High      109\n",
       "Name: gross income-binned, dtype: int64"
      ]
     },
     "metadata": {},
     "output_type": "display_data"
    },
    {
     "data": {
      "image/png": "[encoded data removed]",
      "text/plain": [
       "<Figure size 432x288 with 1 Axes>"
      ]
     },
     "metadata": {
      "needs_background": "light"
     },
     "output_type": "display_data"
    }
   ],
   "source": [
    "binning_feature('gross income')"
   ]
  },
  {
   "cell_type": "markdown",
   "id": "8d2842bc",
   "metadata": {},
   "source": [
    "### binning_feature('Rating')"
   ]
  },
  {
   "cell_type": "code",
   "execution_count": 146,
   "id": "03167ea8",
   "metadata": {},
   "outputs": [
    {
     "data": {
      "image/png": "[encoded data removed]",
      "text/plain": [
       "<Figure size 432x288 with 1 Axes>"
      ]
     },
     "metadata": {
      "needs_background": "light"
     },
     "output_type": "display_data"
    },
    {
     "data": {
      "text/markdown": [
       "**Value Range**"
      ],
      "text/plain": [
       "<IPython.core.display.Markdown object>"
      ]
     },
     "metadata": {},
     "output_type": "display_data"
    },
    {
     "data": {
      "text/markdown": [
       "Low ( 4.00 -  6.00)"
      ],
      "text/plain": [
       "<IPython.core.display.Markdown object>"
      ]
     },
     "metadata": {},
     "output_type": "display_data"
    },
    {
     "data": {
      "text/markdown": [
       "Medium ( 6.00 -  8.00)"
      ],
      "text/plain": [
       "<IPython.core.display.Markdown object>"
      ]
     },
     "metadata": {},
     "output_type": "display_data"
    },
    {
     "data": {
      "text/markdown": [
       "High ( 8.00 -  10.00)"
      ],
      "text/plain": [
       "<IPython.core.display.Markdown object>"
      ]
     },
     "metadata": {},
     "output_type": "display_data"
    },
    {
     "data": {
      "text/html": [
       "<div>\n",
       "<style scoped>\n",
       "    .dataframe tbody tr th:only-of-type {\n",
       "        vertical-align: middle;\n",
       "    }\n",
       "\n",
       "    .dataframe tbody tr th {\n",
       "        vertical-align: top;\n",
       "    }\n",
       "\n",
       "    .dataframe thead th {\n",
       "        text-align: right;\n",
       "    }\n",
       "</style>\n",
       "<table border=\"1\" class=\"dataframe\">\n",
       "  <thead>\n",
       "    <tr style=\"text-align: right;\">\n",
       "      <th></th>\n",
       "      <th>Rating</th>\n",
       "      <th>Rating-binned</th>\n",
       "    </tr>\n",
       "  </thead>\n",
       "  <tbody>\n",
       "    <tr>\n",
       "      <th>0</th>\n",
       "      <td>9.1</td>\n",
       "      <td>High</td>\n",
       "    </tr>\n",
       "    <tr>\n",
       "      <th>1</th>\n",
       "      <td>9.6</td>\n",
       "      <td>High</td>\n",
       "    </tr>\n",
       "    <tr>\n",
       "      <th>2</th>\n",
       "      <td>7.4</td>\n",
       "      <td>Medium</td>\n",
       "    </tr>\n",
       "    <tr>\n",
       "      <th>3</th>\n",
       "      <td>8.4</td>\n",
       "      <td>High</td>\n",
       "    </tr>\n",
       "    <tr>\n",
       "      <th>4</th>\n",
       "      <td>5.3</td>\n",
       "      <td>Low</td>\n",
       "    </tr>\n",
       "    <tr>\n",
       "      <th>5</th>\n",
       "      <td>4.1</td>\n",
       "      <td>Low</td>\n",
       "    </tr>\n",
       "    <tr>\n",
       "      <th>6</th>\n",
       "      <td>5.8</td>\n",
       "      <td>Low</td>\n",
       "    </tr>\n",
       "    <tr>\n",
       "      <th>7</th>\n",
       "      <td>8.0</td>\n",
       "      <td>Medium</td>\n",
       "    </tr>\n",
       "    <tr>\n",
       "      <th>8</th>\n",
       "      <td>7.2</td>\n",
       "      <td>Medium</td>\n",
       "    </tr>\n",
       "    <tr>\n",
       "      <th>9</th>\n",
       "      <td>5.9</td>\n",
       "      <td>Low</td>\n",
       "    </tr>\n",
       "  </tbody>\n",
       "</table>\n",
       "</div>"
      ],
      "text/plain": [
       "   Rating Rating-binned\n",
       "0     9.1          High\n",
       "1     9.6          High\n",
       "2     7.4        Medium\n",
       "3     8.4          High\n",
       "4     5.3           Low\n",
       "5     4.1           Low\n",
       "6     5.8           Low\n",
       "7     8.0        Medium\n",
       "8     7.2        Medium\n",
       "9     5.9           Low"
      ]
     },
     "metadata": {},
     "output_type": "display_data"
    },
    {
     "data": {
      "text/markdown": [
       "<br>**Binning Distribution**<br>"
      ],
      "text/plain": [
       "<IPython.core.display.Markdown object>"
      ]
     },
     "metadata": {},
     "output_type": "display_data"
    },
    {
     "data": {
      "text/plain": [
       "Medium    351\n",
       "Low       341\n",
       "High      308\n",
       "Name: Rating-binned, dtype: int64"
      ]
     },
     "metadata": {},
     "output_type": "display_data"
    },
    {
     "data": {
      "image/png": "[encoded data removed]",
      "text/plain": [
       "<Figure size 432x288 with 1 Axes>"
      ]
     },
     "metadata": {
      "needs_background": "light"
     },
     "output_type": "display_data"
    }
   ],
   "source": [
    "binning_feature('Rating')"
   ]
  },
  {
   "cell_type": "markdown",
   "id": "a228f90b",
   "metadata": {},
   "source": [
    "# Провести одномерный анализ данных"
   ]
  },
  {
   "cell_type": "markdown",
   "id": "84fbd38b",
   "metadata": {},
   "source": [
    "## Статистический анализ на норму"
   ]
  },
  {
   "cell_type": "markdown",
   "id": "de0c5ce4",
   "metadata": {},
   "source": [
    "### K2-тест Д-Агостино (если возможно)"
   ]
  },
  {
   "cell_type": "markdown",
   "id": "0e396888",
   "metadata": {},
   "source": [
    "#### Total"
   ]
  },
  {
   "cell_type": "code",
   "execution_count": 113,
   "id": "3dbb71a3",
   "metadata": {},
   "outputs": [
    {
     "name": "stdout",
     "output_type": "stream",
     "text": [
      "Statistics=101.33838, p=0.000\n",
      "Выборка не выглядит гауссовой (отклоняем H0)\n"
     ]
    }
   ],
   "source": [
    "stat, p = stats.normaltest(df_churn['Total'])\n",
    "\n",
    "print('Statistics=%.5f, p=%.3f' % (stat, p))\n",
    "\n",
    "# interpret\n",
    "alpha = 0.05\n",
    "if p > alpha:\n",
    "    print('Выборка выглядит гауссовой (не удается отклонить H0)')\n",
    "else:\n",
    "    print('Выборка не выглядит гауссовой (отклоняем H0)')"
   ]
  },
  {
   "cell_type": "markdown",
   "id": "1eab7559",
   "metadata": {},
   "source": [
    "#### Unit price"
   ]
  },
  {
   "cell_type": "code",
   "execution_count": 114,
   "id": "05c0cad9",
   "metadata": {},
   "outputs": [
    {
     "name": "stdout",
     "output_type": "stream",
     "text": [
      "Statistics=857.12429, p=0.000\n",
      "Выборка не выглядит гауссовой (отклоняем H0)\n"
     ]
    }
   ],
   "source": [
    "stat, p = stats.normaltest(df_churn['Unit price'])\n",
    "\n",
    "print('Statistics=%.5f, p=%.3f' % (stat, p))\n",
    "\n",
    "# interpret\n",
    "alpha = 0.05\n",
    "if p > alpha:\n",
    "    print('Выборка выглядит гауссовой (не удается отклонить H0)')\n",
    "else:\n",
    "    print('Выборка не выглядит гауссовой (отклоняем H0)')"
   ]
  },
  {
   "cell_type": "markdown",
   "id": "26047682",
   "metadata": {},
   "source": [
    "#### Quantity"
   ]
  },
  {
   "cell_type": "code",
   "execution_count": 115,
   "id": "c53ec3f6",
   "metadata": {},
   "outputs": [
    {
     "name": "stdout",
     "output_type": "stream",
     "text": [
      "Statistics=835.10362, p=0.000\n",
      "Выборка не выглядит гауссовой (отклоняем H0)\n"
     ]
    }
   ],
   "source": [
    "stat, p = stats.normaltest(df_churn['Quantity'])\n",
    "\n",
    "print('Statistics=%.5f, p=%.3f' % (stat, p))\n",
    "\n",
    "# interpret\n",
    "alpha = 0.05\n",
    "if p > alpha:\n",
    "    print('Выборка выглядит гауссовой (не удается отклонить H0)')\n",
    "else:\n",
    "    print('Выборка не выглядит гауссовой (отклоняем H0)')"
   ]
  },
  {
   "cell_type": "markdown",
   "id": "c91b7a48",
   "metadata": {},
   "source": [
    "#### cogs"
   ]
  },
  {
   "cell_type": "code",
   "execution_count": 116,
   "id": "4f636587",
   "metadata": {},
   "outputs": [
    {
     "name": "stdout",
     "output_type": "stream",
     "text": [
      "Statistics=101.33838, p=0.000\n",
      "Выборка не выглядит гауссовой (отклоняем H0)\n"
     ]
    }
   ],
   "source": [
    "stat, p = stats.normaltest(df_churn['cogs'])\n",
    "\n",
    "print('Statistics=%.5f, p=%.3f' % (stat, p))\n",
    "\n",
    "# interpret\n",
    "alpha = 0.05\n",
    "if p > alpha:\n",
    "    print('Выборка выглядит гауссовой (не удается отклонить H0)')\n",
    "else:\n",
    "    print('Выборка не выглядит гауссовой (отклоняем H0)')"
   ]
  },
  {
   "cell_type": "markdown",
   "id": "c3dd73e2",
   "metadata": {},
   "source": [
    "#### gross income"
   ]
  },
  {
   "cell_type": "code",
   "execution_count": 148,
   "id": "8a74f681",
   "metadata": {},
   "outputs": [
    {
     "name": "stdout",
     "output_type": "stream",
     "text": [
      "Statistics=101.33838, p=0.000\n",
      "Выборка не выглядит гауссовой (отклоняем H0)\n"
     ]
    }
   ],
   "source": [
    "stat, p = stats.normaltest(df_churn['gross income'])\n",
    "\n",
    "print('Statistics=%.5f, p=%.3f' % (stat, p))\n",
    "\n",
    "# interpret\n",
    "alpha = 0.05\n",
    "if p > alpha:\n",
    "    print('Выборка выглядит гауссовой (не удается отклонить H0)')\n",
    "else:\n",
    "    print('Выборка не выглядит гауссовой (отклоняем H0)')"
   ]
  },
  {
   "cell_type": "markdown",
   "id": "8e805ce0",
   "metadata": {},
   "source": [
    "#### Rating"
   ]
  },
  {
   "cell_type": "code",
   "execution_count": 150,
   "id": "8f0acbd5",
   "metadata": {},
   "outputs": [
    {
     "name": "stdout",
     "output_type": "stream",
     "text": [
      "Statistics=516.11772, p=0.000\n",
      "Выборка не выглядит гауссовой (отклоняем H0)\n"
     ]
    }
   ],
   "source": [
    "stat, p = stats.normaltest(df_churn['Rating'])\n",
    "\n",
    "print('Statistics=%.5f, p=%.3f' % (stat, p))\n",
    "\n",
    "# interpret\n",
    "alpha = 0.05\n",
    "if p > alpha:\n",
    "    print('Выборка выглядит гауссовой (не удается отклонить H0)')\n",
    "else:\n",
    "    print('Выборка не выглядит гауссовой (отклоняем H0)')"
   ]
  },
  {
   "cell_type": "markdown",
   "id": "906208ab",
   "metadata": {},
   "source": [
    "### Критерий Шапиро-Уилка (если возможно)"
   ]
  },
  {
   "cell_type": "markdown",
   "id": "76fd0ee5",
   "metadata": {},
   "source": [
    "#### Total"
   ]
  },
  {
   "cell_type": "code",
   "execution_count": 122,
   "id": "f8896ac9",
   "metadata": {},
   "outputs": [
    {
     "name": "stdout",
     "output_type": "stream",
     "text": [
      "Statistic: 0.909\n",
      "pvalue: 0.000\n"
     ]
    }
   ],
   "source": [
    "result = shapiro(df_churn['Total'])\n",
    "print('Statistic: %.3f' % result.statistic)\n",
    "print('pvalue: %.3f' % result.pvalue)"
   ]
  },
  {
   "cell_type": "markdown",
   "id": "38e57f1a",
   "metadata": {},
   "source": [
    "#### Unit price"
   ]
  },
  {
   "cell_type": "code",
   "execution_count": 127,
   "id": "589ca71c",
   "metadata": {},
   "outputs": [
    {
     "name": "stdout",
     "output_type": "stream",
     "text": [
      "Statistic: 0.952\n",
      "pvalue: 0.000\n"
     ]
    }
   ],
   "source": [
    "result = shapiro(df_churn['Unit price'])\n",
    "print('Statistic: %.3f' % result.statistic)\n",
    "print('pvalue: %.3f' % result.pvalue)"
   ]
  },
  {
   "cell_type": "markdown",
   "id": "b501ae57",
   "metadata": {},
   "source": [
    "#### Quantity"
   ]
  },
  {
   "cell_type": "code",
   "execution_count": 126,
   "id": "75954f5b",
   "metadata": {},
   "outputs": [
    {
     "name": "stdout",
     "output_type": "stream",
     "text": [
      "Statistic: 0.933\n",
      "pvalue: 0.000\n"
     ]
    }
   ],
   "source": [
    "result = shapiro(df_churn['Quantity'])\n",
    "print('Statistic: %.3f' % result.statistic)\n",
    "print('pvalue: %.3f' % result.pvalue)"
   ]
  },
  {
   "cell_type": "markdown",
   "id": "af7702c9",
   "metadata": {},
   "source": [
    "#### cogs"
   ]
  },
  {
   "cell_type": "code",
   "execution_count": 124,
   "id": "e59e1a5a",
   "metadata": {},
   "outputs": [
    {
     "name": "stdout",
     "output_type": "stream",
     "text": [
      "Statistic: 0.909\n",
      "pvalue: 0.000\n"
     ]
    }
   ],
   "source": [
    "result = shapiro(df_churn['cogs'])\n",
    "print('Statistic: %.3f' % result.statistic)\n",
    "print('pvalue: %.3f' % result.pvalue)"
   ]
  },
  {
   "cell_type": "markdown",
   "id": "df1250f2",
   "metadata": {},
   "source": [
    "#### gross income"
   ]
  },
  {
   "cell_type": "code",
   "execution_count": 152,
   "id": "622f4ef7",
   "metadata": {},
   "outputs": [
    {
     "name": "stdout",
     "output_type": "stream",
     "text": [
      "Statistic: 0.909\n",
      "pvalue: 0.000\n"
     ]
    }
   ],
   "source": [
    "result = shapiro(df_churn['gross income'])\n",
    "print('Statistic: %.3f' % result.statistic)\n",
    "print('pvalue: %.3f' % result.pvalue)"
   ]
  },
  {
   "cell_type": "markdown",
   "id": "5a497ef9",
   "metadata": {},
   "source": [
    "#### Rating"
   ]
  },
  {
   "cell_type": "code",
   "execution_count": 153,
   "id": "456b694b",
   "metadata": {},
   "outputs": [
    {
     "name": "stdout",
     "output_type": "stream",
     "text": [
      "Statistic: 0.958\n",
      "pvalue: 0.000\n"
     ]
    }
   ],
   "source": [
    "result = shapiro(df_churn['Rating'])\n",
    "print('Statistic: %.3f' % result.statistic)\n",
    "print('pvalue: %.3f' % result.pvalue)"
   ]
  },
  {
   "cell_type": "markdown",
   "id": "d0826544",
   "metadata": {},
   "source": [
    "### Критерий Андерсона — Дарлинга (если возможно)"
   ]
  },
  {
   "cell_type": "markdown",
   "id": "fa907f95",
   "metadata": {},
   "source": [
    "#### Total"
   ]
  },
  {
   "cell_type": "code",
   "execution_count": 117,
   "id": "107cfd5e",
   "metadata": {},
   "outputs": [
    {
     "name": "stdout",
     "output_type": "stream",
     "text": [
      "Statistic: 28.475\n",
      "Уровень значимости 15.00 % : критическое значение 0.574, данные не выглядят нормально (отклоняем H0)\n",
      "Уровень значимости 10.00 % : критическое значение 0.653, данные не выглядят нормально (отклоняем H0)\n",
      "Уровень значимости 5.00 % : критическое значение 0.784, данные не выглядят нормально (отклоняем H0)\n",
      "Уровень значимости 2.50 % : критическое значение 0.914, данные не выглядят нормально (отклоняем H0)\n",
      "Уровень значимости 1.00 % : критическое значение 1.088, данные не выглядят нормально (отклоняем H0)\n"
     ]
    }
   ],
   "source": [
    "result = stats.anderson(df_churn['Total'])\n",
    "\n",
    "print('Statistic: %.3f' % result.statistic)\n",
    "\n",
    "p = 0\n",
    "\n",
    "for i in range(len(result.critical_values)):\n",
    "    sl, cv = result.significance_level[i], result.critical_values[i]\n",
    "    if result.statistic < result.critical_values[i]:\n",
    "        print(f'Уровень значимости {sl:.2f} % : критическое значение {cv:.3f}, данные выглядят нормально (не удается отклонить H0)')\n",
    "    else:\n",
    "        print(f'Уровень значимости {sl:.2f} % : критическое значение {cv:.3f}, данные не выглядят нормально (отклоняем H0)')"
   ]
  },
  {
   "cell_type": "markdown",
   "id": "375e0d3b",
   "metadata": {},
   "source": [
    "#### Unit price"
   ]
  },
  {
   "cell_type": "code",
   "execution_count": 158,
   "id": "03bbadb6",
   "metadata": {},
   "outputs": [
    {
     "name": "stdout",
     "output_type": "stream",
     "text": [
      "Statistic: 11.947\n",
      "Уровень значимости 15.00 % : критическое значение 0.574, данные не выглядят нормально (отклоняем H0)\n",
      "Уровень значимости 10.00 % : критическое значение 0.653, данные не выглядят нормально (отклоняем H0)\n",
      "Уровень значимости 5.00 % : критическое значение 0.784, данные не выглядят нормально (отклоняем H0)\n",
      "Уровень значимости 2.50 % : критическое значение 0.914, данные не выглядят нормально (отклоняем H0)\n",
      "Уровень значимости 1.00 % : критическое значение 1.088, данные не выглядят нормально (отклоняем H0)\n"
     ]
    }
   ],
   "source": [
    "result = stats.anderson(df_churn['Unit price'])\n",
    "\n",
    "print('Statistic: %.3f' % result.statistic)\n",
    "\n",
    "p = 0\n",
    "\n",
    "for i in range(len(result.critical_values)):\n",
    "    sl, cv = result.significance_level[i], result.critical_values[i]\n",
    "    if result.statistic < result.critical_values[i]:\n",
    "        print(f'Уровень значимости {sl:.2f} % : критическое значение {cv:.3f}, данные выглядят нормально (не удается отклонить H0)')\n",
    "    else:\n",
    "        print(f'Уровень значимости {sl:.2f} % : критическое значение {cv:.3f}, данные не выглядят нормально (отклоняем H0)')"
   ]
  },
  {
   "cell_type": "markdown",
   "id": "fd925cb5",
   "metadata": {},
   "source": [
    "#### Quantity"
   ]
  },
  {
   "cell_type": "code",
   "execution_count": 159,
   "id": "15742424",
   "metadata": {},
   "outputs": [
    {
     "name": "stdout",
     "output_type": "stream",
     "text": [
      "Statistic: 17.186\n",
      "Уровень значимости 15.00 % : критическое значение 0.574, данные не выглядят нормально (отклоняем H0)\n",
      "Уровень значимости 10.00 % : критическое значение 0.653, данные не выглядят нормально (отклоняем H0)\n",
      "Уровень значимости 5.00 % : критическое значение 0.784, данные не выглядят нормально (отклоняем H0)\n",
      "Уровень значимости 2.50 % : критическое значение 0.914, данные не выглядят нормально (отклоняем H0)\n",
      "Уровень значимости 1.00 % : критическое значение 1.088, данные не выглядят нормально (отклоняем H0)\n"
     ]
    }
   ],
   "source": [
    "result = stats.anderson(df_churn['Quantity'])\n",
    "\n",
    "print('Statistic: %.3f' % result.statistic)\n",
    "\n",
    "p = 0\n",
    "\n",
    "for i in range(len(result.critical_values)):\n",
    "    sl, cv = result.significance_level[i], result.critical_values[i]\n",
    "    if result.statistic < result.critical_values[i]:\n",
    "        print(f'Уровень значимости {sl:.2f} % : критическое значение {cv:.3f}, данные выглядят нормально (не удается отклонить H0)')\n",
    "    else:\n",
    "        print(f'Уровень значимости {sl:.2f} % : критическое значение {cv:.3f}, данные не выглядят нормально (отклоняем H0)')"
   ]
  },
  {
   "cell_type": "markdown",
   "id": "0e63ab90",
   "metadata": {},
   "source": [
    "#### cogs"
   ]
  },
  {
   "cell_type": "code",
   "execution_count": 160,
   "id": "2aa46bdd",
   "metadata": {},
   "outputs": [
    {
     "name": "stdout",
     "output_type": "stream",
     "text": [
      "Statistic: 28.475\n",
      "Уровень значимости 15.00 % : критическое значение 0.574, данные не выглядят нормально (отклоняем H0)\n",
      "Уровень значимости 10.00 % : критическое значение 0.653, данные не выглядят нормально (отклоняем H0)\n",
      "Уровень значимости 5.00 % : критическое значение 0.784, данные не выглядят нормально (отклоняем H0)\n",
      "Уровень значимости 2.50 % : критическое значение 0.914, данные не выглядят нормально (отклоняем H0)\n",
      "Уровень значимости 1.00 % : критическое значение 1.088, данные не выглядят нормально (отклоняем H0)\n"
     ]
    }
   ],
   "source": [
    "result = stats.anderson(df_churn['cogs'])\n",
    "\n",
    "print('Statistic: %.3f' % result.statistic)\n",
    "\n",
    "p = 0\n",
    "\n",
    "for i in range(len(result.critical_values)):\n",
    "    sl, cv = result.significance_level[i], result.critical_values[i]\n",
    "    if result.statistic < result.critical_values[i]:\n",
    "        print(f'Уровень значимости {sl:.2f} % : критическое значение {cv:.3f}, данные выглядят нормально (не удается отклонить H0)')\n",
    "    else:\n",
    "        print(f'Уровень значимости {sl:.2f} % : критическое значение {cv:.3f}, данные не выглядят нормально (отклоняем H0)')"
   ]
  },
  {
   "cell_type": "markdown",
   "id": "e8624e9c",
   "metadata": {},
   "source": [
    "#### gross income"
   ]
  },
  {
   "cell_type": "code",
   "execution_count": 161,
   "id": "8f288ee9",
   "metadata": {},
   "outputs": [
    {
     "name": "stdout",
     "output_type": "stream",
     "text": [
      "Statistic: 28.475\n",
      "Уровень значимости 15.00 % : критическое значение 0.574, данные не выглядят нормально (отклоняем H0)\n",
      "Уровень значимости 10.00 % : критическое значение 0.653, данные не выглядят нормально (отклоняем H0)\n",
      "Уровень значимости 5.00 % : критическое значение 0.784, данные не выглядят нормально (отклоняем H0)\n",
      "Уровень значимости 2.50 % : критическое значение 0.914, данные не выглядят нормально (отклоняем H0)\n",
      "Уровень значимости 1.00 % : критическое значение 1.088, данные не выглядят нормально (отклоняем H0)\n"
     ]
    }
   ],
   "source": [
    "result = stats.anderson(df_churn['gross income'])\n",
    "\n",
    "print('Statistic: %.3f' % result.statistic)\n",
    "\n",
    "p = 0\n",
    "\n",
    "for i in range(len(result.critical_values)):\n",
    "    sl, cv = result.significance_level[i], result.critical_values[i]\n",
    "    if result.statistic < result.critical_values[i]:\n",
    "        print(f'Уровень значимости {sl:.2f} % : критическое значение {cv:.3f}, данные выглядят нормально (не удается отклонить H0)')\n",
    "    else:\n",
    "        print(f'Уровень значимости {sl:.2f} % : критическое значение {cv:.3f}, данные не выглядят нормально (отклоняем H0)')"
   ]
  },
  {
   "cell_type": "markdown",
   "id": "1592f159",
   "metadata": {},
   "source": [
    "#### Rating"
   ]
  },
  {
   "cell_type": "code",
   "execution_count": 162,
   "id": "962c5e72",
   "metadata": {},
   "outputs": [
    {
     "name": "stdout",
     "output_type": "stream",
     "text": [
      "Statistic: 9.627\n",
      "Уровень значимости 15.00 % : критическое значение 0.574, данные не выглядят нормально (отклоняем H0)\n",
      "Уровень значимости 10.00 % : критическое значение 0.653, данные не выглядят нормально (отклоняем H0)\n",
      "Уровень значимости 5.00 % : критическое значение 0.784, данные не выглядят нормально (отклоняем H0)\n",
      "Уровень значимости 2.50 % : критическое значение 0.914, данные не выглядят нормально (отклоняем H0)\n",
      "Уровень значимости 1.00 % : критическое значение 1.088, данные не выглядят нормально (отклоняем H0)\n"
     ]
    }
   ],
   "source": [
    "result = stats.anderson(df_churn['Rating'])\n",
    "\n",
    "print('Statistic: %.3f' % result.statistic)\n",
    "\n",
    "p = 0\n",
    "\n",
    "for i in range(len(result.critical_values)):\n",
    "    sl, cv = result.significance_level[i], result.critical_values[i]\n",
    "    if result.statistic < result.critical_values[i]:\n",
    "        print(f'Уровень значимости {sl:.2f} % : критическое значение {cv:.3f}, данные выглядят нормально (не удается отклонить H0)')\n",
    "    else:\n",
    "        print(f'Уровень значимости {sl:.2f} % : критическое значение {cv:.3f}, данные не выглядят нормально (отклоняем H0)')"
   ]
  },
  {
   "cell_type": "markdown",
   "id": "cbfe8ad0",
   "metadata": {},
   "source": [
    "## Одномерная визуализация"
   ]
  },
  {
   "cell_type": "markdown",
   "id": "03b06d62",
   "metadata": {},
   "source": [
    "### Gender"
   ]
  },
  {
   "cell_type": "code",
   "execution_count": 136,
   "id": "9f580f9b",
   "metadata": {},
   "outputs": [
    {
     "data": {
      "image/png": "[encoded data removed]",
      "text/plain": [
       "<Figure size 360x360 with 1 Axes>"
      ]
     },
     "metadata": {
      "needs_background": "light"
     },
     "output_type": "display_data"
    },
    {
     "data": {
      "text/markdown": [
       "#### Примерно 50/50 соотношение полов"
      ],
      "text/plain": [
       "<IPython.core.display.Markdown object>"
      ]
     },
     "metadata": {},
     "output_type": "display_data"
    }
   ],
   "source": [
    "sns.catplot(x=\"Gender\", kind=\"count\", data=df_churn)\n",
    "plt.show()\n",
    "\n",
    "printmd(\"#### Примерно 50/50 соотношение полов\")"
   ]
  },
  {
   "cell_type": "markdown",
   "id": "d6df4e5a",
   "metadata": {},
   "source": [
    "### Customer type"
   ]
  },
  {
   "cell_type": "code",
   "execution_count": 137,
   "id": "63a5dafa",
   "metadata": {},
   "outputs": [
    {
     "data": {
      "image/png": "[encoded data removed]",
      "text/plain": [
       "<Figure size 360x360 with 1 Axes>"
      ]
     },
     "metadata": {
      "needs_background": "light"
     },
     "output_type": "display_data"
    }
   ],
   "source": [
    "sns.catplot(x=\"Customer type\", kind=\"count\", data=df_churn)\n",
    "plt.show()"
   ]
  },
  {
   "cell_type": "markdown",
   "id": "1c72de33",
   "metadata": {},
   "source": [
    "### Product line"
   ]
  },
  {
   "cell_type": "code",
   "execution_count": 138,
   "id": "9b968ce2",
   "metadata": {},
   "outputs": [
    {
     "data": {
      "image/png": "[encoded data removed]",
      "text/plain": [
       "<Figure size 360x360 with 1 Axes>"
      ]
     },
     "metadata": {
      "needs_background": "light"
     },
     "output_type": "display_data"
    }
   ],
   "source": [
    "sns.catplot(x=\"Product line\", kind=\"count\", data=df_churn)\n",
    "plt.show()"
   ]
  },
  {
   "cell_type": "markdown",
   "id": "e5790fef",
   "metadata": {},
   "source": [
    "### Payment"
   ]
  },
  {
   "cell_type": "code",
   "execution_count": 140,
   "id": "be83c6ff",
   "metadata": {},
   "outputs": [
    {
     "data": {
      "image/png": "[encoded data removed]",
      "text/plain": [
       "<Figure size 360x360 with 1 Axes>"
      ]
     },
     "metadata": {
      "needs_background": "light"
     },
     "output_type": "display_data"
    }
   ],
   "source": [
    "sns.catplot(x=\"Payment\", kind=\"count\", data=df_churn)\n",
    "plt.show()"
   ]
  },
  {
   "cell_type": "markdown",
   "id": "dd948f39",
   "metadata": {},
   "source": [
    "### Branch"
   ]
  },
  {
   "cell_type": "code",
   "execution_count": 141,
   "id": "d45f487e",
   "metadata": {},
   "outputs": [
    {
     "data": {
      "image/png": "[encoded data removed]",
      "text/plain": [
       "<Figure size 360x360 with 1 Axes>"
      ]
     },
     "metadata": {
      "needs_background": "light"
     },
     "output_type": "display_data"
    }
   ],
   "source": [
    "sns.catplot(x=\"Branch\", kind=\"count\", data=df_churn)\n",
    "plt.show()"
   ]
  },
  {
   "cell_type": "markdown",
   "id": "c56a53b9",
   "metadata": {},
   "source": [
    "### City"
   ]
  },
  {
   "cell_type": "code",
   "execution_count": 142,
   "id": "3a45856d",
   "metadata": {},
   "outputs": [
    {
     "data": {
      "image/png": "[encoded data removed]",
      "text/plain": [
       "<Figure size 360x360 with 1 Axes>"
      ]
     },
     "metadata": {
      "needs_background": "light"
     },
     "output_type": "display_data"
    }
   ],
   "source": [
    "sns.catplot(x=\"City\", kind=\"count\", data=df_churn)\n",
    "plt.show()"
   ]
  },
  {
   "cell_type": "markdown",
   "id": "5d9b3676",
   "metadata": {},
   "source": [
    "# Провести двухмерный анализ данных"
   ]
  },
  {
   "cell_type": "markdown",
   "id": "69f24a8a",
   "metadata": {},
   "source": [
    "## Сопоставление различный пар типов данных"
   ]
  },
  {
   "cell_type": "markdown",
   "id": "0e65f964",
   "metadata": {},
   "source": [
    "### Числовые и числовые данные (если возможно)"
   ]
  },
  {
   "cell_type": "code",
   "execution_count": 143,
   "id": "28d6d5b1",
   "metadata": {},
   "outputs": [],
   "source": [
    "def cal_spearmanr(c1, c2):\n",
    "\n",
    "    alpha = 0.05\n",
    "\n",
    "    correlation, p_value = stats.spearmanr(df_churn[c1], df_churn[c2])\n",
    "\n",
    "    print(f'{c1}, {c2} correlation: {correlation}, p: {p_value}')\n",
    "\n",
    "    if p_value > alpha:\n",
    "        print('Вероятно, у них нет монотонной взаимосвязи (не удается отклонить H0)')\n",
    "    else:\n",
    "        print('Вероятно, имеют монотонную взаимосвязь (отклоняем H0)')"
   ]
  },
  {
   "cell_type": "markdown",
   "id": "61387d48",
   "metadata": {},
   "source": [
    "#### 'Total','Unit price'"
   ]
  },
  {
   "cell_type": "code",
   "execution_count": 165,
   "id": "cf5fe581",
   "metadata": {},
   "outputs": [
    {
     "name": "stdout",
     "output_type": "stream",
     "text": [
      "Total, Unit price correlation: 0.6300541064753133, p: 9.817620360866057e-112\n",
      "Вероятно, имеют монотонную взаимосвязь (отклоняем H0)\n"
     ]
    }
   ],
   "source": [
    "cal_spearmanr('Total','Unit price')"
   ]
  },
  {
   "cell_type": "markdown",
   "id": "a1e4f810",
   "metadata": {},
   "source": [
    "#### 'Total','cogs'"
   ]
  },
  {
   "cell_type": "code",
   "execution_count": 166,
   "id": "2db5238e",
   "metadata": {},
   "outputs": [
    {
     "name": "stdout",
     "output_type": "stream",
     "text": [
      "Total, cogs correlation: 1.0, p: 0.0\n",
      "Вероятно, имеют монотонную взаимосвязь (отклоняем H0)\n"
     ]
    }
   ],
   "source": [
    "cal_spearmanr('Total','cogs')"
   ]
  },
  {
   "cell_type": "markdown",
   "id": "36bf9d91",
   "metadata": {},
   "source": [
    "#### 'Total','gross income'"
   ]
  },
  {
   "cell_type": "code",
   "execution_count": 167,
   "id": "827ded63",
   "metadata": {},
   "outputs": [
    {
     "name": "stdout",
     "output_type": "stream",
     "text": [
      "Total, gross income correlation: 1.0, p: 0.0\n",
      "Вероятно, имеют монотонную взаимосвязь (отклоняем H0)\n"
     ]
    }
   ],
   "source": [
    "cal_spearmanr('Total','gross income')"
   ]
  },
  {
   "cell_type": "markdown",
   "id": "47ee6f41",
   "metadata": {},
   "source": [
    "#### 'Unit price','cogs'"
   ]
  },
  {
   "cell_type": "code",
   "execution_count": 170,
   "id": "0101231b",
   "metadata": {},
   "outputs": [
    {
     "name": "stdout",
     "output_type": "stream",
     "text": [
      "Unit price, cogs correlation: 0.6300541064753133, p: 9.817620360866057e-112\n",
      "Вероятно, имеют монотонную взаимосвязь (отклоняем H0)\n"
     ]
    }
   ],
   "source": [
    "cal_spearmanr('Unit price','cogs')"
   ]
  },
  {
   "cell_type": "markdown",
   "id": "71f59f2e",
   "metadata": {},
   "source": [
    "#### 'Unit price','gross income'"
   ]
  },
  {
   "cell_type": "code",
   "execution_count": 171,
   "id": "7646465f",
   "metadata": {},
   "outputs": [
    {
     "name": "stdout",
     "output_type": "stream",
     "text": [
      "Unit price, gross income correlation: 0.6300541064753133, p: 9.817620360866057e-112\n",
      "Вероятно, имеют монотонную взаимосвязь (отклоняем H0)\n"
     ]
    }
   ],
   "source": [
    "cal_spearmanr('Unit price','gross income')"
   ]
  },
  {
   "cell_type": "markdown",
   "id": "b90c4817",
   "metadata": {},
   "source": [
    "#### 'cogs','gross income'"
   ]
  },
  {
   "cell_type": "code",
   "execution_count": 172,
   "id": "12e0427d",
   "metadata": {},
   "outputs": [
    {
     "name": "stdout",
     "output_type": "stream",
     "text": [
      "cogs, gross income correlation: 1.0, p: 0.0\n",
      "Вероятно, имеют монотонную взаимосвязь (отклоняем H0)\n"
     ]
    }
   ],
   "source": [
    "cal_spearmanr('cogs','gross income')"
   ]
  },
  {
   "cell_type": "markdown",
   "id": "48b7b49f",
   "metadata": {},
   "source": [
    "### Числовые и Порядковые данные (если возможно)"
   ]
  },
  {
   "cell_type": "markdown",
   "id": "9d5a3ff6",
   "metadata": {},
   "source": [
    "#### Коэффициент корреляции Кендалла"
   ]
  },
  {
   "cell_type": "code",
   "execution_count": 173,
   "id": "df59361c",
   "metadata": {},
   "outputs": [],
   "source": [
    "def kendall_rank_correlation(feature1, feature2):\n",
    "\n",
    "    coef, p_value = stats.kendalltau(df_churn[feature1], df_churn[feature2])\n",
    "    print(f\"Корреляция между {feature1} and {feature2} \")\n",
    "    print('Kendall correlation coefficient = %.5f, p = %.5f' % (coef, p_value))\n",
    "\n",
    "    # interpret the significance\n",
    "    alpha = 0.05\n",
    "    if p_value > alpha:\n",
    "        print('Признаки некоррелированы (не удается отклонить H0) p=%.3f' % p_value)\n",
    "    else:\n",
    "        print('Признаки коррелированы (отклоняем H0) p=%.3f' % p_value)\n",
    "    print('----\\n')"
   ]
  },
  {
   "cell_type": "code",
   "execution_count": 174,
   "id": "941edd08",
   "metadata": {},
   "outputs": [
    {
     "data": {
      "text/markdown": [
       "Корреляция с **Total-binned**"
      ],
      "text/plain": [
       "<IPython.core.display.Markdown object>"
      ]
     },
     "metadata": {},
     "output_type": "display_data"
    },
    {
     "name": "stdout",
     "output_type": "stream",
     "text": [
      "Корреляция между Total and Total-binned \n",
      "Kendall correlation coefficient = 0.18078, p = 0.00000\n",
      "Признаки коррелированы (отклоняем H0) p=0.000\n",
      "----\n",
      "\n",
      "Корреляция между Unit price and Total-binned \n",
      "Kendall correlation coefficient = 0.04443, p = 0.07499\n",
      "Признаки некоррелированы (не удается отклонить H0) p=0.075\n",
      "----\n",
      "\n",
      "Корреляция между cogs and Total-binned \n",
      "Kendall correlation coefficient = 0.18078, p = 0.00000\n",
      "Признаки коррелированы (отклоняем H0) p=0.000\n",
      "----\n",
      "\n",
      "Корреляция между gross income and Total-binned \n",
      "Kendall correlation coefficient = 0.18078, p = 0.00000\n",
      "Признаки коррелированы (отклоняем H0) p=0.000\n",
      "----\n",
      "\n",
      "Корреляция между Rating and Total-binned \n",
      "Kendall correlation coefficient = -0.00084, p = 0.97325\n",
      "Признаки некоррелированы (не удается отклонить H0) p=0.973\n",
      "----\n",
      "\n",
      "Корреляция между Quantity and Total-binned \n",
      "Kendall correlation coefficient = 0.08325, p = 0.00146\n",
      "Признаки коррелированы (отклоняем H0) p=0.001\n",
      "----\n",
      "\n"
     ]
    },
    {
     "data": {
      "text/markdown": [
       "Корреляция с **Unit price-binned**"
      ],
      "text/plain": [
       "<IPython.core.display.Markdown object>"
      ]
     },
     "metadata": {},
     "output_type": "display_data"
    },
    {
     "name": "stdout",
     "output_type": "stream",
     "text": [
      "Корреляция между Total and Unit price-binned \n",
      "Kendall correlation coefficient = -0.17799, p = 0.00000\n",
      "Признаки коррелированы (отклоняем H0) p=0.000\n",
      "----\n",
      "\n",
      "Корреляция между Unit price and Unit price-binned \n",
      "Kendall correlation coefficient = -0.30205, p = 0.00000\n",
      "Признаки коррелированы (отклоняем H0) p=0.000\n",
      "----\n",
      "\n",
      "Корреляция между cogs and Unit price-binned \n",
      "Kendall correlation coefficient = -0.17799, p = 0.00000\n",
      "Признаки коррелированы (отклоняем H0) p=0.000\n",
      "----\n",
      "\n",
      "Корреляция между gross income and Unit price-binned \n",
      "Kendall correlation coefficient = -0.17799, p = 0.00000\n",
      "Признаки коррелированы (отклоняем H0) p=0.000\n",
      "----\n",
      "\n",
      "Корреляция между Rating and Unit price-binned \n",
      "Kendall correlation coefficient = 0.00186, p = 0.93952\n",
      "Признаки некоррелированы (не удается отклонить H0) p=0.940\n",
      "----\n",
      "\n",
      "Корреляция между Quantity and Unit price-binned \n",
      "Kendall correlation coefficient = -0.01804, p = 0.48039\n",
      "Признаки некоррелированы (не удается отклонить H0) p=0.480\n",
      "----\n",
      "\n"
     ]
    },
    {
     "data": {
      "text/markdown": [
       "Корреляция с **cogs-binned**"
      ],
      "text/plain": [
       "<IPython.core.display.Markdown object>"
      ]
     },
     "metadata": {},
     "output_type": "display_data"
    },
    {
     "name": "stdout",
     "output_type": "stream",
     "text": [
      "Корреляция между Total and cogs-binned \n",
      "Kendall correlation coefficient = 0.18078, p = 0.00000\n",
      "Признаки коррелированы (отклоняем H0) p=0.000\n",
      "----\n",
      "\n",
      "Корреляция между Unit price and cogs-binned \n",
      "Kendall correlation coefficient = 0.04443, p = 0.07499\n",
      "Признаки некоррелированы (не удается отклонить H0) p=0.075\n",
      "----\n",
      "\n",
      "Корреляция между cogs and cogs-binned \n",
      "Kendall correlation coefficient = 0.18078, p = 0.00000\n",
      "Признаки коррелированы (отклоняем H0) p=0.000\n",
      "----\n",
      "\n",
      "Корреляция между gross income and cogs-binned \n",
      "Kendall correlation coefficient = 0.18078, p = 0.00000\n",
      "Признаки коррелированы (отклоняем H0) p=0.000\n",
      "----\n",
      "\n",
      "Корреляция между Rating and cogs-binned \n",
      "Kendall correlation coefficient = -0.00084, p = 0.97325\n",
      "Признаки некоррелированы (не удается отклонить H0) p=0.973\n",
      "----\n",
      "\n",
      "Корреляция между Quantity and cogs-binned \n",
      "Kendall correlation coefficient = 0.08325, p = 0.00146\n",
      "Признаки коррелированы (отклоняем H0) p=0.001\n",
      "----\n",
      "\n"
     ]
    },
    {
     "data": {
      "text/markdown": [
       "Корреляция с **gross income-binned**"
      ],
      "text/plain": [
       "<IPython.core.display.Markdown object>"
      ]
     },
     "metadata": {},
     "output_type": "display_data"
    },
    {
     "name": "stdout",
     "output_type": "stream",
     "text": [
      "Корреляция между Total and gross income-binned \n",
      "Kendall correlation coefficient = 0.18078, p = 0.00000\n",
      "Признаки коррелированы (отклоняем H0) p=0.000\n",
      "----\n",
      "\n",
      "Корреляция между Unit price and gross income-binned \n",
      "Kendall correlation coefficient = 0.04443, p = 0.07499\n",
      "Признаки некоррелированы (не удается отклонить H0) p=0.075\n",
      "----\n",
      "\n",
      "Корреляция между cogs and gross income-binned \n",
      "Kendall correlation coefficient = 0.18078, p = 0.00000\n",
      "Признаки коррелированы (отклоняем H0) p=0.000\n",
      "----\n",
      "\n",
      "Корреляция между gross income and gross income-binned \n",
      "Kendall correlation coefficient = 0.18078, p = 0.00000\n",
      "Признаки коррелированы (отклоняем H0) p=0.000\n",
      "----\n",
      "\n",
      "Корреляция между Rating and gross income-binned \n",
      "Kendall correlation coefficient = -0.00084, p = 0.97325\n",
      "Признаки некоррелированы (не удается отклонить H0) p=0.973\n",
      "----\n",
      "\n",
      "Корреляция между Quantity and gross income-binned \n",
      "Kendall correlation coefficient = 0.08325, p = 0.00146\n",
      "Признаки коррелированы (отклоняем H0) p=0.001\n",
      "----\n",
      "\n"
     ]
    },
    {
     "data": {
      "text/markdown": [
       "Корреляция с **Rating-binned**"
      ],
      "text/plain": [
       "<IPython.core.display.Markdown object>"
      ]
     },
     "metadata": {},
     "output_type": "display_data"
    },
    {
     "name": "stdout",
     "output_type": "stream",
     "text": [
      "Корреляция между Total and Rating-binned \n",
      "Kendall correlation coefficient = -0.02530, p = 0.29926\n",
      "Признаки некоррелированы (не удается отклонить H0) p=0.299\n",
      "----\n",
      "\n",
      "Корреляция между Unit price and Rating-binned \n",
      "Kendall correlation coefficient = 0.00290, p = 0.90533\n",
      "Признаки некоррелированы (не удается отклонить H0) p=0.905\n",
      "----\n",
      "\n",
      "Корреляция между cogs and Rating-binned \n",
      "Kendall correlation coefficient = -0.02530, p = 0.29926\n",
      "Признаки некоррелированы (не удается отклонить H0) p=0.299\n",
      "----\n",
      "\n",
      "Корреляция между gross income and Rating-binned \n",
      "Kendall correlation coefficient = -0.02530, p = 0.29926\n",
      "Признаки некоррелированы (не удается отклонить H0) p=0.299\n",
      "----\n",
      "\n",
      "Корреляция между Rating and Rating-binned \n",
      "Kendall correlation coefficient = -0.23107, p = 0.00000\n",
      "Признаки коррелированы (отклоняем H0) p=0.000\n",
      "----\n",
      "\n",
      "Корреляция между Quantity and Rating-binned \n",
      "Kendall correlation coefficient = -0.03299, p = 0.19686\n",
      "Признаки некоррелированы (не удается отклонить H0) p=0.197\n",
      "----\n",
      "\n"
     ]
    },
    {
     "data": {
      "text/markdown": [
       "Корреляция с **Quantity-binned**"
      ],
      "text/plain": [
       "<IPython.core.display.Markdown object>"
      ]
     },
     "metadata": {},
     "output_type": "display_data"
    },
    {
     "name": "stdout",
     "output_type": "stream",
     "text": [
      "Корреляция между Total and Quantity-binned \n",
      "Kendall correlation coefficient = -0.14065, p = 0.00000\n",
      "Признаки коррелированы (отклоняем H0) p=0.000\n",
      "----\n",
      "\n",
      "Корреляция между Unit price and Quantity-binned \n",
      "Kendall correlation coefficient = -0.01483, p = 0.54344\n",
      "Признаки некоррелированы (не удается отклонить H0) p=0.543\n",
      "----\n",
      "\n",
      "Корреляция между cogs and Quantity-binned \n",
      "Kendall correlation coefficient = -0.14065, p = 0.00000\n",
      "Признаки коррелированы (отклоняем H0) p=0.000\n",
      "----\n",
      "\n",
      "Корреляция между gross income and Quantity-binned \n",
      "Kendall correlation coefficient = -0.14065, p = 0.00000\n",
      "Признаки коррелированы (отклоняем H0) p=0.000\n",
      "----\n",
      "\n",
      "Корреляция между Rating and Quantity-binned \n",
      "Kendall correlation coefficient = 0.01385, p = 0.57345\n",
      "Признаки некоррелированы (не удается отклонить H0) p=0.573\n",
      "----\n",
      "\n",
      "Корреляция между Quantity and Quantity-binned \n",
      "Kendall correlation coefficient = -0.22592, p = 0.00000\n",
      "Признаки коррелированы (отклоняем H0) p=0.000\n",
      "----\n",
      "\n"
     ]
    }
   ],
   "source": [
    "ordinal_features = ['Total-binned', 'Unit price-binned', 'cogs-binned', 'gross income-binned', \n",
    "                    'Rating-binned', 'Quantity-binned']\n",
    "for ord in ordinal_features:\n",
    "    printmd(f\"Корреляция с **{ord}**\")\n",
    "    kendall_rank_correlation('Total',ord)\n",
    "    kendall_rank_correlation('Unit price',ord)\n",
    "    kendall_rank_correlation('cogs',ord)\n",
    "    kendall_rank_correlation('gross income',ord)\n",
    "    kendall_rank_correlation('Rating',ord)\n",
    "    kendall_rank_correlation('Quantity',ord)"
   ]
  },
  {
   "cell_type": "markdown",
   "id": "52cc4c9b",
   "metadata": {},
   "source": [
    "#### Целевая корреляция (Двухклассовая)"
   ]
  },
  {
   "cell_type": "code",
   "execution_count": 180,
   "id": "eddfdd20",
   "metadata": {},
   "outputs": [],
   "source": [
    "def mannwhitneyu_correlation(feature1):\n",
    "    stat, p_value = stats.mannwhitneyu(df_churn[feature1], (df_churn['Customer type'] == 'Yes').astype(int))\n",
    "    print(f\"Корреляция между {feature1} and Customer type\")\n",
    "    print('Statistics = %.5f, p = %.5f' % (stat, p_value))\n",
    "\n",
    "    # interpret the significance\n",
    "    alpha = 0.05\n",
    "    if p_value > alpha:\n",
    "        print('Одинаковое распределение (не удается отклонить H0)')\n",
    "    else:\n",
    "        print('Различное распределение (отклонение H0)')\n",
    "    print('----\\n') "
   ]
  },
  {
   "cell_type": "code",
   "execution_count": 181,
   "id": "e9fc5543",
   "metadata": {},
   "outputs": [
    {
     "data": {
      "text/markdown": [
       "Корреляция с **Total**"
      ],
      "text/plain": [
       "<IPython.core.display.Markdown object>"
      ]
     },
     "metadata": {},
     "output_type": "display_data"
    },
    {
     "name": "stdout",
     "output_type": "stream",
     "text": [
      "Корреляция между Total and Customer type\n",
      "Statistics = 1000000.00000, p = 0.00000\n",
      "Различное распределение (отклонение H0)\n",
      "----\n",
      "\n"
     ]
    },
    {
     "data": {
      "text/markdown": [
       "Корреляция с **Unit price**"
      ],
      "text/plain": [
       "<IPython.core.display.Markdown object>"
      ]
     },
     "metadata": {},
     "output_type": "display_data"
    },
    {
     "name": "stdout",
     "output_type": "stream",
     "text": [
      "Корреляция между Unit price and Customer type\n",
      "Statistics = 1000000.00000, p = 0.00000\n",
      "Различное распределение (отклонение H0)\n",
      "----\n",
      "\n"
     ]
    },
    {
     "data": {
      "text/markdown": [
       "Корреляция с **cogs**"
      ],
      "text/plain": [
       "<IPython.core.display.Markdown object>"
      ]
     },
     "metadata": {},
     "output_type": "display_data"
    },
    {
     "name": "stdout",
     "output_type": "stream",
     "text": [
      "Корреляция между cogs and Customer type\n",
      "Statistics = 1000000.00000, p = 0.00000\n",
      "Различное распределение (отклонение H0)\n",
      "----\n",
      "\n"
     ]
    },
    {
     "data": {
      "text/markdown": [
       "Корреляция с **gross income**"
      ],
      "text/plain": [
       "<IPython.core.display.Markdown object>"
      ]
     },
     "metadata": {},
     "output_type": "display_data"
    },
    {
     "name": "stdout",
     "output_type": "stream",
     "text": [
      "Корреляция между gross income and Customer type\n",
      "Statistics = 1000000.00000, p = 0.00000\n",
      "Различное распределение (отклонение H0)\n",
      "----\n",
      "\n"
     ]
    }
   ],
   "source": [
    "numerical_features = ['Total', 'Unit price', 'cogs', 'gross income']\n",
    "\n",
    "for num in numerical_features:\n",
    "    printmd(f\"Корреляция с **{num}**\")\n",
    "    mannwhitneyu_correlation(num)"
   ]
  },
  {
   "cell_type": "markdown",
   "id": "0a291fab",
   "metadata": {},
   "source": [
    "### Порядковые и порядковые данные (если возможно)"
   ]
  },
  {
   "cell_type": "code",
   "execution_count": null,
   "id": "e9f1bb84",
   "metadata": {},
   "outputs": [],
   "source": []
  },
  {
   "cell_type": "markdown",
   "id": "71bea2ed",
   "metadata": {
    "heading_collapsed": true
   },
   "source": [
    "### Категориальные и Категориальные данные (если возможно)"
   ]
  },
  {
   "cell_type": "code",
   "execution_count": null,
   "id": "7ee361cd",
   "metadata": {
    "hidden": true
   },
   "outputs": [],
   "source": []
  },
  {
   "cell_type": "markdown",
   "id": "4887ff2c",
   "metadata": {
    "heading_collapsed": true
   },
   "source": [
    "## Коллинеарность"
   ]
  },
  {
   "cell_type": "code",
   "execution_count": null,
   "id": "10c90d05",
   "metadata": {
    "hidden": true
   },
   "outputs": [],
   "source": []
  },
  {
   "cell_type": "markdown",
   "id": "b8014dca",
   "metadata": {
    "heading_collapsed": true
   },
   "source": [
    "## Двумерная визуализация"
   ]
  },
  {
   "cell_type": "code",
   "execution_count": null,
   "id": "1a3fc80f",
   "metadata": {
    "hidden": true
   },
   "outputs": [],
   "source": [
    " "
   ]
  },
  {
   "cell_type": "markdown",
   "id": "c43a4c9f",
   "metadata": {
    "heading_collapsed": true
   },
   "source": [
    "# Многомерный анализ данных"
   ]
  },
  {
   "cell_type": "markdown",
   "id": "d2c05877",
   "metadata": {
    "heading_collapsed": true,
    "hidden": true
   },
   "source": [
    "## Мультиколлинеарность (Критерий Краскела — Уоллиса)"
   ]
  },
  {
   "cell_type": "code",
   "execution_count": null,
   "id": "ab84a472",
   "metadata": {
    "hidden": true
   },
   "outputs": [],
   "source": []
  },
  {
   "cell_type": "markdown",
   "id": "c5db211c",
   "metadata": {
    "hidden": true
   },
   "source": [
    "## Многомерная визуализация"
   ]
  },
  {
   "cell_type": "code",
   "execution_count": null,
   "id": "a42c4706",
   "metadata": {
    "hidden": true
   },
   "outputs": [],
   "source": []
  },
  {
   "cell_type": "markdown",
   "id": "431ad342",
   "metadata": {
    "heading_collapsed": true
   },
   "source": [
    "# Итоговые выводы"
   ]
  },
  {
   "cell_type": "code",
   "execution_count": null,
   "id": "5da13a97",
   "metadata": {
    "hidden": true
   },
   "outputs": [],
   "source": []
  },
  {
   "cell_type": "markdown",
   "id": "f291a546",
   "metadata": {},
   "source": [
    "# Решения практических заданий отправьте в файле формата \".ipynb\", используя редакторы кода Jupyter / Google Colab"
   ]
  }
 ],
 "metadata": {
  "kernelspec": {
   "display_name": "Python 3",
   "language": "python",
   "name": "python3"
  },
  "language_info": {
   "codemirror_mode": {
    "name": "ipython",
    "version": 3
   },
   "file_extension": ".py",
   "mimetype": "text/x-python",
   "name": "python",
   "nbconvert_exporter": "python",
   "pygments_lexer": "ipython3",
   "version": "3.8.8"
  },
  "toc": {
   "base_numbering": 1,
   "nav_menu": {},
   "number_sections": true,
   "sideBar": true,
   "skip_h1_title": false,
   "title_cell": "Table of Contents",
   "title_sidebar": "Contents",
   "toc_cell": true,
   "toc_position": {
    "height": "calc(100% - 180px)",
    "left": "10px",
    "top": "150px",
    "width": "354px"
   },
   "toc_section_display": true,
   "toc_window_display": true
  },
  "varInspector": {
   "cols": {
    "lenName": 16,
    "lenType": 16,
    "lenVar": 40
   },
   "kernels_config": {
    "python": {
     "delete_cmd_postfix": "",
     "delete_cmd_prefix": "del ",
     "library": "var_list.py",
     "varRefreshCmd": "print(var_dic_list())"
    },
    "r": {
     "delete_cmd_postfix": ") ",
     "delete_cmd_prefix": "rm(",
     "library": "var_list.r",
     "varRefreshCmd": "cat(var_dic_list()) "
    }
   },
   "types_to_exclude": [
    "module",
    "function",
    "builtin_function_or_method",
    "instance",
    "_Feature"
   ],
   "window_display": false
  }
 },
 "nbformat": 4,
 "nbformat_minor": 5
}
