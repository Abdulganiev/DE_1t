{
 "cells": [
  {
   "cell_type": "markdown",
   "id": "199d68c5",
   "metadata": {
    "toc": true
   },
   "source": [
    "<h1>Table of Contents<span class=\"tocSkip\"></span></h1>\n",
    "<div class=\"toc\"><ul class=\"toc-item\"><li><ul class=\"toc-item\"><li><span><a href=\"#Исследовательский-Анализ-Данных,-Статистическое-Тестирование\" data-toc-modified-id=\"Исследовательский-Анализ-Данных,-Статистическое-Тестирование-0.1\"><span class=\"toc-item-num\">0.1&nbsp;&nbsp;</span><center>Исследовательский Анализ Данных, Статистическое Тестирование</center></a></span></li><li><span><a href=\"#1.1-Описание-датасета\" data-toc-modified-id=\"1.1-Описание-датасета-0.2\"><span class=\"toc-item-num\">0.2&nbsp;&nbsp;</span>1.1 Описание датасета</a></span></li></ul></li><li><span><a href=\"#2-Бибилиотеки-&amp;-Настройки\" data-toc-modified-id=\"2-Бибилиотеки-&amp;-Настройки-1\"><span class=\"toc-item-num\">1&nbsp;&nbsp;</span>2 Бибилиотеки &amp; Настройки</a></span><ul class=\"toc-item\"><li><span><a href=\"#2.1-Импорт-Библиотек\" data-toc-modified-id=\"2.1-Импорт-Библиотек-1.1\"><span class=\"toc-item-num\">1.1&nbsp;&nbsp;</span>2.1 Импорт Библиотек</a></span></li><li><span><a href=\"#2.2-Настройки\" data-toc-modified-id=\"2.2-Настройки-1.2\"><span class=\"toc-item-num\">1.2&nbsp;&nbsp;</span>2.2 Настройки</a></span></li></ul></li><li><span><a href=\"#3-Датасет\" data-toc-modified-id=\"3-Датасет-2\"><span class=\"toc-item-num\">2&nbsp;&nbsp;</span>3 Датасет</a></span><ul class=\"toc-item\"><li><span><a href=\"#3.1-Проверка-на-дублированные-строки\" data-toc-modified-id=\"3.1-Проверка-на-дублированные-строки-2.1\"><span class=\"toc-item-num\">2.1&nbsp;&nbsp;</span>3.1 Проверка на дублированные строки</a></span></li><li><span><a href=\"#3.2-Описание-категориальных-признаков\" data-toc-modified-id=\"3.2-Описание-категориальных-признаков-2.2\"><span class=\"toc-item-num\">2.2&nbsp;&nbsp;</span>3.2 Описание категориальных признаков</a></span></li><li><span><a href=\"#3.3-Уникальные-значения-для-всех-столбцов\" data-toc-modified-id=\"3.3-Уникальные-значения-для-всех-столбцов-2.3\"><span class=\"toc-item-num\">2.3&nbsp;&nbsp;</span>3.3 Уникальные значения для всех столбцов</a></span></li></ul></li><li><span><a href=\"#4-Подготовка-сырых-данных\" data-toc-modified-id=\"4-Подготовка-сырых-данных-3\"><span class=\"toc-item-num\">3&nbsp;&nbsp;</span>4 Подготовка сырых данных</a></span><ul class=\"toc-item\"><li><span><a href=\"#4.1-Отсутствующие-значения\" data-toc-modified-id=\"4.1-Отсутствующие-значения-3.1\"><span class=\"toc-item-num\">3.1&nbsp;&nbsp;</span>4.1 Отсутствующие значения</a></span><ul class=\"toc-item\"><li><span><a href=\"#4.1.1-Изменение-типа-данных\" data-toc-modified-id=\"4.1.1-Изменение-типа-данных-3.1.1\"><span class=\"toc-item-num\">3.1.1&nbsp;&nbsp;</span>4.1.1 Изменение типа данных</a></span></li><li><span><a href=\"#4.1.2-TotalCharges\" data-toc-modified-id=\"4.1.2-TotalCharges-3.1.2\"><span class=\"toc-item-num\">3.1.2&nbsp;&nbsp;</span>4.1.2 TotalCharges</a></span></li></ul></li><li><span><a href=\"#4.2-Группировка-по-гистограмме\" data-toc-modified-id=\"4.2-Группировка-по-гистограмме-3.2\"><span class=\"toc-item-num\">3.2&nbsp;&nbsp;</span>4.2 Группировка по гистограмме</a></span><ul class=\"toc-item\"><li><span><a href=\"#4.2.1-Tenure\" data-toc-modified-id=\"4.2.1-Tenure-3.2.1\"><span class=\"toc-item-num\">3.2.1&nbsp;&nbsp;</span>4.2.1 Tenure</a></span></li><li><span><a href=\"#4.2.2-MonthlyCharges\" data-toc-modified-id=\"4.2.2-MonthlyCharges-3.2.2\"><span class=\"toc-item-num\">3.2.2&nbsp;&nbsp;</span>4.2.2 MonthlyCharges</a></span></li><li><span><a href=\"#4.2.3-TotalCharges\" data-toc-modified-id=\"4.2.3-TotalCharges-3.2.3\"><span class=\"toc-item-num\">3.2.3&nbsp;&nbsp;</span>4.2.3 TotalCharges</a></span></li></ul></li></ul></li><li><span><a href=\"#5-Одномерный-анализ\" data-toc-modified-id=\"5-Одномерный-анализ-4\"><span class=\"toc-item-num\">4&nbsp;&nbsp;</span>5 Одномерный анализ</a></span><ul class=\"toc-item\"><li><span><a href=\"#5.1-Статистический-анализ-на-норму\" data-toc-modified-id=\"5.1-Статистический-анализ-на-норму-4.1\"><span class=\"toc-item-num\">4.1&nbsp;&nbsp;</span>5.1 Статистический анализ на норму</a></span><ul class=\"toc-item\"><li><span><a href=\"#5.1.1-K'2-тест-Д'Агостино\" data-toc-modified-id=\"5.1.1-K'2-тест-Д'Агостино-4.1.1\"><span class=\"toc-item-num\">4.1.1&nbsp;&nbsp;</span>5.1.1 K'2-тест Д'Агостино</a></span><ul class=\"toc-item\"><li><span><a href=\"#MonthlyCharges\" data-toc-modified-id=\"MonthlyCharges-4.1.1.1\"><span class=\"toc-item-num\">4.1.1.1&nbsp;&nbsp;</span>MonthlyCharges</a></span></li><li><span><a href=\"#Tenure\" data-toc-modified-id=\"Tenure-4.1.1.2\"><span class=\"toc-item-num\">4.1.1.2&nbsp;&nbsp;</span>Tenure</a></span></li></ul></li><li><span><a href=\"#5.1.2-Критерий-Андерсона-—-Дарлинга\" data-toc-modified-id=\"5.1.2-Критерий-Андерсона-—-Дарлинга-4.1.2\"><span class=\"toc-item-num\">4.1.2&nbsp;&nbsp;</span>5.1.2 Критерий Андерсона — Дарлинга</a></span><ul class=\"toc-item\"><li><span><a href=\"#TotalCharges\" data-toc-modified-id=\"TotalCharges-4.1.2.1\"><span class=\"toc-item-num\">4.1.2.1&nbsp;&nbsp;</span>TotalCharges</a></span></li></ul></li></ul></li><li><span><a href=\"#5.2-Визуализация\" data-toc-modified-id=\"5.2-Визуализация-4.2\"><span class=\"toc-item-num\">4.2&nbsp;&nbsp;</span>5.2 Визуализация</a></span><ul class=\"toc-item\"><li><span><a href=\"#Churn-(Target)-Distribution\" data-toc-modified-id=\"Churn-(Target)-Distribution-4.2.1\"><span class=\"toc-item-num\">4.2.1&nbsp;&nbsp;</span>Churn (Target) Distribution</a></span></li><li><span><a href=\"#OnlineSecurity,-OnlineBackup,-DeviceProtection,-TechSupport\" data-toc-modified-id=\"OnlineSecurity,-OnlineBackup,-DeviceProtection,-TechSupport-4.2.2\"><span class=\"toc-item-num\">4.2.2&nbsp;&nbsp;</span>OnlineSecurity, OnlineBackup, DeviceProtection, TechSupport</a></span></li><li><span><a href=\"#PaymentMethod\" data-toc-modified-id=\"PaymentMethod-4.2.3\"><span class=\"toc-item-num\">4.2.3&nbsp;&nbsp;</span>PaymentMethod</a></span></li><li><span><a href=\"#Gender\" data-toc-modified-id=\"Gender-4.2.4\"><span class=\"toc-item-num\">4.2.4&nbsp;&nbsp;</span>Gender</a></span></li><li><span><a href=\"#Dependents\" data-toc-modified-id=\"Dependents-4.2.5\"><span class=\"toc-item-num\">4.2.5&nbsp;&nbsp;</span>Dependents</a></span></li><li><span><a href=\"#Senior-Citizen\" data-toc-modified-id=\"Senior-Citizen-4.2.6\"><span class=\"toc-item-num\">4.2.6&nbsp;&nbsp;</span>Senior Citizen</a></span></li><li><span><a href=\"#Contract\" data-toc-modified-id=\"Contract-4.2.7\"><span class=\"toc-item-num\">4.2.7&nbsp;&nbsp;</span>Contract</a></span></li><li><span><a href=\"#PaperlessBilling\" data-toc-modified-id=\"PaperlessBilling-4.2.8\"><span class=\"toc-item-num\">4.2.8&nbsp;&nbsp;</span>PaperlessBilling</a></span></li><li><span><a href=\"#Total-Charges\" data-toc-modified-id=\"Total-Charges-4.2.9\"><span class=\"toc-item-num\">4.2.9&nbsp;&nbsp;</span>Total Charges</a></span></li><li><span><a href=\"#Численные-признаки\" data-toc-modified-id=\"Численные-признаки-4.2.10\"><span class=\"toc-item-num\">4.2.10&nbsp;&nbsp;</span>Численные признаки</a></span></li></ul></li></ul></li><li><span><a href=\"#6-Двумерный-Анализ\" data-toc-modified-id=\"6-Двумерный-Анализ-5\"><span class=\"toc-item-num\">5&nbsp;&nbsp;</span>6 Двумерный Анализ</a></span><ul class=\"toc-item\"><li><ul class=\"toc-item\"><li><ul class=\"toc-item\"><li><span><a href=\"#Основные-гипотезы:\" data-toc-modified-id=\"Основные-гипотезы:-5.0.0.1\"><span class=\"toc-item-num\">5.0.0.1&nbsp;&nbsp;</span>Основные гипотезы:</a></span></li></ul></li></ul></li><li><span><a href=\"#6.1-Список-признаков-основанных-на-типе\" data-toc-modified-id=\"6.1-Список-признаков-основанных-на-типе-5.1\"><span class=\"toc-item-num\">5.1&nbsp;&nbsp;</span>6.1 Список признаков основанных на типе</a></span></li><li><span><a href=\"#6.2-Числовые-и-числовые\" data-toc-modified-id=\"6.2-Числовые-и-числовые-5.2\"><span class=\"toc-item-num\">5.2&nbsp;&nbsp;</span>6.2 Числовые и числовые</a></span><ul class=\"toc-item\"><li><span><a href=\"#6.2.1-Коэффициент-ранговой-корреляции-Спирмена\" data-toc-modified-id=\"6.2.1-Коэффициент-ранговой-корреляции-Спирмена-5.2.1\"><span class=\"toc-item-num\">5.2.1&nbsp;&nbsp;</span>6.2.1 Коэффициент ранговой корреляции Спирмена</a></span></li></ul></li><li><span><a href=\"#6.3-Числовой-и-порядковые\" data-toc-modified-id=\"6.3-Числовой-и-порядковые-5.3\"><span class=\"toc-item-num\">5.3&nbsp;&nbsp;</span>6.3 Числовой и порядковые</a></span><ul class=\"toc-item\"><li><span><a href=\"#6.3.1-Коэффициент-корреляции-Кендалла\" data-toc-modified-id=\"6.3.1-Коэффициент-корреляции-Кендалла-5.3.1\"><span class=\"toc-item-num\">5.3.1&nbsp;&nbsp;</span>6.3.1 Коэффициент корреляции Кендалла</a></span></li><li><span><a href=\"#6.3.2-U-критерий-Манна-—-Уитни\" data-toc-modified-id=\"6.3.2-U-критерий-Манна-—-Уитни-5.3.2\"><span class=\"toc-item-num\">5.3.2&nbsp;&nbsp;</span>6.3.2 U-критерий Манна — Уитни</a></span></li><li><span><a href=\"#Целевая-корреляция-(Двухклассовая)\" data-toc-modified-id=\"Целевая-корреляция-(Двухклассовая)-5.3.3\"><span class=\"toc-item-num\">5.3.3&nbsp;&nbsp;</span>Целевая корреляция (Двухклассовая)</a></span></li><li><span><a href=\"#6.3.3-Многоклассовые-с-числовыми\" data-toc-modified-id=\"6.3.3-Многоклассовые-с-числовыми-5.3.4\"><span class=\"toc-item-num\">5.3.4&nbsp;&nbsp;</span>6.3.3 Многоклассовые с числовыми</a></span></li></ul></li><li><span><a href=\"#6.4-Двухклассовое-и-Двухклассовое\" data-toc-modified-id=\"6.4-Двухклассовое-и-Двухклассовое-5.4\"><span class=\"toc-item-num\">5.4&nbsp;&nbsp;</span>6.4 Двухклассовое и Двухклассовое</a></span><ul class=\"toc-item\"><li><span><a href=\"#6.4.1-Корреляция-Phi\" data-toc-modified-id=\"6.4.1-Корреляция-Phi-5.4.1\"><span class=\"toc-item-num\">5.4.1&nbsp;&nbsp;</span>6.4.1 Корреляция Phi</a></span></li></ul></li><li><span><a href=\"#6.5-Категориальная-&amp;-категориальная\" data-toc-modified-id=\"6.5-Категориальная-&amp;-категориальная-5.5\"><span class=\"toc-item-num\">5.5&nbsp;&nbsp;</span>6.5 Категориальная &amp; категориальная</a></span><ul class=\"toc-item\"><li><span><a href=\"#6.5.1-Chi-квадрат\" data-toc-modified-id=\"6.5.1-Chi-квадрат-5.5.1\"><span class=\"toc-item-num\">5.5.1&nbsp;&nbsp;</span>6.5.1 Chi-квадрат</a></span><ul class=\"toc-item\"><li><span><a href=\"#Двухклассовые-признаки\" data-toc-modified-id=\"Двухклассовые-признаки-5.5.1.1\"><span class=\"toc-item-num\">5.5.1.1&nbsp;&nbsp;</span>Двухклассовые признаки</a></span></li></ul></li><li><span><a href=\"#Многоклассовые-признаки\" data-toc-modified-id=\"Многоклассовые-признаки-5.5.2\"><span class=\"toc-item-num\">5.5.2&nbsp;&nbsp;</span>Многоклассовые признаки</a></span></li><li><span><a href=\"#6.5.2-V-Крамера\" data-toc-modified-id=\"6.5.2-V-Крамера-5.5.3\"><span class=\"toc-item-num\">5.5.3&nbsp;&nbsp;</span>6.5.2 V Крамера</a></span><ul class=\"toc-item\"><li><span><a href=\"#Using-Scipy-Module\" data-toc-modified-id=\"Using-Scipy-Module-5.5.3.1\"><span class=\"toc-item-num\">5.5.3.1&nbsp;&nbsp;</span>Using Scipy Module</a></span></li></ul></li><li><span><a href=\"#6.5.3-Коэффициент-неопределенности\" data-toc-modified-id=\"6.5.3-Коэффициент-неопределенности-5.5.4\"><span class=\"toc-item-num\">5.5.4&nbsp;&nbsp;</span>6.5.3 Коэффициент неопределенности</a></span></li></ul></li><li><span><a href=\"#6.6-Коллинеарность\" data-toc-modified-id=\"6.6-Коллинеарность-5.6\"><span class=\"toc-item-num\">5.6&nbsp;&nbsp;</span>6.6 Коллинеарность</a></span><ul class=\"toc-item\"><li><span><a href=\"#6.6.1-Chi-Square\" data-toc-modified-id=\"6.6.1-Chi-Square-5.6.1\"><span class=\"toc-item-num\">5.6.1&nbsp;&nbsp;</span>6.6.1 Chi-Square</a></span></li></ul></li><li><span><a href=\"#6.7-Visualization\" data-toc-modified-id=\"6.7-Visualization-5.7\"><span class=\"toc-item-num\">5.7&nbsp;&nbsp;</span>6.7 Visualization</a></span><ul class=\"toc-item\"><li><span><a href=\"#Tenure-and-MonthlyCharges-Distribution\" data-toc-modified-id=\"Tenure-and-MonthlyCharges-Distribution-5.7.1\"><span class=\"toc-item-num\">5.7.1&nbsp;&nbsp;</span>Tenure and MonthlyCharges Distribution</a></span></li><li><span><a href=\"#Contract-and-Churn\" data-toc-modified-id=\"Contract-and-Churn-5.7.2\"><span class=\"toc-item-num\">5.7.2&nbsp;&nbsp;</span>Contract and Churn</a></span></li><li><span><a href=\"#OnlineSecurity-and-Churn\" data-toc-modified-id=\"OnlineSecurity-and-Churn-5.7.3\"><span class=\"toc-item-num\">5.7.3&nbsp;&nbsp;</span>OnlineSecurity and Churn</a></span></li><li><span><a href=\"#Partner-and-Churn\" data-toc-modified-id=\"Partner-and-Churn-5.7.4\"><span class=\"toc-item-num\">5.7.4&nbsp;&nbsp;</span>Partner and Churn</a></span></li><li><span><a href=\"#Gender,-TotalCharges-and-Churn\" data-toc-modified-id=\"Gender,-TotalCharges-and-Churn-5.7.5\"><span class=\"toc-item-num\">5.7.5&nbsp;&nbsp;</span>Gender, TotalCharges and Churn</a></span></li><li><span><a href=\"#Checking-Outliers\" data-toc-modified-id=\"Checking-Outliers-5.7.6\"><span class=\"toc-item-num\">5.7.6&nbsp;&nbsp;</span>Checking Outliers</a></span></li></ul></li></ul></li><li><span><a href=\"#7-Многомерный-анализ\" data-toc-modified-id=\"7-Многомерный-анализ-6\"><span class=\"toc-item-num\">6&nbsp;&nbsp;</span>7 Многомерный анализ</a></span><ul class=\"toc-item\"><li><ul class=\"toc-item\"><li><span><a href=\"#7.1-Мультиколлинеарность-(Критерий-Краскела-—-Уоллиса)\" data-toc-modified-id=\"7.1-Мультиколлинеарность-(Критерий-Краскела-—-Уоллиса)-6.0.1\"><span class=\"toc-item-num\">6.0.1&nbsp;&nbsp;</span>7.1 Мультиколлинеарность (Критерий Краскела — Уоллиса)</a></span></li></ul></li><li><span><a href=\"#7.2-Frequency-Distribution\" data-toc-modified-id=\"7.2-Frequency-Distribution-6.1\"><span class=\"toc-item-num\">6.1&nbsp;&nbsp;</span>7.2 Frequency Distribution</a></span></li><li><span><a href=\"#7.3-Churn-Count-Distribution\" data-toc-modified-id=\"7.3-Churn-Count-Distribution-6.2\"><span class=\"toc-item-num\">6.2&nbsp;&nbsp;</span>7.3 Churn Count Distribution</a></span><ul class=\"toc-item\"><li><span><a href=\"#7.3.1-Features-With-Cardinality-=-2\" data-toc-modified-id=\"7.3.1-Features-With-Cardinality-=-2-6.2.1\"><span class=\"toc-item-num\">6.2.1&nbsp;&nbsp;</span>7.3.1 Features With Cardinality = 2</a></span></li><li><span><a href=\"#7.3.2-Features-With-Cardinality-=-3\" data-toc-modified-id=\"7.3.2-Features-With-Cardinality-=-3-6.2.2\"><span class=\"toc-item-num\">6.2.2&nbsp;&nbsp;</span>7.3.2 Features With Cardinality = 3</a></span></li></ul></li></ul></li><li><span><a href=\"#8-Выводы\" data-toc-modified-id=\"8-Выводы-7\"><span class=\"toc-item-num\">7&nbsp;&nbsp;</span>8 Выводы</a></span></li><li><span><a href=\"#9-Ссылки\" data-toc-modified-id=\"9-Ссылки-8\"><span class=\"toc-item-num\">8&nbsp;&nbsp;</span>9 Ссылки</a></span></li></ul></div>"
   ]
  },
  {
   "cell_type": "markdown",
   "id": "8277ca02",
   "metadata": {
    "id": "8277ca02",
    "papermill": {
     "duration": 0.112743,
     "end_time": "2022-09-17T00:12:57.265328",
     "exception": false,
     "start_time": "2022-09-17T00:12:57.152585",
     "status": "completed"
    },
    "tags": []
   },
   "source": [
    "<h2><center>Исследовательский Анализ Данных, Статистическое Тестирование</center></h2>"
   ]
  },
  {
   "cell_type": "markdown",
   "id": "ed2f4a30",
   "metadata": {
    "id": "ed2f4a30",
    "papermill": {
     "duration": 0.109327,
     "end_time": "2022-09-17T00:12:57.963155",
     "exception": false,
     "start_time": "2022-09-17T00:12:57.853828",
     "status": "completed"
    },
    "tags": []
   },
   "source": [
    "<a id='1.1'></a>\n",
    "\n",
    "## 1.1 Описание датасета\n",
    "\n",
    "* Набор данных в основном содержит категориальные переменные\n",
    "* Выполнена проверка статистической гипотезы на основе типов данных для проверки нормальности, корреляции и мультиколлинеарности\n",
    "* Выполнены непараметрические статистические тесты для объектов, которые обычно не распределены\n",
    "* Все статистические тесты были выполнены с 95%-ным уровнем достоверности (т.е. значение р < 0,05)"
   ]
  },
  {
   "cell_type": "markdown",
   "id": "8d0a28fc",
   "metadata": {
    "id": "8d0a28fc",
    "papermill": {
     "duration": 0.105927,
     "end_time": "2022-09-17T00:12:58.195422",
     "exception": false,
     "start_time": "2022-09-17T00:12:58.089495",
     "status": "completed"
    },
    "tags": []
   },
   "source": [
    "<a id='2'></a>\n",
    "# 2 Бибилиотеки & Настройки"
   ]
  },
  {
   "cell_type": "markdown",
   "id": "d5987f69",
   "metadata": {
    "id": "d5987f69",
    "papermill": {
     "duration": 0.104938,
     "end_time": "2022-09-17T00:12:58.405685",
     "exception": false,
     "start_time": "2022-09-17T00:12:58.300747",
     "status": "completed"
    },
    "tags": []
   },
   "source": [
    "<a id='2.1'></a>\n",
    "## 2.1 Импорт Библиотек "
   ]
  },
  {
   "cell_type": "code",
   "execution_count": 3,
   "id": "aced3dd7",
   "metadata": {
    "_kg_hide-input": true,
    "colab": {
     "base_uri": "https://localhost:8080/",
     "height": 17
    },
    "execution": {
     "iopub.execute_input": "2022-09-17T00:12:58.636783Z",
     "iopub.status.busy": "2022-09-17T00:12:58.621113Z",
     "iopub.status.idle": "2022-09-17T00:13:01.160144Z",
     "shell.execute_reply": "2022-09-17T00:13:01.159473Z",
     "shell.execute_reply.started": "2022-06-11T01:42:15.064663Z"
    },
    "executionInfo": {
     "elapsed": 2012,
     "status": "ok",
     "timestamp": 1665974512092,
     "user": {
      "displayName": "Юрий Юров",
      "userId": "14847658770947017811"
     },
     "user_tz": -240
    },
    "id": "aced3dd7",
    "outputId": "8b15989a-7641-4dd8-e1cd-acc9568ed88f",
    "papermill": {
     "duration": 2.648922,
     "end_time": "2022-09-17T00:13:01.160303",
     "exception": false,
     "start_time": "2022-09-17T00:12:58.511381",
     "status": "completed"
    },
    "tags": []
   },
   "outputs": [
    {
     "data": {
      "text/html": [
       "        <script type=\"text/javascript\">\n",
       "        window.PlotlyConfig = {MathJaxConfig: 'local'};\n",
       "        if (window.MathJax) {MathJax.Hub.Config({SVG: {font: \"STIX-Web\"}});}\n",
       "        if (typeof require !== 'undefined') {\n",
       "        require.undef(\"plotly\");\n",
       "        requirejs.config({\n",
       "            paths: {\n",
       "                'plotly': ['https://cdn.plot.ly/plotly-2.4.2.min']\n",
       "            }\n",
       "        });\n",
       "        require(['plotly'], function(Plotly) {\n",
       "            window._Plotly = Plotly;\n",
       "        });\n",
       "        }\n",
       "        </script>\n",
       "        "
      ]
     },
     "metadata": {},
     "output_type": "display_data"
    }
   ],
   "source": [
    "\"\"\"Импорт базовых модулей\"\"\"\n",
    "import math\n",
    "import os\n",
    "import gc\n",
    "import random\n",
    "from pprint import pprint\n",
    "import numpy as np               # Для линейной алгебры\n",
    "import pandas as pd              # Для работы с данными\n",
    "import matplotlib.pyplot as plt  # Для 2D визуализации\n",
    "import seaborn as sns\n",
    "\n",
    "# Настройка Warnings\n",
    "import warnings\n",
    "warnings.filterwarnings(\"ignore\")\n",
    "\n",
    "from collections import Counter\n",
    "from scipy import stats                         # Для статистики\n",
    "from scipy.stats.contingency import association\n",
    "from scipy.stats import shapiro\n",
    "\n",
    "\"\"\"Plotly визуализация\"\"\"\n",
    "import plotly.graph_objs as go\n",
    "import plotly.express as px\n",
    "import plotly.io as pio\n",
    "from plotly.subplots import make_subplots\n",
    "from plotly.offline import init_notebook_mode, iplot\n",
    "  \n",
    "\n",
    "\"\"\"scikit-learn модули\"\"\"\n",
    "from sklearn.preprocessing import OrdinalEncoder, LabelEncoder\n",
    "from sklearn.preprocessing import PowerTransformer\n",
    "from sklearn.feature_selection import chi2\n",
    "from sklearn.metrics import matthews_corrcoef\n",
    "\n",
    "import multiprocessing\n",
    "import pickle, joblib\n",
    "\n",
    "\n",
    "from IPython.display import Markdown, display\n",
    "\n",
    "def printmd(string):\n",
    "    display(Markdown(string))\n",
    "\n",
    "\n",
    "sns.set_style('whitegrid')\n",
    "\n",
    "init_notebook_mode(connected=True)\n",
    "\n",
    "%matplotlib inline"
   ]
  },
  {
   "cell_type": "code",
   "execution_count": 2,
   "id": "b3a9cc58",
   "metadata": {
    "execution": {
     "iopub.execute_input": "2022-09-17T00:13:01.376225Z",
     "iopub.status.busy": "2022-09-17T00:13:01.375533Z",
     "iopub.status.idle": "2022-09-17T00:13:01.380261Z",
     "shell.execute_reply": "2022-09-17T00:13:01.380827Z",
     "shell.execute_reply.started": "2022-06-11T01:42:17.898412Z"
    },
    "id": "b3a9cc58",
    "papermill": {
     "duration": 0.114147,
     "end_time": "2022-09-17T00:13:01.381031",
     "exception": false,
     "start_time": "2022-09-17T00:13:01.266884",
     "status": "completed"
    },
    "tags": []
   },
   "outputs": [],
   "source": [
    "plt_params = {\n",
    "    'axes.facecolor' : 'white',\n",
    "}\n",
    "\n",
    "plt.rcParams.update(plt_params)"
   ]
  },
  {
   "cell_type": "markdown",
   "id": "a08aba17",
   "metadata": {
    "id": "a08aba17",
    "papermill": {
     "duration": 0.105855,
     "end_time": "2022-09-17T00:13:01.597528",
     "exception": false,
     "start_time": "2022-09-17T00:13:01.491673",
     "status": "completed"
    },
    "tags": []
   },
   "source": [
    "<a id='2.2'></a>\n",
    "## 2.2 Настройки"
   ]
  },
  {
   "cell_type": "code",
   "execution_count": null,
   "id": "ae8612b8",
   "metadata": {
    "_kg_hide-input": true,
    "execution": {
     "iopub.execute_input": "2022-09-17T00:13:01.815971Z",
     "iopub.status.busy": "2022-09-17T00:13:01.815233Z",
     "iopub.status.idle": "2022-09-17T00:13:01.820416Z",
     "shell.execute_reply": "2022-09-17T00:13:01.819876Z",
     "shell.execute_reply.started": "2022-06-11T01:42:17.905021Z"
    },
    "id": "ae8612b8",
    "papermill": {
     "duration": 0.114132,
     "end_time": "2022-09-17T00:13:01.820591",
     "exception": false,
     "start_time": "2022-09-17T00:13:01.706459",
     "status": "completed"
    },
    "tags": []
   },
   "outputs": [],
   "source": [
    "left_padding = 21\n",
    "SEED = 42\n",
    "\n",
    "def seed_everything(seed=42):\n",
    "    random.seed(seed)\n",
    "    os.environ['PYTHONHASHSEED'] = str(seed)\n",
    "    np.random.seed(seed)\n",
    "\n",
    "seed_everything(SEED)"
   ]
  },
  {
   "cell_type": "markdown",
   "id": "ba760e61",
   "metadata": {
    "id": "ba760e61",
    "papermill": {
     "duration": 0.106947,
     "end_time": "2022-09-17T00:13:02.034149",
     "exception": false,
     "start_time": "2022-09-17T00:13:01.927202",
     "status": "completed"
    },
    "tags": []
   },
   "source": [
    "<a id='3'></a>\n",
    "# 3 Датасет"
   ]
  },
  {
   "cell_type": "markdown",
   "id": "aaba22c5",
   "metadata": {
    "id": "aaba22c5",
    "papermill": {
     "duration": 0.107761,
     "end_time": "2022-09-17T00:13:02.248931",
     "exception": false,
     "start_time": "2022-09-17T00:13:02.141170",
     "status": "completed"
    },
    "tags": []
   },
   "source": [
    "<table>\n",
    "<thead><tr>\n",
    "<th><strong>Feature Name</strong></th>\n",
    "<th><strong>Description</strong></th>\n",
    "<th><strong>Data Type</strong></th>\n",
    "</tr>\n",
    "</thead>\n",
    "<tbody>\n",
    "<tr>\n",
    "<td>customerID</td>\n",
    "<td>Содержит идентификатор клиента</td>\n",
    "<td>categorical</td>\n",
    "</tr>\n",
    "<tr>\n",
    "<td>gender</td>\n",
    "<td>Пол клиента</td>\n",
    "<td>categorical</td>\n",
    "</tr>\n",
    "<tr>\n",
    "<td>SeniorCitizen</td>\n",
    "<td>Является ли клиент пожилым гражданином</td>\n",
    "<td>numeric, int</td>\n",
    "</tr>\n",
    "<tr>\n",
    "<td>Partner</td>\n",
    "<td>Есть ли у клиента партнер</td>\n",
    "<td>categorical</td>\n",
    "</tr>\n",
    "<tr>\n",
    "<td>Dependents</td>\n",
    "<td>Является ли клиент кормильцем</td>\n",
    "<td>categorical</td>\n",
    "</tr>\n",
    "<tr>\n",
    "<td>tenure</td>\n",
    "<td>Количество месяцев, в течение которых клиент оставался в компании</td>\n",
    "<td>numeric, int</td>\n",
    "</tr>\n",
    "<tr>\n",
    "<td>PhoneService</td>\n",
    "<td>Есть ли у клиента телефонная связь</td>\n",
    "<td>categorical</td>\n",
    "</tr>\n",
    "<tr>\n",
    "<td>MultipleLines</td>\n",
    "<td>Есть ли у клиента несколько линий</td>\n",
    "<td>categorical</td>\n",
    "</tr>\n",
    "<tr>\n",
    "<td>InternetService</td>\n",
    "<td>Интернет-провайдер клиента</td>\n",
    "<td>categorical</td>\n",
    "</tr>\n",
    "<tr>\n",
    "<td>OnlineSecurity</td>\n",
    "<td>Есть ли у клиента онлайн-безопасность</td>\n",
    "<td>categorical</td>\n",
    "</tr>\n",
    "<tr>\n",
    "<td>OnlineBackup</td>\n",
    "<td>Есть ли у клиента онлайн-резервное копирование</td>\n",
    "<td>categorical</td>\n",
    "</tr>\n",
    "<tr>\n",
    "<td>DeviceProtection</td>\n",
    "<td>Имеет ли клиент защиту устройства</td>\n",
    "<td>categorical</td>\n",
    "</tr>\n",
    "<tr>\n",
    "<td>TechSupport</td>\n",
    "<td>Есть ли у клиента техническая поддержка</td>\n",
    "<td>categorical</td>\n",
    "</tr>\n",
    "<tr>\n",
    "<td>streamingTV</td>\n",
    "<td>Есть ли у клиента потоковое телевидение</td>\n",
    "<td>categorical</td>\n",
    "</tr>\n",
    "<tr>\n",
    "<td>streamingMovies</td>\n",
    "<td>Есть ли у клиента стриминговые сервисы</td>\n",
    "<td>categorical</td>\n",
    "</tr>\n",
    "<tr>\n",
    "<td>Contract</td>\n",
    "<td>Срок действия контракта заказчика</td>\n",
    "<td>categorical</td>\n",
    "</tr>\n",
    "<tr>\n",
    "<td>PaperlessBilling</td>\n",
    "<td>имеет ли клиент безналичные счета</td>\n",
    "<td>categorical</td>\n",
    "</tr>\n",
    "<tr>\n",
    "<td>PaymentMethod</td>\n",
    "<td>Способ оплаты клиента</td>\n",
    "<td>categorical</td>\n",
    "</tr>\n",
    "<tr>\n",
    "<td>MonthlyCharges</td>\n",
    "<td>Сумма, взимаемая с клиента ежемесячно </td>\n",
    "<td> numeric , int</td>\n",
    "</tr>\n",
    "<tr>\n",
    "<td>TotalCharges</td>\n",
    "<td>Общая сумма, списанная с клиента</td>\n",
    "<td>object</td>\n",
    "</tr>\n",
    "<tr>\n",
    "<td>Churn</td>\n",
    "<td>Ушел ли клиент</td>\n",
    "<td>categorical</td>\n",
    "</tr>\n",
    "</tbody>\n",
    "</table>"
   ]
  },
  {
   "cell_type": "code",
   "execution_count": null,
   "id": "423cbac6",
   "metadata": {
    "colab": {
     "base_uri": "https://localhost:8080/",
     "height": 369
    },
    "execution": {
     "iopub.execute_input": "2022-09-17T00:13:02.470253Z",
     "iopub.status.busy": "2022-09-17T00:13:02.469559Z",
     "iopub.status.idle": "2022-09-17T00:13:02.607172Z",
     "shell.execute_reply": "2022-09-17T00:13:02.606629Z",
     "shell.execute_reply.started": "2022-06-11T01:42:17.920561Z"
    },
    "executionInfo": {
     "elapsed": 34,
     "status": "ok",
     "timestamp": 1665974512093,
     "user": {
      "displayName": "Юрий Юров",
      "userId": "14847658770947017811"
     },
     "user_tz": -240
    },
    "id": "423cbac6",
    "outputId": "bef79296-7f1f-4e53-e1d6-0b349fee9c6a",
    "papermill": {
     "duration": 0.24658,
     "end_time": "2022-09-17T00:13:02.607322",
     "exception": false,
     "start_time": "2022-09-17T00:13:02.360742",
     "status": "completed"
    },
    "tags": []
   },
   "outputs": [],
   "source": [
    "df_churn = pd.read_csv(\"./Churn.csv\")\n",
    "df_churn.head()"
   ]
  },
  {
   "cell_type": "code",
   "execution_count": null,
   "id": "1f4368a2",
   "metadata": {
    "colab": {
     "base_uri": "https://localhost:8080/",
     "height": 46
    },
    "execution": {
     "iopub.execute_input": "2022-09-17T00:13:02.827784Z",
     "iopub.status.busy": "2022-09-17T00:13:02.826986Z",
     "iopub.status.idle": "2022-09-17T00:13:02.830524Z",
     "shell.execute_reply": "2022-09-17T00:13:02.831089Z",
     "shell.execute_reply.started": "2022-06-11T01:42:18.028504Z"
    },
    "executionInfo": {
     "elapsed": 33,
     "status": "ok",
     "timestamp": 1665974512094,
     "user": {
      "displayName": "Юрий Юров",
      "userId": "14847658770947017811"
     },
     "user_tz": -240
    },
    "id": "1f4368a2",
    "outputId": "ac07c4df-51f4-4da3-9e97-161c03bf8ba7",
    "papermill": {
     "duration": 0.115965,
     "end_time": "2022-09-17T00:13:02.831269",
     "exception": false,
     "start_time": "2022-09-17T00:13:02.715304",
     "status": "completed"
    },
    "tags": []
   },
   "outputs": [],
   "source": [
    "printmd(f\"Размерность датасета: **{df_churn.shape[0]}** rows,  **{df_churn.shape[1]}** columns\")"
   ]
  },
  {
   "cell_type": "code",
   "execution_count": null,
   "id": "060872ce",
   "metadata": {
    "colab": {
     "base_uri": "https://localhost:8080/",
     "height": 550
    },
    "execution": {
     "iopub.execute_input": "2022-09-17T00:13:03.050089Z",
     "iopub.status.busy": "2022-09-17T00:13:03.048636Z",
     "iopub.status.idle": "2022-09-17T00:13:03.080353Z",
     "shell.execute_reply": "2022-09-17T00:13:03.079685Z",
     "shell.execute_reply.started": "2022-06-11T01:42:18.038064Z"
    },
    "executionInfo": {
     "elapsed": 33,
     "status": "ok",
     "timestamp": 1665974512095,
     "user": {
      "displayName": "Юрий Юров",
      "userId": "14847658770947017811"
     },
     "user_tz": -240
    },
    "id": "060872ce",
    "outputId": "d3fded75-c77a-4999-cde5-54cea0e926da",
    "papermill": {
     "duration": 0.142044,
     "end_time": "2022-09-17T00:13:03.080511",
     "exception": false,
     "start_time": "2022-09-17T00:13:02.938467",
     "status": "completed"
    },
    "tags": []
   },
   "outputs": [],
   "source": [
    "df_churn.info()\n",
    "\n",
    "printmd(\"<br>**TotalCharges** должен быть преобразован в float\")"
   ]
  },
  {
   "cell_type": "markdown",
   "id": "33d1abb3",
   "metadata": {
    "id": "33d1abb3",
    "papermill": {
     "duration": 0.107391,
     "end_time": "2022-09-17T00:13:03.296525",
     "exception": false,
     "start_time": "2022-09-17T00:13:03.189134",
     "status": "completed"
    },
    "tags": []
   },
   "source": [
    "<a id='3.1'></a>\n",
    "## 3.1 Проверка на дублированные строки"
   ]
  },
  {
   "cell_type": "code",
   "execution_count": null,
   "id": "93cee3e3",
   "metadata": {
    "colab": {
     "base_uri": "https://localhost:8080/",
     "height": 64
    },
    "execution": {
     "iopub.execute_input": "2022-09-17T00:13:03.517087Z",
     "iopub.status.busy": "2022-09-17T00:13:03.516373Z",
     "iopub.status.idle": "2022-09-17T00:13:03.544086Z",
     "shell.execute_reply": "2022-09-17T00:13:03.543264Z",
     "shell.execute_reply.started": "2022-06-11T01:42:18.084977Z"
    },
    "executionInfo": {
     "elapsed": 24,
     "status": "ok",
     "timestamp": 1665974512095,
     "user": {
      "displayName": "Юрий Юров",
      "userId": "14847658770947017811"
     },
     "user_tz": -240
    },
    "id": "93cee3e3",
    "outputId": "95430dd9-ae2c-4647-d979-372ef1f7b16f",
    "papermill": {
     "duration": 0.140187,
     "end_time": "2022-09-17T00:13:03.544281",
     "exception": false,
     "start_time": "2022-09-17T00:13:03.404094",
     "status": "completed"
    },
    "tags": []
   },
   "outputs": [],
   "source": [
    "print('Известные наблюдения: {} \\ Уникальные наблюдения: {}'.format(len(df_churn.index),len(df_churn.drop_duplicates().index)))\n",
    "\n",
    "printmd(\"**Дубликатов не найдено**\")"
   ]
  },
  {
   "cell_type": "markdown",
   "id": "fMv1IA0jO0sj",
   "metadata": {
    "id": "fMv1IA0jO0sj"
   },
   "source": [
    "Удаляем ненужную колонку"
   ]
  },
  {
   "cell_type": "code",
   "execution_count": null,
   "id": "omcFZKsbOylM",
   "metadata": {
    "id": "omcFZKsbOylM"
   },
   "outputs": [],
   "source": [
    "del df_churn[\"customerID\"]"
   ]
  },
  {
   "cell_type": "markdown",
   "id": "59d8f6d7",
   "metadata": {
    "id": "59d8f6d7",
    "papermill": {
     "duration": 0.110182,
     "end_time": "2022-09-17T00:13:04.215152",
     "exception": false,
     "start_time": "2022-09-17T00:13:04.104970",
     "status": "completed"
    },
    "tags": []
   },
   "source": [
    "<a id='3.2'></a>\n",
    "## 3.2 Описание категориальных признаков"
   ]
  },
  {
   "cell_type": "code",
   "execution_count": null,
   "id": "afc75c87",
   "metadata": {
    "colab": {
     "base_uri": "https://localhost:8080/",
     "height": 582
    },
    "execution": {
     "iopub.execute_input": "2022-09-17T00:13:04.440284Z",
     "iopub.status.busy": "2022-09-17T00:13:04.439598Z",
     "iopub.status.idle": "2022-09-17T00:13:04.490509Z",
     "shell.execute_reply": "2022-09-17T00:13:04.491136Z",
     "shell.execute_reply.started": "2022-06-11T01:42:18.125919Z"
    },
    "executionInfo": {
     "elapsed": 19,
     "status": "ok",
     "timestamp": 1665974512096,
     "user": {
      "displayName": "Юрий Юров",
      "userId": "14847658770947017811"
     },
     "user_tz": -240
    },
    "id": "afc75c87",
    "outputId": "1a4ddd95-2a63-440c-9e34-942ae9568e3d",
    "papermill": {
     "duration": 0.166675,
     "end_time": "2022-09-17T00:13:04.491328",
     "exception": false,
     "start_time": "2022-09-17T00:13:04.324653",
     "status": "completed"
    },
    "tags": []
   },
   "outputs": [],
   "source": [
    "df_churn.describe(include=['object']).T"
   ]
  },
  {
   "cell_type": "markdown",
   "id": "20dfbfdf",
   "metadata": {
    "id": "20dfbfdf",
    "papermill": {
     "duration": 0.109572,
     "end_time": "2022-09-17T00:13:04.713273",
     "exception": false,
     "start_time": "2022-09-17T00:13:04.603701",
     "status": "completed"
    },
    "tags": []
   },
   "source": [
    "<a id='3.3'></a>\n",
    "## 3.3 Уникальные значения для всех столбцов"
   ]
  },
  {
   "cell_type": "code",
   "execution_count": null,
   "id": "ee0c58cd",
   "metadata": {
    "colab": {
     "base_uri": "https://localhost:8080/",
     "height": 393
    },
    "execution": {
     "iopub.execute_input": "2022-09-17T00:13:04.935559Z",
     "iopub.status.busy": "2022-09-17T00:13:04.934820Z",
     "iopub.status.idle": "2022-09-17T00:13:05.002298Z",
     "shell.execute_reply": "2022-09-17T00:13:05.001592Z",
     "shell.execute_reply.started": "2022-06-11T01:42:18.216116Z"
    },
    "executionInfo": {
     "elapsed": 1472,
     "status": "ok",
     "timestamp": 1665974513550,
     "user": {
      "displayName": "Юрий Юров",
      "userId": "14847658770947017811"
     },
     "user_tz": -240
    },
    "id": "ee0c58cd",
    "outputId": "e054dd20-e6d1-41e7-8290-bcfd22e2a668",
    "papermill": {
     "duration": 0.17919,
     "end_time": "2022-09-17T00:13:05.002481",
     "exception": false,
     "start_time": "2022-09-17T00:13:04.823291",
     "status": "completed"
    },
    "tags": []
   },
   "outputs": [],
   "source": [
    "printmd(\"**Уникальные значения по признакам**\")\n",
    "for feature in df_churn.columns:\n",
    "    uniq = np.unique(df_churn[feature])\n",
    "    print(feature.ljust(left_padding),len(uniq))"
   ]
  },
  {
   "cell_type": "markdown",
   "id": "92f535e5",
   "metadata": {
    "id": "92f535e5",
    "papermill": {
     "duration": 0.109623,
     "end_time": "2022-09-17T00:13:05.222994",
     "exception": false,
     "start_time": "2022-09-17T00:13:05.113371",
     "status": "completed"
    },
    "tags": []
   },
   "source": [
    "<a id='4'></a>\n",
    "# 4 Подготовка сырых данных "
   ]
  },
  {
   "cell_type": "markdown",
   "id": "8e8f7fbc",
   "metadata": {
    "id": "8e8f7fbc",
    "papermill": {
     "duration": 0.110418,
     "end_time": "2022-09-17T00:13:05.443495",
     "exception": false,
     "start_time": "2022-09-17T00:13:05.333077",
     "status": "completed"
    },
    "tags": []
   },
   "source": [
    "<a id='4.1'></a>\n",
    "## 4.1 Отсутствующие значения"
   ]
  },
  {
   "cell_type": "code",
   "execution_count": null,
   "id": "3493172e",
   "metadata": {
    "colab": {
     "base_uri": "https://localhost:8080/"
    },
    "execution": {
     "iopub.execute_input": "2022-09-17T00:13:05.674256Z",
     "iopub.status.busy": "2022-09-17T00:13:05.673177Z",
     "iopub.status.idle": "2022-09-17T00:13:05.680749Z",
     "shell.execute_reply": "2022-09-17T00:13:05.681239Z",
     "shell.execute_reply.started": "2022-06-11T01:42:18.339795Z"
    },
    "executionInfo": {
     "elapsed": 8,
     "status": "ok",
     "timestamp": 1665974513551,
     "user": {
      "displayName": "Юрий Юров",
      "userId": "14847658770947017811"
     },
     "user_tz": -240
    },
    "id": "3493172e",
    "outputId": "635fe2a6-1c96-4210-a490-481404e23d8f",
    "papermill": {
     "duration": 0.127904,
     "end_time": "2022-09-17T00:13:05.681445",
     "exception": false,
     "start_time": "2022-09-17T00:13:05.553541",
     "status": "completed"
    },
    "tags": []
   },
   "outputs": [],
   "source": [
    "df_churn.isna().sum()"
   ]
  },
  {
   "cell_type": "code",
   "execution_count": null,
   "id": "c086249f",
   "metadata": {
    "colab": {
     "base_uri": "https://localhost:8080/",
     "height": 411
    },
    "execution": {
     "iopub.execute_input": "2022-09-17T00:13:05.911410Z",
     "iopub.status.busy": "2022-09-17T00:13:05.910338Z",
     "iopub.status.idle": "2022-09-17T00:13:06.005216Z",
     "shell.execute_reply": "2022-09-17T00:13:06.004409Z",
     "shell.execute_reply.started": "2022-06-11T01:42:18.364396Z"
    },
    "executionInfo": {
     "elapsed": 7,
     "status": "ok",
     "timestamp": 1665974513552,
     "user": {
      "displayName": "Юрий Юров",
      "userId": "14847658770947017811"
     },
     "user_tz": -240
    },
    "id": "c086249f",
    "outputId": "9865e55c-5ca5-4adf-da2b-c61c490d9f8e",
    "papermill": {
     "duration": 0.212036,
     "end_time": "2022-09-17T00:13:06.005380",
     "exception": false,
     "start_time": "2022-09-17T00:13:05.793344",
     "status": "completed"
    },
    "tags": []
   },
   "outputs": [],
   "source": [
    "cat_cols = set(df_churn.columns) - set(df_churn._get_numeric_data().columns)\n",
    "\n",
    "printmd(\"'**isna**' применимо только для числового типа данных<br>\")\n",
    "printmd(\"Проверка отсутствующих значений для типа данных объекта\")\n",
    "\n",
    "for cat in cat_cols:\n",
    "    print(cat.ljust(left_padding), df_churn[cat].apply(lambda x:len(x.strip()) == 0 or x.strip().lower() == 'nan').sum())\n",
    "printmd(\"<br>TotalCharges - это тип данных объекта, он имеет **11** значений 'nan' value</br>\")"
   ]
  },
  {
   "cell_type": "markdown",
   "id": "pt3BGKLdPcn9",
   "metadata": {
    "id": "pt3BGKLdPcn9"
   },
   "source": [
    "<a id='4.1.1'></a>\n",
    "\n",
    "### 4.1.1 Изменение типа данных"
   ]
  },
  {
   "cell_type": "code",
   "execution_count": null,
   "id": "GJuMbAH0Paga",
   "metadata": {
    "id": "GJuMbAH0Paga"
   },
   "outputs": [],
   "source": [
    "df_churn[\"TotalCharges\"] = pd.to_numeric(df_churn[\"TotalCharges\"], errors = 'coerce')"
   ]
  },
  {
   "cell_type": "markdown",
   "id": "535c5cb2",
   "metadata": {
    "id": "535c5cb2",
    "papermill": {
     "duration": 0.111863,
     "end_time": "2022-09-17T00:13:06.916592",
     "exception": false,
     "start_time": "2022-09-17T00:13:06.804729",
     "status": "completed"
    },
    "tags": []
   },
   "source": [
    "<a id='4.1.2'></a>\n",
    "\n",
    "### 4.1.2 TotalCharges"
   ]
  },
  {
   "cell_type": "code",
   "execution_count": null,
   "id": "e7d4bdc7",
   "metadata": {
    "execution": {
     "iopub.execute_input": "2022-09-17T00:13:07.149297Z",
     "iopub.status.busy": "2022-09-17T00:13:07.148549Z",
     "iopub.status.idle": "2022-09-17T00:13:07.153069Z",
     "shell.execute_reply": "2022-09-17T00:13:07.152386Z",
     "shell.execute_reply.started": "2022-06-11T01:42:18.485735Z"
    },
    "id": "e7d4bdc7",
    "papermill": {
     "duration": 0.122606,
     "end_time": "2022-09-17T00:13:07.153236",
     "exception": false,
     "start_time": "2022-09-17T00:13:07.030630",
     "status": "completed"
    },
    "tags": []
   },
   "outputs": [],
   "source": [
    "indices_null_tc = df_churn[df_churn[\"TotalCharges\"].isna()].index"
   ]
  },
  {
   "cell_type": "code",
   "execution_count": null,
   "id": "2a3006dd",
   "metadata": {
    "colab": {
     "base_uri": "https://localhost:8080/",
     "height": 684
    },
    "execution": {
     "iopub.execute_input": "2022-09-17T00:13:07.405920Z",
     "iopub.status.busy": "2022-09-17T00:13:07.404878Z",
     "iopub.status.idle": "2022-09-17T00:13:07.412812Z",
     "shell.execute_reply": "2022-09-17T00:13:07.412167Z",
     "shell.execute_reply.started": "2022-06-11T01:42:18.498442Z"
    },
    "executionInfo": {
     "elapsed": 7,
     "status": "ok",
     "timestamp": 1665974514987,
     "user": {
      "displayName": "Юрий Юров",
      "userId": "14847658770947017811"
     },
     "user_tz": -240
    },
    "id": "2a3006dd",
    "outputId": "6cde6fe0-da4f-46c0-9b18-119eec8b48f2",
    "papermill": {
     "duration": 0.14733,
     "end_time": "2022-09-17T00:13:07.412960",
     "exception": false,
     "start_time": "2022-09-17T00:13:07.265630",
     "status": "completed"
    },
    "tags": []
   },
   "outputs": [],
   "source": [
    "display(df_churn.iloc[indices_null_tc])\n",
    "\n",
    "printmd(\"<br>**'Tenure' (месяцы пребывания в компании) коррелирует с колонкой 'TotalCharges'**\")\n",
    "printmd(\"**Когда 'Tenure' = 0 , 'TotalCharges' = пустой тоже**\")"
   ]
  },
  {
   "cell_type": "code",
   "execution_count": null,
   "id": "62739453",
   "metadata": {
    "colab": {
     "base_uri": "https://localhost:8080/",
     "height": 257
    },
    "execution": {
     "iopub.execute_input": "2022-09-17T00:13:07.664019Z",
     "iopub.status.busy": "2022-09-17T00:13:07.655797Z",
     "iopub.status.idle": "2022-09-17T00:13:07.670020Z",
     "shell.execute_reply": "2022-09-17T00:13:07.669481Z",
     "shell.execute_reply.started": "2022-06-11T01:42:18.542054Z"
    },
    "executionInfo": {
     "elapsed": 6,
     "status": "ok",
     "timestamp": 1665974514988,
     "user": {
      "displayName": "Юрий Юров",
      "userId": "14847658770947017811"
     },
     "user_tz": -240
    },
    "id": "62739453",
    "outputId": "fd08e935-aa24-415f-cf3b-0603b366b030",
    "papermill": {
     "duration": 0.142218,
     "end_time": "2022-09-17T00:13:07.670185",
     "exception": false,
     "start_time": "2022-09-17T00:13:07.527967",
     "status": "completed"
    },
    "tags": []
   },
   "outputs": [],
   "source": [
    "display(df_churn[df_churn.tenure == 1].head(2))\n",
    "\n",
    "printmd(\"<br>**'TotalCharges' это то же самое, что 'MonthlyCharges' когда 'Tenure' == 1**\")"
   ]
  },
  {
   "cell_type": "code",
   "execution_count": null,
   "id": "7c53dc6a",
   "metadata": {
    "colab": {
     "base_uri": "https://localhost:8080/",
     "height": 321
    },
    "execution": {
     "iopub.execute_input": "2022-09-17T00:13:07.924745Z",
     "iopub.status.busy": "2022-09-17T00:13:07.923835Z",
     "iopub.status.idle": "2022-09-17T00:13:07.932396Z",
     "shell.execute_reply": "2022-09-17T00:13:07.931881Z",
     "shell.execute_reply.started": "2022-06-11T01:42:18.580829Z"
    },
    "executionInfo": {
     "elapsed": 5,
     "status": "ok",
     "timestamp": 1665974515431,
     "user": {
      "displayName": "Юрий Юров",
      "userId": "14847658770947017811"
     },
     "user_tz": -240
    },
    "id": "7c53dc6a",
    "outputId": "82201418-e1e5-4711-fb60-8e63c97f9dea",
    "papermill": {
     "duration": 0.145202,
     "end_time": "2022-09-17T00:13:07.932567",
     "exception": false,
     "start_time": "2022-09-17T00:13:07.787365",
     "status": "completed"
    },
    "tags": []
   },
   "outputs": [],
   "source": [
    "display(df_churn[df_churn.tenure == 3].head(2))\n",
    "\n",
    "printmd(\"<br>**'TotalCharges' увеличивается по отношению к 'MonthlyCharges' и 'Tenure'**\")\n",
    "printmd(\"<br>Из приведенного выше наблюдения мы можем сделать вывод, что, **'TotalCharges'  = 'MonthlyCharges' * 'Tenure'**\")\n",
    "printmd(\"**Следовательно, будем считать недостающие значения в колонке 'TotalCharges' равными 0**\")"
   ]
  },
  {
   "cell_type": "code",
   "execution_count": null,
   "id": "e1915ca5",
   "metadata": {
    "execution": {
     "iopub.execute_input": "2022-09-17T00:13:08.175169Z",
     "iopub.status.busy": "2022-09-17T00:13:08.174471Z",
     "iopub.status.idle": "2022-09-17T00:13:08.178270Z",
     "shell.execute_reply": "2022-09-17T00:13:08.178915Z",
     "shell.execute_reply.started": "2022-06-11T01:42:18.617967Z"
    },
    "id": "e1915ca5",
    "papermill": {
     "duration": 0.124895,
     "end_time": "2022-09-17T00:13:08.179095",
     "exception": false,
     "start_time": "2022-09-17T00:13:08.054200",
     "status": "completed"
    },
    "tags": []
   },
   "outputs": [],
   "source": [
    "df_churn['TotalCharges'].fillna(0, inplace=True)"
   ]
  },
  {
   "cell_type": "code",
   "execution_count": null,
   "id": "746a6573",
   "metadata": {
    "colab": {
     "base_uri": "https://localhost:8080/",
     "height": 143
    },
    "execution": {
     "iopub.execute_input": "2022-09-17T00:13:08.421686Z",
     "iopub.status.busy": "2022-09-17T00:13:08.420861Z",
     "iopub.status.idle": "2022-09-17T00:13:08.443036Z",
     "shell.execute_reply": "2022-09-17T00:13:08.443575Z",
     "shell.execute_reply.started": "2022-06-11T01:42:18.626909Z"
    },
    "executionInfo": {
     "elapsed": 5,
     "status": "ok",
     "timestamp": 1665974516107,
     "user": {
      "displayName": "Юрий Юров",
      "userId": "14847658770947017811"
     },
     "user_tz": -240
    },
    "id": "746a6573",
    "outputId": "109ebd62-a51e-4798-c215-d7f2276358f2",
    "papermill": {
     "duration": 0.147585,
     "end_time": "2022-09-17T00:13:08.443761",
     "exception": false,
     "start_time": "2022-09-17T00:13:08.296176",
     "status": "completed"
    },
    "tags": []
   },
   "outputs": [],
   "source": [
    "df_churn[['tenure', 'MonthlyCharges', 'TotalCharges']].describe().T"
   ]
  },
  {
   "cell_type": "markdown",
   "id": "0bbd24ee",
   "metadata": {
    "id": "0bbd24ee",
    "papermill": {
     "duration": 0.118157,
     "end_time": "2022-09-17T00:13:08.680762",
     "exception": false,
     "start_time": "2022-09-17T00:13:08.562605",
     "status": "completed"
    },
    "tags": []
   },
   "source": [
    "<a id='4.2'></a>\n",
    "## 4.2 Группировка по гистограмме"
   ]
  },
  {
   "cell_type": "markdown",
   "id": "2ef742c2",
   "metadata": {
    "id": "2ef742c2",
    "papermill": {
     "duration": 0.12034,
     "end_time": "2022-09-17T00:13:08.925413",
     "exception": false,
     "start_time": "2022-09-17T00:13:08.805073",
     "status": "completed"
    },
    "tags": []
   },
   "source": [
    "Эти три колонки мы можем свести в группы:\n",
    "\n",
    "* Tenure, MonthlyCharges and TotalCharges\n",
    "\n",
    "Мы можем разделить их на три уровня: **high, medium и low**"
   ]
  },
  {
   "cell_type": "code",
   "execution_count": null,
   "id": "7ec3c998",
   "metadata": {
    "_kg_hide-input": true,
    "execution": {
     "iopub.execute_input": "2022-09-17T00:13:09.196645Z",
     "iopub.status.busy": "2022-09-17T00:13:09.195864Z",
     "iopub.status.idle": "2022-09-17T00:13:09.199051Z",
     "shell.execute_reply": "2022-09-17T00:13:09.198515Z",
     "shell.execute_reply.started": "2022-06-11T01:42:18.672770Z"
    },
    "id": "7ec3c998",
    "papermill": {
     "duration": 0.131783,
     "end_time": "2022-09-17T00:13:09.199207",
     "exception": false,
     "start_time": "2022-09-17T00:13:09.067424",
     "status": "completed"
    },
    "tags": []
   },
   "outputs": [],
   "source": [
    "def binning_feature(feature):\n",
    "    plt.hist(df_churn[feature])\n",
    "\n",
    "    # set x/y labels and plot title\n",
    "    plt.xlabel(f\"{feature.title()}\")\n",
    "    plt.ylabel(\"Count\")\n",
    "    plt.title(f\"{feature.title()} Bins\")\n",
    "    plt.show()\n",
    "\n",
    "    bins = np.linspace(min(df_churn[feature]), max(df_churn[feature]), 4)\n",
    "    \n",
    "    printmd(\"**Value Range**\")\n",
    "    \n",
    "    printmd(f\"Low ({bins[0] : .2f} - {bins[1]: .2f})\")\n",
    "    printmd(f\"Medium ({bins[1]: .2f} - {bins[2]: .2f})\")\n",
    "    printmd(f\"High ({bins[2]: .2f} - {bins[3]: .2f})\")\n",
    "\n",
    "    group_names = ['Low', 'Medium', 'High']\n",
    "\n",
    "    df_churn.insert(df_churn.shape[1]-1,f'{feature}-binned', pd.cut(df_churn[feature], bins, labels=group_names, include_lowest=True))\n",
    "    display(df_churn[[feature, f'{feature}-binned']].head(10))\n",
    "\n",
    "\n",
    "    # count values\n",
    "    printmd(\"<br>**Binning Distribution**<br>\")\n",
    "    display(df_churn[f'{feature}-binned'].value_counts())\n",
    "\n",
    "\n",
    "    # plot the distribution of each bin\n",
    "    plt.bar(group_names, df_churn[f'{feature}-binned'].value_counts())\n",
    "    # px.bar(data_canada, x='year', y='pop')\n",
    "\n",
    "    # set x/y labels and plot title\n",
    "    plt.xlabel(f\"{feature.title()}\")\n",
    "    plt.ylabel(\"Count\")\n",
    "    plt.title(f\"{feature.title()} Bins\")\n",
    "    plt.show()"
   ]
  },
  {
   "cell_type": "markdown",
   "id": "487363b2",
   "metadata": {
    "id": "487363b2",
    "papermill": {
     "duration": 0.116913,
     "end_time": "2022-09-17T00:13:09.433730",
     "exception": false,
     "start_time": "2022-09-17T00:13:09.316817",
     "status": "completed"
    },
    "tags": []
   },
   "source": [
    "<a id='4.2.1'></a>\n",
    "### 4.2.1 Tenure"
   ]
  },
  {
   "cell_type": "code",
   "execution_count": null,
   "id": "d6cab3f0",
   "metadata": {
    "_kg_hide-input": true,
    "colab": {
     "base_uri": "https://localhost:8080/",
     "height": 1000
    },
    "execution": {
     "iopub.execute_input": "2022-09-17T00:13:09.689148Z",
     "iopub.status.busy": "2022-09-17T00:13:09.688407Z",
     "iopub.status.idle": "2022-09-17T00:13:10.187591Z",
     "shell.execute_reply": "2022-09-17T00:13:10.188215Z",
     "shell.execute_reply.started": "2022-06-11T01:42:18.685066Z"
    },
    "executionInfo": {
     "elapsed": 560,
     "status": "ok",
     "timestamp": 1665974517944,
     "user": {
      "displayName": "Юрий Юров",
      "userId": "14847658770947017811"
     },
     "user_tz": -240
    },
    "id": "d6cab3f0",
    "outputId": "1f6ed90b-49d1-4832-a879-3937ac466e6c",
    "papermill": {
     "duration": 0.637142,
     "end_time": "2022-09-17T00:13:10.188420",
     "exception": false,
     "start_time": "2022-09-17T00:13:09.551278",
     "status": "completed"
    },
    "tags": []
   },
   "outputs": [],
   "source": [
    "binning_feature('tenure')"
   ]
  },
  {
   "cell_type": "markdown",
   "id": "abf5e388",
   "metadata": {
    "id": "abf5e388",
    "papermill": {
     "duration": 0.121543,
     "end_time": "2022-09-17T00:13:10.436305",
     "exception": false,
     "start_time": "2022-09-17T00:13:10.314762",
     "status": "completed"
    },
    "tags": []
   },
   "source": [
    "<a id='4.2.2'></a>\n",
    "### 4.2.2 MonthlyCharges"
   ]
  },
  {
   "cell_type": "code",
   "execution_count": null,
   "id": "7afae64b",
   "metadata": {
    "_kg_hide-input": true,
    "colab": {
     "base_uri": "https://localhost:8080/",
     "height": 1000
    },
    "execution": {
     "iopub.execute_input": "2022-09-17T00:13:10.684105Z",
     "iopub.status.busy": "2022-09-17T00:13:10.683367Z",
     "iopub.status.idle": "2022-09-17T00:13:11.144348Z",
     "shell.execute_reply": "2022-09-17T00:13:11.143012Z",
     "shell.execute_reply.started": "2022-06-11T01:42:19.270685Z"
    },
    "executionInfo": {
     "elapsed": 495,
     "status": "ok",
     "timestamp": 1665974519091,
     "user": {
      "displayName": "Юрий Юров",
      "userId": "14847658770947017811"
     },
     "user_tz": -240
    },
    "id": "7afae64b",
    "outputId": "85c344e3-aa37-452a-cda7-2c9415ae7195",
    "papermill": {
     "duration": 0.585921,
     "end_time": "2022-09-17T00:13:11.144533",
     "exception": false,
     "start_time": "2022-09-17T00:13:10.558612",
     "status": "completed"
    },
    "tags": []
   },
   "outputs": [],
   "source": [
    "binning_feature('MonthlyCharges')"
   ]
  },
  {
   "cell_type": "markdown",
   "id": "3e61f047",
   "metadata": {
    "id": "3e61f047",
    "papermill": {
     "duration": 0.128523,
     "end_time": "2022-09-17T00:13:11.401317",
     "exception": false,
     "start_time": "2022-09-17T00:13:11.272794",
     "status": "completed"
    },
    "tags": []
   },
   "source": [
    "<a id='4.2.3'></a>\n",
    "### 4.2.3 TotalCharges"
   ]
  },
  {
   "cell_type": "code",
   "execution_count": null,
   "id": "cd1bc77c",
   "metadata": {
    "_kg_hide-input": true,
    "colab": {
     "base_uri": "https://localhost:8080/",
     "height": 1000
    },
    "execution": {
     "iopub.execute_input": "2022-09-17T00:13:11.664177Z",
     "iopub.status.busy": "2022-09-17T00:13:11.663406Z",
     "iopub.status.idle": "2022-09-17T00:13:12.099969Z",
     "shell.execute_reply": "2022-09-17T00:13:12.100490Z",
     "shell.execute_reply.started": "2022-06-11T01:42:19.803234Z"
    },
    "executionInfo": {
     "elapsed": 831,
     "status": "ok",
     "timestamp": 1665974520501,
     "user": {
      "displayName": "Юрий Юров",
      "userId": "14847658770947017811"
     },
     "user_tz": -240
    },
    "id": "cd1bc77c",
    "outputId": "e026b9b2-272e-452a-da61-cd80306917ce",
    "papermill": {
     "duration": 0.56989,
     "end_time": "2022-09-17T00:13:12.100691",
     "exception": false,
     "start_time": "2022-09-17T00:13:11.530801",
     "status": "completed"
    },
    "tags": []
   },
   "outputs": [],
   "source": [
    "binning_feature('TotalCharges')"
   ]
  },
  {
   "cell_type": "markdown",
   "id": "84339281",
   "metadata": {
    "id": "84339281",
    "papermill": {
     "duration": 0.135596,
     "end_time": "2022-09-17T00:13:12.914231",
     "exception": false,
     "start_time": "2022-09-17T00:13:12.778635",
     "status": "completed"
    },
    "tags": []
   },
   "source": [
    "<a id='5'></a>\n",
    "# 5 Одномерный анализ"
   ]
  },
  {
   "cell_type": "markdown",
   "id": "182612f7",
   "metadata": {
    "id": "182612f7",
    "papermill": {
     "duration": 0.135397,
     "end_time": "2022-09-17T00:13:13.186292",
     "exception": false,
     "start_time": "2022-09-17T00:13:13.050895",
     "status": "completed"
    },
    "tags": []
   },
   "source": [
    "<a id='5.1'></a>\n",
    "## 5.1 Статистический анализ на норму\n",
    "\n",
    "Анализы на норму используются для определения того, нормально ли распределен набор данных, и для проверки того, насколько вероятно, что случайная величина в наборе данных будет нормально распределена.\n",
    "\n",
    "Популярные методы -  K'2-тест Д'Агостино, критерий Шапиро-Уилка, критерий Андерсона — Дарлинга.\n",
    "\n",
    "В этом наборе данных есть три числовых признака - **MonthlyCharges**, **Tenure**, and **TotalCharges**.\n",
    "\n",
    "\n",
    "Гипотезы:\n",
    "\n",
    "* H0: выборка имеет распределение по Гауссу.\n",
    "* H1: выборка не имеет распределения по Гауссу.\n",
    "\n",
    "Примечание: мы не можем выполнить **Тест Шапиро-Уилка**, потому что размер выборки > 5000 и для этого теста p-значение может быть неточным для N > 5000\n",
    "\n",
    "Ссылки:\n",
    "* https://en.wikipedia.org/wiki/Shapiro–Wilk_test\n",
    "* https://www.codecamp.ru/blog/shapiro-wilk-test-python/"
   ]
  },
  {
   "cell_type": "markdown",
   "id": "e942553c",
   "metadata": {
    "id": "e942553c",
    "papermill": {
     "duration": 0.133743,
     "end_time": "2022-09-17T00:13:13.453386",
     "exception": false,
     "start_time": "2022-09-17T00:13:13.319643",
     "status": "completed"
    },
    "tags": []
   },
   "source": [
    "<a id='5.1.1'></a>\n",
    "### 5.1.1 K'2-тест Д'Агостино\n",
    "\n",
    "Тест вычисляет итоговую статистику на основе данных, а именно, эксцесс и асимметрия, чтобы определить, отклоняется ли распределение данных от нормального распределения, названного по имени Ральфа Д'Агостино.\n",
    "\n",
    "Скос является количественной оценкой того, насколько распределение сдвигается влево или вправо, мерой асимметрии в распределении.\n",
    "Эксцесс количественно определяет, какая часть распределения находится в хвосте. Это простой и часто используемый статистический тест на нормальность.\n",
    "\n",
    "Ссылки:\n",
    "* https://en.wikipedia.org/wiki/D%27Agostino%27s_K-squared_test\n",
    "* https://habr.com/ru/company/otus/blog/671322/"
   ]
  },
  {
   "cell_type": "markdown",
   "id": "17f2323d",
   "metadata": {
    "id": "17f2323d",
    "papermill": {
     "duration": 0.133752,
     "end_time": "2022-09-17T00:13:13.720317",
     "exception": false,
     "start_time": "2022-09-17T00:13:13.586565",
     "status": "completed"
    },
    "tags": []
   },
   "source": [
    "#### MonthlyCharges"
   ]
  },
  {
   "cell_type": "code",
   "execution_count": null,
   "id": "5a5576e3",
   "metadata": {
    "colab": {
     "base_uri": "https://localhost:8080/"
    },
    "execution": {
     "iopub.execute_input": "2022-09-17T00:13:14.000773Z",
     "iopub.status.busy": "2022-09-17T00:13:13.999677Z",
     "iopub.status.idle": "2022-09-17T00:13:14.007147Z",
     "shell.execute_reply": "2022-09-17T00:13:14.006322Z",
     "shell.execute_reply.started": "2022-06-11T01:42:20.314756Z"
    },
    "executionInfo": {
     "elapsed": 318,
     "status": "ok",
     "timestamp": 1665974522470,
     "user": {
      "displayName": "Юрий Юров",
      "userId": "14847658770947017811"
     },
     "user_tz": -240
    },
    "id": "5a5576e3",
    "outputId": "6318bf43-2032-4884-d430-989f7be22837",
    "papermill": {
     "duration": 0.147808,
     "end_time": "2022-09-17T00:13:14.007341",
     "exception": false,
     "start_time": "2022-09-17T00:13:13.859533",
     "status": "completed"
    },
    "tags": []
   },
   "outputs": [],
   "source": [
    "stat, p = stats.normaltest(df_churn['MonthlyCharges'])\n",
    "\n",
    "print('Statistics=%.5f, p=%.3f' % (stat, p))\n",
    "\n",
    "# interpret\n",
    "alpha = 0.05\n",
    "if p > alpha:\n",
    "    print('Выборка выглядит гауссовой (не удается отклонить H0)')\n",
    "else:\n",
    "    print('Выборка не выглядит гауссовой (отклоняем H0)')"
   ]
  },
  {
   "cell_type": "markdown",
   "id": "09f2a8e9",
   "metadata": {
    "id": "09f2a8e9",
    "papermill": {
     "duration": 0.13414,
     "end_time": "2022-09-17T00:13:14.276878",
     "exception": false,
     "start_time": "2022-09-17T00:13:14.142738",
     "status": "completed"
    },
    "tags": []
   },
   "source": [
    "#### Tenure"
   ]
  },
  {
   "cell_type": "code",
   "execution_count": null,
   "id": "714d5654",
   "metadata": {
    "colab": {
     "base_uri": "https://localhost:8080/"
    },
    "execution": {
     "iopub.execute_input": "2022-09-17T00:13:14.547279Z",
     "iopub.status.busy": "2022-09-17T00:13:14.546293Z",
     "iopub.status.idle": "2022-09-17T00:13:14.555204Z",
     "shell.execute_reply": "2022-09-17T00:13:14.554484Z",
     "shell.execute_reply.started": "2022-06-11T01:42:20.326836Z"
    },
    "executionInfo": {
     "elapsed": 357,
     "status": "ok",
     "timestamp": 1665974523338,
     "user": {
      "displayName": "Юрий Юров",
      "userId": "14847658770947017811"
     },
     "user_tz": -240
    },
    "id": "714d5654",
    "outputId": "737d1753-8f06-499f-84ea-5dba66927ae0",
    "papermill": {
     "duration": 0.145275,
     "end_time": "2022-09-17T00:13:14.555405",
     "exception": false,
     "start_time": "2022-09-17T00:13:14.410130",
     "status": "completed"
    },
    "tags": []
   },
   "outputs": [],
   "source": [
    "stat, p = stats.normaltest(df_churn['tenure'])\n",
    "\n",
    "print('Statistics=%.5f, p=%.3f' % (stat, p))\n",
    "\n",
    "# interpret\n",
    "alpha = 0.05\n",
    "if p > alpha:\n",
    "    print('Выборка выглядит гауссовой (не удается отклонить H0)')\n",
    "else:\n",
    "    print('Выборка не выглядит гауссовой (отклоняем H0)')"
   ]
  },
  {
   "cell_type": "markdown",
   "id": "p0c9XOV8W1lY",
   "metadata": {
    "id": "p0c9XOV8W1lY"
   },
   "source": [
    "Значение p интерпретируется по отношению к альфа 5% и обнаруживает, что тестовый набор данных не отличается значительно от нормального."
   ]
  },
  {
   "cell_type": "markdown",
   "id": "5ec86033",
   "metadata": {
    "id": "5ec86033",
    "papermill": {
     "duration": 0.134559,
     "end_time": "2022-09-17T00:13:14.824338",
     "exception": false,
     "start_time": "2022-09-17T00:13:14.689779",
     "status": "completed"
    },
    "tags": []
   },
   "source": [
    "<a id='5.1.2'></a>\n",
    "### 5.1.2 Критерий Андерсона — Дарлинга\n",
    "`Критические значения` в статистическом тесте представляют собой диапазон заранее определенных границ значимости, при которых H0 может быть отклонен, если вычисленная статистика меньше критического значения.\n",
    "\n",
    "Особенностью теста Андерсона-Дарлинга является то, что он возвращает список критических значений, а не одно значение p. Это может послужить основой для более тщательной интерпретации результата.\n",
    "\n",
    "В данном случае - **normal/exponential** (15%, 10%, 5%, 2.5%, 1%)\n",
    "\n",
    "Ссылки:\n",
    "* https://ru.wikipedia.org/wiki/Критерий_Андерсона_—_Дарлинга\n",
    "* https://www.geeksforgeeks.org/how-to-perform-an-anderson-darling-test-in-python/"
   ]
  },
  {
   "cell_type": "markdown",
   "id": "5e0a4127",
   "metadata": {
    "id": "5e0a4127",
    "papermill": {
     "duration": 0.134768,
     "end_time": "2022-09-17T00:13:15.092800",
     "exception": false,
     "start_time": "2022-09-17T00:13:14.958032",
     "status": "completed"
    },
    "tags": []
   },
   "source": [
    "#### TotalCharges"
   ]
  },
  {
   "cell_type": "code",
   "execution_count": null,
   "id": "1afe44b2",
   "metadata": {
    "colab": {
     "base_uri": "https://localhost:8080/"
    },
    "execution": {
     "iopub.execute_input": "2022-09-17T00:13:15.374299Z",
     "iopub.status.busy": "2022-09-17T00:13:15.373496Z",
     "iopub.status.idle": "2022-09-17T00:13:15.380346Z",
     "shell.execute_reply": "2022-09-17T00:13:15.381231Z",
     "shell.execute_reply.started": "2022-06-11T01:42:20.345450Z"
    },
    "executionInfo": {
     "elapsed": 387,
     "status": "ok",
     "timestamp": 1665974528787,
     "user": {
      "displayName": "Юрий Юров",
      "userId": "14847658770947017811"
     },
     "user_tz": -240
    },
    "id": "1afe44b2",
    "outputId": "c6fefb80-502f-4102-fe99-3e68263339cc",
    "papermill": {
     "duration": 0.151194,
     "end_time": "2022-09-17T00:13:15.381481",
     "exception": false,
     "start_time": "2022-09-17T00:13:15.230287",
     "status": "completed"
    },
    "tags": []
   },
   "outputs": [],
   "source": [
    "result = stats.anderson(df_churn['TotalCharges'])\n",
    "\n",
    "print('Statistic: %.3f' % result.statistic)\n",
    "\n",
    "p = 0\n",
    "\n",
    "for i in range(len(result.critical_values)):\n",
    "    sl, cv = result.significance_level[i], result.critical_values[i]\n",
    "    if result.statistic < result.critical_values[i]:\n",
    "        print(f'Уровень значимости {sl:.2f} % : критическое значение {cv:.3f}, данные выглядят нормально (не удается отклонить H0)')\n",
    "    else:\n",
    "        print(f'Уровень значимости {sl:.2f} % : критическое значение {cv:.3f}, данные не выглядят нормально (отклоняем H0)')"
   ]
  },
  {
   "cell_type": "code",
   "execution_count": null,
   "id": "355a559e",
   "metadata": {
    "colab": {
     "base_uri": "https://localhost:8080/",
     "height": 289
    },
    "execution": {
     "iopub.execute_input": "2022-09-17T00:13:15.654481Z",
     "iopub.status.busy": "2022-09-17T00:13:15.653498Z",
     "iopub.status.idle": "2022-09-17T00:13:15.678028Z",
     "shell.execute_reply": "2022-09-17T00:13:15.678620Z",
     "shell.execute_reply.started": "2022-06-11T01:42:20.370420Z"
    },
    "executionInfo": {
     "elapsed": 8,
     "status": "ok",
     "timestamp": 1665974529223,
     "user": {
      "displayName": "Юрий Юров",
      "userId": "14847658770947017811"
     },
     "user_tz": -240
    },
    "id": "355a559e",
    "outputId": "7ad6d063-9749-4fc1-f882-3f0d5b35fe86",
    "papermill": {
     "duration": 0.162531,
     "end_time": "2022-09-17T00:13:15.678804",
     "exception": false,
     "start_time": "2022-09-17T00:13:15.516273",
     "status": "completed"
    },
    "tags": []
   },
   "outputs": [],
   "source": [
    "df_churn.head(3)"
   ]
  },
  {
   "cell_type": "markdown",
   "id": "c7427c8b",
   "metadata": {
    "id": "c7427c8b",
    "papermill": {
     "duration": 0.134703,
     "end_time": "2022-09-17T00:13:15.949062",
     "exception": false,
     "start_time": "2022-09-17T00:13:15.814359",
     "status": "completed"
    },
    "tags": []
   },
   "source": [
    "<a id='5.2'></a>\n",
    "## 5.2 Визуализация"
   ]
  },
  {
   "cell_type": "markdown",
   "id": "84b3c1cd",
   "metadata": {
    "id": "84b3c1cd",
    "papermill": {
     "duration": 0.13494,
     "end_time": "2022-09-17T00:13:16.224283",
     "exception": false,
     "start_time": "2022-09-17T00:13:16.089343",
     "status": "completed"
    },
    "tags": []
   },
   "source": [
    "### Churn (Target) Distribution"
   ]
  },
  {
   "cell_type": "code",
   "execution_count": null,
   "id": "9f64a67e",
   "metadata": {
    "_kg_hide-input": true,
    "colab": {
     "base_uri": "https://localhost:8080/",
     "height": 542
    },
    "execution": {
     "iopub.execute_input": "2022-09-17T00:13:16.500689Z",
     "iopub.status.busy": "2022-09-17T00:13:16.499630Z",
     "iopub.status.idle": "2022-09-17T00:13:17.625787Z",
     "shell.execute_reply": "2022-09-17T00:13:17.625200Z",
     "shell.execute_reply.started": "2022-06-11T01:42:20.403711Z"
    },
    "executionInfo": {
     "elapsed": 1315,
     "status": "ok",
     "timestamp": 1665974534457,
     "user": {
      "displayName": "Юрий Юров",
      "userId": "14847658770947017811"
     },
     "user_tz": -240
    },
    "id": "9f64a67e",
    "outputId": "ef9579ac-71e6-4688-df7e-301e229c75c7",
    "papermill": {
     "duration": 1.26669,
     "end_time": "2022-09-17T00:13:17.625952",
     "exception": false,
     "start_time": "2022-09-17T00:13:16.359262",
     "status": "completed"
    },
    "tags": []
   },
   "outputs": [],
   "source": [
    "fig = px.pie(df_churn['Churn'].value_counts().reset_index().rename(columns={'index':'Type'}), values='Churn', names='Type', title='Churn (Target) Distribution')\n",
    "fig.update_traces(textposition='inside', textinfo='percent+label')\n",
    "fig.show(renderer=\"colab\")"
   ]
  },
  {
   "cell_type": "code",
   "execution_count": null,
   "id": "0N3oSBXCYgwl",
   "metadata": {
    "colab": {
     "base_uri": "https://localhost:8080/",
     "height": 58
    },
    "executionInfo": {
     "elapsed": 9,
     "status": "ok",
     "timestamp": 1665974534458,
     "user": {
      "displayName": "Юрий Юров",
      "userId": "14847658770947017811"
     },
     "user_tz": -240
    },
    "id": "0N3oSBXCYgwl",
    "outputId": "93b8f248-d319-47ec-f80e-dbb81f3f8841"
   },
   "outputs": [],
   "source": [
    "printmd(\"### Целевое распределение несбалансировано\")"
   ]
  },
  {
   "cell_type": "markdown",
   "id": "4c791830",
   "metadata": {
    "id": "4c791830",
    "papermill": {
     "duration": 0.141543,
     "end_time": "2022-09-17T00:13:17.912038",
     "exception": false,
     "start_time": "2022-09-17T00:13:17.770495",
     "status": "completed"
    },
    "tags": []
   },
   "source": [
    "### OnlineSecurity, OnlineBackup, DeviceProtection, TechSupport"
   ]
  },
  {
   "cell_type": "code",
   "execution_count": null,
   "id": "15c93529",
   "metadata": {
    "_kg_hide-input": true,
    "colab": {
     "base_uri": "https://localhost:8080/",
     "height": 583
    },
    "execution": {
     "iopub.execute_input": "2022-09-17T00:13:18.207279Z",
     "iopub.status.busy": "2022-09-17T00:13:18.206522Z",
     "iopub.status.idle": "2022-09-17T00:13:18.267131Z",
     "shell.execute_reply": "2022-09-17T00:13:18.267681Z",
     "shell.execute_reply.started": "2022-06-11T01:42:21.692225Z"
    },
    "executionInfo": {
     "elapsed": 8,
     "status": "ok",
     "timestamp": 1665974534458,
     "user": {
      "displayName": "Юрий Юров",
      "userId": "14847658770947017811"
     },
     "user_tz": -240
    },
    "id": "15c93529",
    "outputId": "37dcce38-0a58-4a03-b708-362800ea86b0",
    "papermill": {
     "duration": 0.209241,
     "end_time": "2022-09-17T00:13:18.267872",
     "exception": false,
     "start_time": "2022-09-17T00:13:18.058631",
     "status": "completed"
    },
    "tags": []
   },
   "outputs": [],
   "source": [
    "# Create subplots: use 'domain' type for Pie subplot\n",
    "fig = make_subplots(rows=2, cols=2, specs=[[{'type':'domain'}, {'type':'domain'}],[{'type':'domain'}, {'type':'domain'}]])\n",
    "\n",
    "fig.add_trace(go.Pie(labels=df_churn['OnlineSecurity'].value_counts().index, values=df_churn['OnlineSecurity'].value_counts().values, name=\"Online Security\"),\n",
    "              1, 1)\n",
    "fig.add_trace(go.Pie(labels=df_churn['OnlineBackup'].value_counts().index, values=df_churn['OnlineBackup'].value_counts().values, name=\"Online Backup\"),\n",
    "              1, 2)\n",
    "fig.add_trace(go.Pie(labels=df_churn['DeviceProtection'].value_counts().index, values=df_churn['DeviceProtection'].value_counts().values, name=\"Device Protection\"),\n",
    "              2, 1)\n",
    "fig.add_trace(go.Pie(labels=df_churn['TechSupport'].value_counts().index, values=df_churn['TechSupport'].value_counts().values, name=\"Tech Support\"),\n",
    "              2, 2)\n",
    "\n",
    "# donut-like pie chart\n",
    "fig.update_traces(hole=.5, hoverinfo=\"label+percent\")\n",
    "\n",
    "fig.update_layout(\n",
    "\n",
    "    # Add annotations in the center of the donut pies.\n",
    "    annotations=[dict(text='Online<br>Security', x=0.195, y=0.85, font_size=20, showarrow=False),\n",
    "                 dict(text='Online<br>Backup', x=0.804, y=0.86, font_size=20, showarrow=False),\n",
    "                 dict(text='Device<br>Protection', x=0.192, y=0.18, font_size=20, showarrow=False),\n",
    "                 dict(text='Tech<br>Support', x=0.805, y=0.18, font_size=20, showarrow=False)])\n",
    "fig.update_layout(margin=dict(t=0, b=0, l=0, r=0))\n",
    "fig.show(renderer=\"colab\")\n",
    "\n",
    "\n",
    "\n",
    "printmd(\"### 'Online Backup', 'Device Protection' и 'Online Security', 'Tech Support' имеет аналогичное распределение\")"
   ]
  },
  {
   "cell_type": "markdown",
   "id": "c833c5fd",
   "metadata": {
    "id": "c833c5fd",
    "papermill": {
     "duration": 0.1485,
     "end_time": "2022-09-17T00:13:18.564963",
     "exception": false,
     "start_time": "2022-09-17T00:13:18.416463",
     "status": "completed"
    },
    "tags": []
   },
   "source": [
    "### PaymentMethod"
   ]
  },
  {
   "cell_type": "code",
   "execution_count": null,
   "id": "f6299f01",
   "metadata": {
    "_kg_hide-input": true,
    "colab": {
     "base_uri": "https://localhost:8080/",
     "height": 582
    },
    "execution": {
     "iopub.execute_input": "2022-09-17T00:13:18.866694Z",
     "iopub.status.busy": "2022-09-17T00:13:18.865951Z",
     "iopub.status.idle": "2022-09-17T00:13:18.919803Z",
     "shell.execute_reply": "2022-09-17T00:13:18.919189Z",
     "shell.execute_reply.started": "2022-06-11T01:42:21.767817Z"
    },
    "executionInfo": {
     "elapsed": 311,
     "status": "ok",
     "timestamp": 1665974601692,
     "user": {
      "displayName": "Юрий Юров",
      "userId": "14847658770947017811"
     },
     "user_tz": -240
    },
    "id": "f6299f01",
    "outputId": "556200a5-a780-48e9-c42b-645e3bf071e0",
    "papermill": {
     "duration": 0.206229,
     "end_time": "2022-09-17T00:13:18.919959",
     "exception": false,
     "start_time": "2022-09-17T00:13:18.713730",
     "status": "completed"
    },
    "tags": []
   },
   "outputs": [],
   "source": [
    "fig = px.pie(\n",
    "    df_churn['PaymentMethod'].value_counts().reset_index().rename(columns={'index':'Type'}),\n",
    "    values='PaymentMethod', \n",
    "    names='Type', \n",
    "    title='Payment Method Distribution')\n",
    "  \n",
    "fig.show(renderer=\"colab\")\n",
    "printmd(\"#### Большинство клиентов используют E-check\")"
   ]
  },
  {
   "cell_type": "markdown",
   "id": "2b0cc85f",
   "metadata": {
    "id": "2b0cc85f",
    "papermill": {
     "duration": 0.160872,
     "end_time": "2022-09-17T00:13:19.241335",
     "exception": false,
     "start_time": "2022-09-17T00:13:19.080463",
     "status": "completed"
    },
    "tags": []
   },
   "source": [
    "### Gender"
   ]
  },
  {
   "cell_type": "code",
   "execution_count": 4,
   "id": "3739115f",
   "metadata": {
    "_kg_hide-input": true,
    "colab": {
     "base_uri": "https://localhost:8080/",
     "height": 409
    },
    "execution": {
     "iopub.execute_input": "2022-09-17T00:13:19.564574Z",
     "iopub.status.busy": "2022-09-17T00:13:19.563557Z",
     "iopub.status.idle": "2022-09-17T00:13:19.872101Z",
     "shell.execute_reply": "2022-09-17T00:13:19.872652Z",
     "shell.execute_reply.started": "2022-06-11T01:42:21.830145Z"
    },
    "executionInfo": {
     "elapsed": 785,
     "status": "ok",
     "timestamp": 1665974619155,
     "user": {
      "displayName": "Юрий Юров",
      "userId": "14847658770947017811"
     },
     "user_tz": -240
    },
    "id": "3739115f",
    "outputId": "e1375fc4-6ab1-40ff-bd06-9c80c34ebfea",
    "papermill": {
     "duration": 0.47628,
     "end_time": "2022-09-17T00:13:19.872844",
     "exception": false,
     "start_time": "2022-09-17T00:13:19.396564",
     "status": "completed"
    },
    "tags": []
   },
   "outputs": [
    {
     "ename": "NameError",
     "evalue": "name 'df_churn' is not defined",
     "output_type": "error",
     "traceback": [
      "\u001b[1;31m---------------------------------------------------------------------------\u001b[0m",
      "\u001b[1;31mNameError\u001b[0m                                 Traceback (most recent call last)",
      "\u001b[1;32m<ipython-input-4-9ecd2199d52f>\u001b[0m in \u001b[0;36m<module>\u001b[1;34m\u001b[0m\n\u001b[1;32m----> 1\u001b[1;33m \u001b[0msns\u001b[0m\u001b[1;33m.\u001b[0m\u001b[0mcatplot\u001b[0m\u001b[1;33m(\u001b[0m\u001b[0mx\u001b[0m\u001b[1;33m=\u001b[0m\u001b[1;34m\"Gender\"\u001b[0m\u001b[1;33m,\u001b[0m \u001b[0mkind\u001b[0m\u001b[1;33m=\u001b[0m\u001b[1;34m\"count\"\u001b[0m\u001b[1;33m,\u001b[0m \u001b[0mdata\u001b[0m\u001b[1;33m=\u001b[0m\u001b[0mdf_churn\u001b[0m\u001b[1;33m)\u001b[0m\u001b[1;33m\u001b[0m\u001b[1;33m\u001b[0m\u001b[0m\n\u001b[0m\u001b[0;32m      2\u001b[0m \u001b[0mplt\u001b[0m\u001b[1;33m.\u001b[0m\u001b[0mshow\u001b[0m\u001b[1;33m(\u001b[0m\u001b[1;33m)\u001b[0m\u001b[1;33m\u001b[0m\u001b[1;33m\u001b[0m\u001b[0m\n\u001b[0;32m      3\u001b[0m \u001b[1;33m\u001b[0m\u001b[0m\n\u001b[0;32m      4\u001b[0m \u001b[0mprintmd\u001b[0m\u001b[1;33m(\u001b[0m\u001b[1;34m\"#### Примерно 50/50 соотношение полов\"\u001b[0m\u001b[1;33m)\u001b[0m\u001b[1;33m\u001b[0m\u001b[1;33m\u001b[0m\u001b[0m\n",
      "\u001b[1;31mNameError\u001b[0m: name 'df_churn' is not defined"
     ]
    }
   ],
   "source": [
    "sns.catplot(x=\"gender\", kind=\"count\", data=df_churn)\n",
    "plt.show()\n",
    "\n",
    "printmd(\"#### Примерно 50/50 соотношение полов\")"
   ]
  },
  {
   "cell_type": "markdown",
   "id": "8b9ccb5e",
   "metadata": {
    "id": "8b9ccb5e",
    "papermill": {
     "duration": 0.162638,
     "end_time": "2022-09-17T00:13:20.261689",
     "exception": false,
     "start_time": "2022-09-17T00:13:20.099051",
     "status": "completed"
    },
    "tags": []
   },
   "source": [
    "### Dependents"
   ]
  },
  {
   "cell_type": "code",
   "execution_count": null,
   "id": "00dc6db8",
   "metadata": {
    "_kg_hide-input": true,
    "colab": {
     "base_uri": "https://localhost:8080/",
     "height": 409
    },
    "execution": {
     "iopub.execute_input": "2022-09-17T00:13:20.592639Z",
     "iopub.status.busy": "2022-09-17T00:13:20.591587Z",
     "iopub.status.idle": "2022-09-17T00:13:20.876668Z",
     "shell.execute_reply": "2022-09-17T00:13:20.877186Z",
     "shell.execute_reply.started": "2022-06-11T01:42:22.184848Z"
    },
    "executionInfo": {
     "elapsed": 1081,
     "status": "ok",
     "timestamp": 1665974632571,
     "user": {
      "displayName": "Юрий Юров",
      "userId": "14847658770947017811"
     },
     "user_tz": -240
    },
    "id": "00dc6db8",
    "outputId": "9bf33290-f50e-4c82-d5bc-7e859c88f1fd",
    "papermill": {
     "duration": 0.455131,
     "end_time": "2022-09-17T00:13:20.877371",
     "exception": false,
     "start_time": "2022-09-17T00:13:20.422240",
     "status": "completed"
    },
    "tags": []
   },
   "outputs": [],
   "source": [
    "sns.catplot(x=\"Dependents\", kind=\"count\", data=df_churn)\n",
    "plt.show()\n",
    "\n",
    "printmd(\"#### Клиенты, не являющихся кормильцами, примерно в два раза больше, чем клиентов, являющихся кормильцами\")"
   ]
  },
  {
   "cell_type": "markdown",
   "id": "b61851d7",
   "metadata": {
    "id": "b61851d7",
    "papermill": {
     "duration": 0.158886,
     "end_time": "2022-09-17T00:13:21.195023",
     "exception": false,
     "start_time": "2022-09-17T00:13:21.036137",
     "status": "completed"
    },
    "tags": []
   },
   "source": [
    "### Senior Citizen"
   ]
  },
  {
   "cell_type": "code",
   "execution_count": null,
   "id": "16ac42f9",
   "metadata": {
    "_kg_hide-input": true,
    "colab": {
     "base_uri": "https://localhost:8080/",
     "height": 409
    },
    "execution": {
     "iopub.execute_input": "2022-09-17T00:13:21.520479Z",
     "iopub.status.busy": "2022-09-17T00:13:21.519687Z",
     "iopub.status.idle": "2022-09-17T00:13:21.823299Z",
     "shell.execute_reply": "2022-09-17T00:13:21.822778Z",
     "shell.execute_reply.started": "2022-06-11T01:42:22.536206Z"
    },
    "executionInfo": {
     "elapsed": 1180,
     "status": "ok",
     "timestamp": 1665974646255,
     "user": {
      "displayName": "Юрий Юров",
      "userId": "14847658770947017811"
     },
     "user_tz": -240
    },
    "id": "16ac42f9",
    "outputId": "4eb0a12b-b31e-48f4-d3b6-cbddd8525cbc",
    "papermill": {
     "duration": 0.469902,
     "end_time": "2022-09-17T00:13:21.823484",
     "exception": false,
     "start_time": "2022-09-17T00:13:21.353582",
     "status": "completed"
    },
    "tags": []
   },
   "outputs": [],
   "source": [
    "sns.catplot(x=\"SeniorCitizen\", kind=\"count\", data=df_churn)\n",
    "plt.show()\n",
    "\n",
    "printmd(\"#### Большинство клиентов не являются пожилыми людьми\")"
   ]
  },
  {
   "cell_type": "markdown",
   "id": "8339f4db",
   "metadata": {
    "id": "8339f4db",
    "papermill": {
     "duration": 0.164958,
     "end_time": "2022-09-17T00:13:22.148063",
     "exception": false,
     "start_time": "2022-09-17T00:13:21.983105",
     "status": "completed"
    },
    "tags": []
   },
   "source": [
    "### Contract"
   ]
  },
  {
   "cell_type": "code",
   "execution_count": null,
   "id": "2214470e",
   "metadata": {
    "_kg_hide-input": true,
    "colab": {
     "base_uri": "https://localhost:8080/",
     "height": 409
    },
    "execution": {
     "iopub.execute_input": "2022-09-17T00:13:22.478161Z",
     "iopub.status.busy": "2022-09-17T00:13:22.477169Z",
     "iopub.status.idle": "2022-09-17T00:13:22.793314Z",
     "shell.execute_reply": "2022-09-17T00:13:22.793943Z",
     "shell.execute_reply.started": "2022-06-11T01:42:22.884247Z"
    },
    "executionInfo": {
     "elapsed": 1041,
     "status": "ok",
     "timestamp": 1665974653873,
     "user": {
      "displayName": "Юрий Юров",
      "userId": "14847658770947017811"
     },
     "user_tz": -240
    },
    "id": "2214470e",
    "outputId": "1c23b282-8854-4010-cb10-8b7f710daa3f",
    "papermill": {
     "duration": 0.482848,
     "end_time": "2022-09-17T00:13:22.794142",
     "exception": false,
     "start_time": "2022-09-17T00:13:22.311294",
     "status": "completed"
    },
    "tags": []
   },
   "outputs": [],
   "source": [
    "sns.catplot(x=\"Contract\", kind=\"count\", data=df_churn)\n",
    "plt.show()\n",
    "\n",
    "printmd(\"#### Большинство клиентов предпочитают ежемесячный контракт\")"
   ]
  },
  {
   "cell_type": "markdown",
   "id": "8a08ad1d",
   "metadata": {
    "id": "8a08ad1d",
    "papermill": {
     "duration": 0.16197,
     "end_time": "2022-09-17T00:13:23.118635",
     "exception": false,
     "start_time": "2022-09-17T00:13:22.956665",
     "status": "completed"
    },
    "tags": []
   },
   "source": [
    "### PaperlessBilling"
   ]
  },
  {
   "cell_type": "code",
   "execution_count": null,
   "id": "b7b6674c",
   "metadata": {
    "_kg_hide-input": true,
    "colab": {
     "base_uri": "https://localhost:8080/",
     "height": 409
    },
    "execution": {
     "iopub.execute_input": "2022-09-17T00:13:23.456229Z",
     "iopub.status.busy": "2022-09-17T00:13:23.455215Z",
     "iopub.status.idle": "2022-09-17T00:13:23.710423Z",
     "shell.execute_reply": "2022-09-17T00:13:23.709816Z",
     "shell.execute_reply.started": "2022-06-11T01:42:23.257178Z"
    },
    "executionInfo": {
     "elapsed": 770,
     "status": "ok",
     "timestamp": 1665974662386,
     "user": {
      "displayName": "Юрий Юров",
      "userId": "14847658770947017811"
     },
     "user_tz": -240
    },
    "id": "b7b6674c",
    "outputId": "f343cec0-0610-4595-bb4b-7e620a0f7e68",
    "papermill": {
     "duration": 0.427824,
     "end_time": "2022-09-17T00:13:23.710604",
     "exception": false,
     "start_time": "2022-09-17T00:13:23.282780",
     "status": "completed"
    },
    "tags": []
   },
   "outputs": [],
   "source": [
    "sns.catplot(x=\"PaperlessBilling\", kind=\"count\", data=df_churn)\n",
    "plt.show()\n",
    "\n",
    "printmd(\"#### Большинство клиентов предпочитают безбумажное выставление счетов\")"
   ]
  },
  {
   "cell_type": "markdown",
   "id": "04c9da46",
   "metadata": {
    "id": "04c9da46",
    "papermill": {
     "duration": 0.162514,
     "end_time": "2022-09-17T00:13:24.036409",
     "exception": false,
     "start_time": "2022-09-17T00:13:23.873895",
     "status": "completed"
    },
    "tags": []
   },
   "source": [
    "### Total Charges"
   ]
  },
  {
   "cell_type": "code",
   "execution_count": null,
   "id": "8391a0ff",
   "metadata": {
    "_kg_hide-input": true,
    "colab": {
     "base_uri": "https://localhost:8080/",
     "height": 319
    },
    "execution": {
     "iopub.execute_input": "2022-09-17T00:13:24.370328Z",
     "iopub.status.busy": "2022-09-17T00:13:24.369575Z",
     "iopub.status.idle": "2022-09-17T00:13:24.535377Z",
     "shell.execute_reply": "2022-09-17T00:13:24.535928Z",
     "shell.execute_reply.started": "2022-06-11T01:42:23.633836Z"
    },
    "executionInfo": {
     "elapsed": 534,
     "status": "ok",
     "timestamp": 1665974676712,
     "user": {
      "displayName": "Юрий Юров",
      "userId": "14847658770947017811"
     },
     "user_tz": -240
    },
    "id": "8391a0ff",
    "outputId": "f652c4fc-58c4-488e-a9d5-da7fc885c402",
    "papermill": {
     "duration": 0.337621,
     "end_time": "2022-09-17T00:13:24.536126",
     "exception": false,
     "start_time": "2022-09-17T00:13:24.198505",
     "status": "completed"
    },
    "tags": []
   },
   "outputs": [],
   "source": [
    "sns.boxplot(x=df_churn[\"TotalCharges\"])\n",
    "plt.show()\n",
    "\n",
    "printmd(\"#### Общая сумма сборов для большинства клиентов составляет менее 4000 долларов\")"
   ]
  },
  {
   "cell_type": "markdown",
   "id": "9fe5276f",
   "metadata": {
    "id": "9fe5276f",
    "papermill": {
     "duration": 0.165006,
     "end_time": "2022-09-17T00:13:24.866663",
     "exception": false,
     "start_time": "2022-09-17T00:13:24.701657",
     "status": "completed"
    },
    "tags": []
   },
   "source": [
    "### Численные признаки"
   ]
  },
  {
   "cell_type": "code",
   "execution_count": null,
   "id": "406f5111",
   "metadata": {
    "_kg_hide-input": true,
    "execution": {
     "iopub.execute_input": "2022-09-17T00:13:25.201107Z",
     "iopub.status.busy": "2022-09-17T00:13:25.200341Z",
     "iopub.status.idle": "2022-09-17T00:13:25.207237Z",
     "shell.execute_reply": "2022-09-17T00:13:25.207753Z",
     "shell.execute_reply.started": "2022-06-11T01:42:23.857075Z"
    },
    "id": "406f5111",
    "papermill": {
     "duration": 0.176346,
     "end_time": "2022-09-17T00:13:25.207987",
     "exception": false,
     "start_time": "2022-09-17T00:13:25.031641",
     "status": "completed"
    },
    "tags": []
   },
   "outputs": [],
   "source": [
    "\"\"\"#1.Create a function to plot histogram and density plot.\"\"\"\n",
    "def plot_histogram(feature):\n",
    "    \"\"\"Plots histogram and density plot of a variable.\"\"\"\n",
    "    \n",
    "    # Create subplot object\n",
    "    fig = make_subplots(\n",
    "        rows=2,\n",
    "        cols=1,\n",
    "        print_grid=False,\n",
    "    subplot_titles=(f\"Distribution of {feature.name} with Histogram\", f\"Distribution of {feature.name} with Density Plot\"))\n",
    "    \n",
    "    # This is a count histogram\n",
    "    fig.add_trace(\n",
    "        go.Histogram(\n",
    "            x = feature,\n",
    "            hoverinfo=\"x+y\"\n",
    "        ),\n",
    "    row=1,col=1)\n",
    "\n",
    "    # This is a density histogram\n",
    "    fig.add_trace(\n",
    "        go.Histogram(\n",
    "            x = feature,\n",
    "            hoverinfo=\"x+y\",\n",
    "            histnorm = \"density\"\n",
    "        ),\n",
    "    row=2,col=1)\n",
    "    \n",
    "    # Update layout\n",
    "    fig.layout.update(\n",
    "        height=800, \n",
    "        width=870,\n",
    "        hovermode=\"closest\"\n",
    "        )\n",
    "    \n",
    "    # Update axes\n",
    "    fig.layout.yaxis1.update(title=\"<b>Abs Frequency</b>\")\n",
    "    fig.layout.yaxis2.update(title=\"<b>Density(%)</b>\")\n",
    "    fig.layout.xaxis2.update(title=f\"<b>{feature.name}</b>\")\n",
    "    return fig.show(renderer=\"colab\")"
   ]
  },
  {
   "cell_type": "code",
   "execution_count": null,
   "id": "471efb37",
   "metadata": {
    "_kg_hide-input": true,
    "colab": {
     "base_uri": "https://localhost:8080/",
     "height": 846
    },
    "execution": {
     "iopub.execute_input": "2022-09-17T00:13:25.557456Z",
     "iopub.status.busy": "2022-09-17T00:13:25.556450Z",
     "iopub.status.idle": "2022-09-17T00:13:25.648627Z",
     "shell.execute_reply": "2022-09-17T00:13:25.648014Z",
     "shell.execute_reply.started": "2022-06-11T01:42:23.869833Z"
    },
    "executionInfo": {
     "elapsed": 11,
     "status": "ok",
     "timestamp": 1665974689934,
     "user": {
      "displayName": "Юрий Юров",
      "userId": "14847658770947017811"
     },
     "user_tz": -240
    },
    "id": "471efb37",
    "outputId": "17aca0d5-98f0-4ea0-ec9f-7df9f3281bd3",
    "papermill": {
     "duration": 0.272854,
     "end_time": "2022-09-17T00:13:25.648790",
     "exception": false,
     "start_time": "2022-09-17T00:13:25.375936",
     "status": "completed"
    },
    "tags": []
   },
   "outputs": [],
   "source": [
    "plot_histogram(df_churn['tenure'])\n",
    "\n",
    "printmd(\"**Tenure распределено U-образно**\")"
   ]
  },
  {
   "cell_type": "code",
   "execution_count": null,
   "id": "8ecd7272",
   "metadata": {
    "_kg_hide-input": true,
    "colab": {
     "base_uri": "https://localhost:8080/",
     "height": 846
    },
    "execution": {
     "iopub.execute_input": "2022-09-17T00:13:26.083639Z",
     "iopub.status.busy": "2022-09-17T00:13:26.082656Z",
     "iopub.status.idle": "2022-09-17T00:13:26.139654Z",
     "shell.execute_reply": "2022-09-17T00:13:26.139042Z",
     "shell.execute_reply.started": "2022-06-11T01:42:23.955865Z"
    },
    "executionInfo": {
     "elapsed": 416,
     "status": "ok",
     "timestamp": 1665974718887,
     "user": {
      "displayName": "Юрий Юров",
      "userId": "14847658770947017811"
     },
     "user_tz": -240
    },
    "id": "8ecd7272",
    "outputId": "5d91ae43-8635-4d3e-e730-b6a143a1cc94",
    "papermill": {
     "duration": 0.270455,
     "end_time": "2022-09-17T00:13:26.139817",
     "exception": false,
     "start_time": "2022-09-17T00:13:25.869362",
     "status": "completed"
    },
    "tags": []
   },
   "outputs": [],
   "source": [
    "plot_histogram(df_churn['MonthlyCharges'])\n",
    "\n",
    "printmd(\"**Ежемесячные платежи сильно искажены**\")"
   ]
  },
  {
   "cell_type": "code",
   "execution_count": null,
   "id": "346392e9",
   "metadata": {
    "_kg_hide-input": true,
    "colab": {
     "base_uri": "https://localhost:8080/",
     "height": 846
    },
    "execution": {
     "iopub.execute_input": "2022-09-17T00:13:26.631142Z",
     "iopub.status.busy": "2022-09-17T00:13:26.630112Z",
     "iopub.status.idle": "2022-09-17T00:13:26.692750Z",
     "shell.execute_reply": "2022-09-17T00:13:26.692163Z",
     "shell.execute_reply.started": "2022-06-11T01:42:24.019034Z"
    },
    "executionInfo": {
     "elapsed": 490,
     "status": "ok",
     "timestamp": 1665974727691,
     "user": {
      "displayName": "Юрий Юров",
      "userId": "14847658770947017811"
     },
     "user_tz": -240
    },
    "id": "346392e9",
    "outputId": "be500624-f2d9-40f9-d806-ffa5ecefa128",
    "papermill": {
     "duration": 0.307355,
     "end_time": "2022-09-17T00:13:26.692903",
     "exception": false,
     "start_time": "2022-09-17T00:13:26.385548",
     "status": "completed"
    },
    "tags": []
   },
   "outputs": [],
   "source": [
    "plot_histogram(df_churn['TotalCharges'])\n",
    "\n",
    "printmd(\"**TotalCharges имеет обратную J-образную форму распределенния**\")"
   ]
  },
  {
   "cell_type": "markdown",
   "id": "09b651e6",
   "metadata": {
    "id": "09b651e6",
    "papermill": {
     "duration": 0.28998,
     "end_time": "2022-09-17T00:13:27.277942",
     "exception": false,
     "start_time": "2022-09-17T00:13:26.987962",
     "status": "completed"
    },
    "tags": []
   },
   "source": [
    "<a id='6'></a>\n",
    "# 6 Двумерный Анализ\n",
    "\n",
    "В этом разделе мы проведем обширный статистический анализ с проверкой различных гипотез на основе парных типов данных: \n",
    "\n",
    "* числовые и числовые данные\n",
    "* числовые и порядковые данные\n",
    "* порядковые и порядковые данные\n",
    "* категориальные и категориальные данные\n",
    "\n",
    "\n",
    "#### Основные гипотезы:\n",
    "\n",
    "* H0: эти два признака независимы\n",
    "* H1: существует зависимость между признака"
   ]
  },
  {
   "cell_type": "markdown",
   "id": "dc9875fc",
   "metadata": {
    "id": "dc9875fc",
    "papermill": {
     "duration": 0.287774,
     "end_time": "2022-09-17T00:13:27.853970",
     "exception": false,
     "start_time": "2022-09-17T00:13:27.566196",
     "status": "completed"
    },
    "tags": []
   },
   "source": [
    "<a id='6.1'></a>\n",
    "## 6.1 Список признаков основанных на типе"
   ]
  },
  {
   "cell_type": "code",
   "execution_count": null,
   "id": "6ef97487",
   "metadata": {
    "_kg_hide-input": true,
    "_kg_hide-output": true,
    "colab": {
     "base_uri": "https://localhost:8080/"
    },
    "execution": {
     "iopub.execute_input": "2022-09-17T00:13:28.434321Z",
     "iopub.status.busy": "2022-09-17T00:13:28.433216Z",
     "iopub.status.idle": "2022-09-17T00:13:28.472876Z",
     "shell.execute_reply": "2022-09-17T00:13:28.473403Z",
     "shell.execute_reply.started": "2022-06-11T01:42:24.085149Z"
    },
    "executionInfo": {
     "elapsed": 594,
     "status": "ok",
     "timestamp": 1665974778309,
     "user": {
      "displayName": "Юрий Юров",
      "userId": "14847658770947017811"
     },
     "user_tz": -240
    },
    "id": "6ef97487",
    "outputId": "519c5d98-9568-49ff-8524-fac4fcb1061f",
    "papermill": {
     "duration": 0.332422,
     "end_time": "2022-09-17T00:13:28.473614",
     "exception": false,
     "start_time": "2022-09-17T00:13:28.141192",
     "status": "completed"
    },
    "tags": []
   },
   "outputs": [],
   "source": [
    "# Проверим величину уникальности переменных\n",
    "target_col_filter = df_churn.loc[:, df_churn.columns != 'Churn']\n",
    "\n",
    "\n",
    "cat_cols = list(set(target_col_filter.columns) - set(target_col_filter._get_numeric_data().columns))\n",
    "num_cols = list(set(target_col_filter._get_numeric_data().columns) - set({'SeniorCitizen'})) # already converted to integer\n",
    "\n",
    "\n",
    "# Получим количество уникальных записей в каждом столбце с категориальными данными\n",
    "object_nunique = list(map(lambda col: target_col_filter[col].nunique(), cat_cols))\n",
    "dict_features_by_col = dict(zip(cat_cols, object_nunique))\n",
    "\n",
    "\n",
    "# Выведем количество уникальных записей по столбцам в порядке возрастания\n",
    "print(sorted(dict_features_by_col.items(), key=lambda x: x[1]))\n",
    "\n",
    "\n",
    "ordinal_cols = ['tenure-binned', 'MonthlyCharges-binned', 'TotalCharges-binned']\n",
    "dichotomous_cols = [cat for cat in cat_cols if df_churn[cat].value_counts().count() == 2]\n",
    "polytomous_cols = list(set(cat_cols) - set(dichotomous_cols) - set(ordinal_cols))\n",
    "\n",
    "\n",
    "print(\"Categorical Columns\".ljust(left_padding))\n",
    "print(cat_cols)\n",
    "print(\"--------------------\")\n",
    "\n",
    "print(\"Numerical Columns\".ljust(left_padding))\n",
    "print(num_cols)\n",
    "print(\"--------------------\")\n",
    "\n",
    "print(\"Ordinal Columns\".ljust(left_padding))\n",
    "print(ordinal_cols)\n",
    "print(\"--------------------\")\n",
    "\n",
    "print(\"Dichotomous Columns\".ljust(left_padding))\n",
    "print(dichotomous_cols)\n",
    "print(\"--------------------\")\n",
    "\n",
    "print(\"Polytomous Columns\".ljust(left_padding))\n",
    "print(polytomous_cols)"
   ]
  },
  {
   "cell_type": "markdown",
   "id": "de31b8c9",
   "metadata": {
    "id": "de31b8c9",
    "papermill": {
     "duration": 0.287556,
     "end_time": "2022-09-17T00:13:29.049512",
     "exception": false,
     "start_time": "2022-09-17T00:13:28.761956",
     "status": "completed"
    },
    "tags": []
   },
   "source": [
    "**Категориальные столбцы**\n",
    "> 'TechSupport', 'DeviceProtection', 'Contract', 'PaperlessBilling', 'TotalCharges-binned', <br>'gender', 'OnlineBackup', 'InternetService', 'StreamingTV', 'tenure-binned', <br>'Dependents', 'PhoneService', 'StreamingMovies', 'MultipleLines', 'Partner', <br>'MonthlyCharges-binned', 'OnlineSecurity', 'PaymentMethod'\n",
    "\n",
    "**Числовые Столбцы**\n",
    "> 'MonthlyCharges', 'tenure', 'TotalCharges'\n",
    "\n",
    "**Порядковые столбцы**\n",
    "> tenure-binned', 'MonthlyCharges-binned', 'TotalCharges-binned'\n",
    "\n",
    "**Двухкатегориальные столбцы**\n",
    "> 'PaperlessBilling', 'gender', 'Dependents', 'PhoneService', 'Partner'\n",
    "\n",
    "**Многокатегориальные Columns**\n",
    "> 'TechSupport', 'StreamingMovies', 'DeviceProtection', 'MultipleLines', 'Contract',<br> 'InternetService', 'OnlineSecurity', 'StreamingTV', 'PaymentMethod', 'OnlineBackup'"
   ]
  },
  {
   "cell_type": "markdown",
   "id": "6e200e28",
   "metadata": {
    "id": "6e200e28",
    "papermill": {
     "duration": 0.290152,
     "end_time": "2022-09-17T00:13:29.629903",
     "exception": false,
     "start_time": "2022-09-17T00:13:29.339751",
     "status": "completed"
    },
    "tags": []
   },
   "source": [
    "<a id='6.2'></a>\n",
    "## 6.2 Числовые и числовые"
   ]
  },
  {
   "cell_type": "markdown",
   "id": "39919ce0",
   "metadata": {
    "id": "39919ce0",
    "papermill": {
     "duration": 0.340282,
     "end_time": "2022-09-17T00:13:30.257911",
     "exception": false,
     "start_time": "2022-09-17T00:13:29.917629",
     "status": "completed"
    },
    "tags": []
   },
   "source": [
    "<a id='6.2.1'></a>\n",
    "### 6.2.1 Коэффициент ранговой корреляции Спирмена \n",
    "---\n",
    "Она же Spearman's rho или Spearman correlation coefficient\n",
    "\n",
    "\n",
    "Применяется к **Непрерывным или порядковым** переменным\n",
    "\n",
    "<br>\n",
    "\n",
    "Для корреляции Пирсона r обе переменные должны быть нормально распределены\n",
    "Согласно тесту на нормальность, столбцы \"Срок пребывания\", \"Ежемесячные платежи\" и \"Общие расходы\" **распределны не нормально**\n",
    "\n",
    "**В отличие от корреляции Пирсона**, корреляция Спирмена не предполагает, что оба набора данных **распределены нормально**\n",
    "\n",
    "Корреляция Пирсона предполагает нормальность и линейность. Корреляция Пирсона также не может определить разницу между зависимыми и независимыми переменными\n",
    "\n",
    "Гипотезы:\n",
    "\n",
    "* **H0: две выборки не имеют монотонной взаимосвязи**\n",
    "* **H1: существует монотонная взаимосвязь между выборками**\n",
    "\n",
    "Ссылки:\n",
    "* https://en.wikipedia.org/wiki/Spearman%27s_rank_correlation_coefficient\n",
    "* https://www.statology.org/spearman-correlation-python/"
   ]
  },
  {
   "cell_type": "code",
   "execution_count": null,
   "id": "25985aeb",
   "metadata": {
    "execution": {
     "iopub.execute_input": "2022-09-17T00:13:30.842152Z",
     "iopub.status.busy": "2022-09-17T00:13:30.841417Z",
     "iopub.status.idle": "2022-09-17T00:13:30.844522Z",
     "shell.execute_reply": "2022-09-17T00:13:30.843808Z",
     "shell.execute_reply.started": "2022-06-11T01:42:24.138912Z"
    },
    "id": "25985aeb",
    "papermill": {
     "duration": 0.296543,
     "end_time": "2022-09-17T00:13:30.844679",
     "exception": false,
     "start_time": "2022-09-17T00:13:30.548136",
     "status": "completed"
    },
    "tags": []
   },
   "outputs": [],
   "source": [
    "def cal_spearmanr(c1, c2):\n",
    "\n",
    "    alpha = 0.05\n",
    "\n",
    "    correlation, p_value = stats.spearmanr(df_churn[c1], df_churn[c2])\n",
    "\n",
    "    print(f'{c1}, {c2} correlation: {correlation}, p: {p_value}')\n",
    "\n",
    "    if p_value > alpha:\n",
    "        print('Вероятно, у них нет монотонной взаимосвязи (не удается отклонить H0)')\n",
    "    else:\n",
    "        print('Вероятно, имеют монотонную взаимосвязь (отклоняем H0)')"
   ]
  },
  {
   "cell_type": "code",
   "execution_count": null,
   "id": "a8293624",
   "metadata": {
    "colab": {
     "base_uri": "https://localhost:8080/"
    },
    "execution": {
     "iopub.execute_input": "2022-09-17T00:13:31.448280Z",
     "iopub.status.busy": "2022-09-17T00:13:31.447582Z",
     "iopub.status.idle": "2022-09-17T00:13:31.457333Z",
     "shell.execute_reply": "2022-09-17T00:13:31.458000Z",
     "shell.execute_reply.started": "2022-06-11T01:42:24.146705Z"
    },
    "executionInfo": {
     "elapsed": 4,
     "status": "ok",
     "timestamp": 1665974894559,
     "user": {
      "displayName": "Юрий Юров",
      "userId": "14847658770947017811"
     },
     "user_tz": -240
    },
    "id": "a8293624",
    "outputId": "b025aaaa-8523-4149-aa58-9a2ea65c4bb5",
    "papermill": {
     "duration": 0.304416,
     "end_time": "2022-09-17T00:13:31.458238",
     "exception": false,
     "start_time": "2022-09-17T00:13:31.153822",
     "status": "completed"
    },
    "tags": []
   },
   "outputs": [],
   "source": [
    "cal_spearmanr('tenure','MonthlyCharges')"
   ]
  },
  {
   "cell_type": "code",
   "execution_count": null,
   "id": "39a18cf2",
   "metadata": {
    "colab": {
     "base_uri": "https://localhost:8080/"
    },
    "execution": {
     "iopub.execute_input": "2022-09-17T00:13:32.043041Z",
     "iopub.status.busy": "2022-09-17T00:13:32.042276Z",
     "iopub.status.idle": "2022-09-17T00:13:32.048765Z",
     "shell.execute_reply": "2022-09-17T00:13:32.049370Z",
     "shell.execute_reply.started": "2022-06-11T01:42:24.165939Z"
    },
    "executionInfo": {
     "elapsed": 507,
     "status": "ok",
     "timestamp": 1665974930716,
     "user": {
      "displayName": "Юрий Юров",
      "userId": "14847658770947017811"
     },
     "user_tz": -240
    },
    "id": "39a18cf2",
    "outputId": "e2d4194a-466b-45b1-f21a-fdbda962913c",
    "papermill": {
     "duration": 0.302164,
     "end_time": "2022-09-17T00:13:32.049576",
     "exception": false,
     "start_time": "2022-09-17T00:13:31.747412",
     "status": "completed"
    },
    "tags": []
   },
   "outputs": [],
   "source": [
    "cal_spearmanr('tenure','TotalCharges')"
   ]
  },
  {
   "cell_type": "code",
   "execution_count": null,
   "id": "31bfc094",
   "metadata": {
    "colab": {
     "base_uri": "https://localhost:8080/"
    },
    "execution": {
     "iopub.execute_input": "2022-09-17T00:13:32.631599Z",
     "iopub.status.busy": "2022-09-17T00:13:32.630867Z",
     "iopub.status.idle": "2022-09-17T00:13:32.637857Z",
     "shell.execute_reply": "2022-09-17T00:13:32.637163Z",
     "shell.execute_reply.started": "2022-06-11T01:42:24.177971Z"
    },
    "executionInfo": {
     "elapsed": 8,
     "status": "ok",
     "timestamp": 1665974931137,
     "user": {
      "displayName": "Юрий Юров",
      "userId": "14847658770947017811"
     },
     "user_tz": -240
    },
    "id": "31bfc094",
    "outputId": "490dec6d-f1a5-4ff9-8a3a-387d88d2b72a",
    "papermill": {
     "duration": 0.299601,
     "end_time": "2022-09-17T00:13:32.638017",
     "exception": false,
     "start_time": "2022-09-17T00:13:32.338416",
     "status": "completed"
    },
    "tags": []
   },
   "outputs": [],
   "source": [
    "cal_spearmanr('MonthlyCharges','TotalCharges')"
   ]
  },
  {
   "cell_type": "markdown",
   "id": "d7e1ddcf",
   "metadata": {
    "id": "d7e1ddcf",
    "papermill": {
     "duration": 0.288684,
     "end_time": "2022-09-17T00:13:33.217543",
     "exception": false,
     "start_time": "2022-09-17T00:13:32.928859",
     "status": "completed"
    },
    "tags": []
   },
   "source": [
    "<a id='6.3'></a>\n",
    "## 6.3 Числовой и порядковые"
   ]
  },
  {
   "cell_type": "markdown",
   "id": "50b8b069",
   "metadata": {
    "id": "50b8b069",
    "papermill": {
     "duration": 0.28637,
     "end_time": "2022-09-17T00:13:33.789854",
     "exception": false,
     "start_time": "2022-09-17T00:13:33.503484",
     "status": "completed"
    },
    "tags": []
   },
   "source": [
    "<a id='6.3.1'></a>\n",
    "### 6.3.1 Коэффициент корреляции Кендалла\n",
    "---\n",
    "Он же **Kendall's τ** или **Kendall's Tau** или T-тест\n",
    "\n",
    "Тау Кендалла часто используется для корреляции непрерывных данных, если в данных есть выбросы\n",
    "\n",
    "Τ-тест - это непараметрическая проверка гипотезы на статистическую зависимость, основанная на коэффициенте τ\n",
    "\n",
    "Примеры порядковых переменных:\n",
    "* возраст, вес, рост, результаты тестов, опросов, годовая зарплата и т.д\n",
    "* уровень образования (бакалавры / магистры / профессора), уровень дохода (если сгруппирован в высокий / средний / низкий) и т.д\n",
    "\n",
    "В этом наборе данных есть три порядковых признака:\n",
    "* **tenure-binned** \n",
    "* **MonthlyCharges-binned**\n",
    "* **TotalCharges-binned**\n",
    "\n",
    "Ссылки:\n",
    "* https://en.wikipedia.org/wiki/Kendall_rank_correlation_coefficient\n",
    "* https://www.geeksforgeeks.org/python-kendall-rank-correlation-coefficient/"
   ]
  },
  {
   "cell_type": "code",
   "execution_count": null,
   "id": "c21fa9c0",
   "metadata": {
    "execution": {
     "iopub.execute_input": "2022-09-17T00:13:34.372509Z",
     "iopub.status.busy": "2022-09-17T00:13:34.371714Z",
     "iopub.status.idle": "2022-09-17T00:13:34.374733Z",
     "shell.execute_reply": "2022-09-17T00:13:34.374170Z",
     "shell.execute_reply.started": "2022-06-11T01:42:24.192091Z"
    },
    "id": "c21fa9c0",
    "papermill": {
     "duration": 0.297149,
     "end_time": "2022-09-17T00:13:34.374889",
     "exception": false,
     "start_time": "2022-09-17T00:13:34.077740",
     "status": "completed"
    },
    "tags": []
   },
   "outputs": [],
   "source": [
    "def kendall_rank_correlation(feature1, feature2):\n",
    "\n",
    "    coef, p_value = stats.kendalltau(df_churn[feature1], df_churn[feature2])\n",
    "    print(f\"Корреляция между {feature1} and {feature2} \")\n",
    "    print('Kendall correlation coefficient = %.5f, p = %.5f' % (coef, p_value))\n",
    "\n",
    "    # interpret the significance\n",
    "    alpha = 0.05\n",
    "    if p_value > alpha:\n",
    "        print('Признаки некоррелированы (не удается отклонить H0) p=%.3f' % p_value)\n",
    "    else:\n",
    "        print('Признаки коррелированы (отклоняем H0) p=%.3f' % p_value)\n",
    "    print('----\\n')"
   ]
  },
  {
   "cell_type": "code",
   "execution_count": null,
   "id": "cbc6f0e3",
   "metadata": {
    "colab": {
     "base_uri": "https://localhost:8080/",
     "height": 886
    },
    "execution": {
     "iopub.execute_input": "2022-09-17T00:13:34.955805Z",
     "iopub.status.busy": "2022-09-17T00:13:34.955097Z",
     "iopub.status.idle": "2022-09-17T00:13:35.056125Z",
     "shell.execute_reply": "2022-09-17T00:13:35.055578Z",
     "shell.execute_reply.started": "2022-06-11T01:42:24.201890Z"
    },
    "executionInfo": {
     "elapsed": 10,
     "status": "ok",
     "timestamp": 1665975070947,
     "user": {
      "displayName": "Юрий Юров",
      "userId": "14847658770947017811"
     },
     "user_tz": -240
    },
    "id": "cbc6f0e3",
    "outputId": "c971f1b8-e3d9-49b8-e587-f045daeea1e1",
    "papermill": {
     "duration": 0.39392,
     "end_time": "2022-09-17T00:13:35.056290",
     "exception": false,
     "start_time": "2022-09-17T00:13:34.662370",
     "status": "completed"
    },
    "tags": []
   },
   "outputs": [],
   "source": [
    "ordinal_features = ['tenure-binned','MonthlyCharges-binned', 'TotalCharges-binned']\n",
    "\n",
    "for ord in ordinal_features:\n",
    "    printmd(f\"Корреляция с **{ord}**\")\n",
    "    kendall_rank_correlation('tenure',ord)\n",
    "    kendall_rank_correlation('MonthlyCharges',ord)\n",
    "    kendall_rank_correlation('TotalCharges',ord)"
   ]
  },
  {
   "cell_type": "markdown",
   "id": "37bb5846",
   "metadata": {
    "id": "37bb5846",
    "papermill": {
     "duration": 0.28798,
     "end_time": "2022-09-17T00:13:35.633700",
     "exception": false,
     "start_time": "2022-09-17T00:13:35.345720",
     "status": "completed"
    },
    "tags": []
   },
   "source": [
    "<a id='6.3.2'></a>\n",
    "### 6.3.2 U-критерий Манна — Уитни\n",
    "\n",
    "U-критерий Манна-Уитни - это **непараметрический** тест статистической значимости для определения того, были ли взяты две независимые выборки из совокупности с одинаковым распределением.\n",
    "\n",
    "Тест определяет, различаются ли медианы двух или более групп.\n",
    "\n",
    "**ПРИМЕЧАНИЕ**: Для того, чтобы тест был эффективным, требуется **не менее 20 наблюдений** в каждой выборке данных.\n",
    "\n",
    "* Не удается отклонить H0: Выборочные распределения равны. (или выборочные распределения, скорее всего, взяты из одной и той же совокупности)\n",
    "* Отклоняем H0: Распределения выборок не равны.\n",
    "\n",
    "Ссылки:\n",
    "* https://ru.wikipedia.org/wiki/U-критерий_Манна_—_Уитни\n",
    "* https://www.codecamp.ru/blog/mann-whitney-u-test-python/"
   ]
  },
  {
   "cell_type": "markdown",
   "id": "313e1cdc",
   "metadata": {
    "id": "313e1cdc",
    "papermill": {
     "duration": 0.298043,
     "end_time": "2022-09-17T00:13:36.222006",
     "exception": false,
     "start_time": "2022-09-17T00:13:35.923963",
     "status": "completed"
    },
    "tags": []
   },
   "source": [
    "### Целевая корреляция (Двухклассовая)"
   ]
  },
  {
   "cell_type": "code",
   "execution_count": null,
   "id": "b9645e91",
   "metadata": {
    "execution": {
     "iopub.execute_input": "2022-09-17T00:13:36.811855Z",
     "iopub.status.busy": "2022-09-17T00:13:36.811085Z",
     "iopub.status.idle": "2022-09-17T00:13:36.813633Z",
     "shell.execute_reply": "2022-09-17T00:13:36.812962Z",
     "shell.execute_reply.started": "2022-06-11T01:42:24.349423Z"
    },
    "id": "b9645e91",
    "papermill": {
     "duration": 0.297945,
     "end_time": "2022-09-17T00:13:36.813787",
     "exception": false,
     "start_time": "2022-09-17T00:13:36.515842",
     "status": "completed"
    },
    "tags": []
   },
   "outputs": [],
   "source": [
    "def mannwhitneyu_correlation(feature1):\n",
    "    stat, p_value = stats.mannwhitneyu(df_churn[feature1], (df_churn['Churn'] == 'Yes').astype(int))\n",
    "    print(f\"Корреляция между {feature1} and Churn\")\n",
    "    print('Statistics = %.5f, p = %.5f' % (stat, p_value))\n",
    "\n",
    "    # interpret the significance\n",
    "    alpha = 0.05\n",
    "    if p_value > alpha:\n",
    "        print('Одинаковое распределение (не удается отклонить H0)')\n",
    "    else:\n",
    "        print('Различное распределение (отклонение H0)')\n",
    "    print('----\\n') "
   ]
  },
  {
   "cell_type": "code",
   "execution_count": null,
   "id": "fbbdf8f6",
   "metadata": {
    "colab": {
     "base_uri": "https://localhost:8080/",
     "height": 365
    },
    "execution": {
     "iopub.execute_input": "2022-09-17T00:13:37.400907Z",
     "iopub.status.busy": "2022-09-17T00:13:37.400203Z",
     "iopub.status.idle": "2022-09-17T00:13:37.442393Z",
     "shell.execute_reply": "2022-09-17T00:13:37.442939Z",
     "shell.execute_reply.started": "2022-06-11T01:42:24.357425Z"
    },
    "executionInfo": {
     "elapsed": 13,
     "status": "ok",
     "timestamp": 1665975298022,
     "user": {
      "displayName": "Юрий Юров",
      "userId": "14847658770947017811"
     },
     "user_tz": -240
    },
    "id": "fbbdf8f6",
    "outputId": "7059d17d-b9e7-4003-f44b-c9bde6802133",
    "papermill": {
     "duration": 0.337952,
     "end_time": "2022-09-17T00:13:37.443218",
     "exception": false,
     "start_time": "2022-09-17T00:13:37.105266",
     "status": "completed"
    },
    "tags": []
   },
   "outputs": [],
   "source": [
    "numerical_features = ['tenure','MonthlyCharges', 'TotalCharges']\n",
    "\n",
    "for num in numerical_features:\n",
    "    printmd(f\"Корреляция с **{num}**\")\n",
    "    mannwhitneyu_correlation(num)"
   ]
  },
  {
   "cell_type": "markdown",
   "id": "c7cf8e4f",
   "metadata": {
    "id": "c7cf8e4f",
    "papermill": {
     "duration": 0.297431,
     "end_time": "2022-09-17T00:13:38.035347",
     "exception": false,
     "start_time": "2022-09-17T00:13:37.737916",
     "status": "completed"
    },
    "tags": []
   },
   "source": [
    "**Бисериальную корреляция**\n",
    "\n",
    "Точечная бисериальная корреляция используется для измерения взаимосвязи между **бинарной переменной x и непрерывной переменной y**. Как и другие коэффициенты корреляции, этот варьируется от -1 до +1, при этом 0 означает отсутствие корреляции. Корреляции, равные -1 или +1, подразумевают определяющую \n",
    "\n",
    "ПРИМЕЧАНИЕ: точечно-бисериальная корреляция проводится по формуле корреляции Пирсона, за исключением того, что одна из переменных является двухклассовой\n",
    "\n",
    "Допущения для точечно-бисериальной корреляции включают:\n",
    "\n",
    "* Непрерывные и бинарные\n",
    "* **Нормально распределенные** (В нашем случае ненормальные)\n",
    "* Отсутствие выбросов\n",
    "* Равные отклонения\n",
    "\n",
    "Варианты нормализации ненормального распределения:\n",
    " \n",
    "* Log transform\n",
    "* Square root transform\n",
    "* Box cox (может применяться только к строго положительным данным)\n",
    "* Yeo Johnson (как положительный, так и отрицательный)\n",
    "\n",
    "Ссылки:\n",
    "* https://en.wikipedia.org/wiki/Point-biserial_correlation_coefficient\n",
    "* https://www.codecamp.ru/blog/point-biserial-correlation-python/"
   ]
  },
  {
   "cell_type": "code",
   "execution_count": null,
   "id": "c09cf2b9",
   "metadata": {
    "colab": {
     "base_uri": "https://localhost:8080/"
    },
    "execution": {
     "iopub.execute_input": "2022-09-17T00:13:38.633942Z",
     "iopub.status.busy": "2022-09-17T00:13:38.633169Z",
     "iopub.status.idle": "2022-09-17T00:13:38.651316Z",
     "shell.execute_reply": "2022-09-17T00:13:38.651871Z",
     "shell.execute_reply.started": "2022-06-11T01:42:24.439496Z"
    },
    "executionInfo": {
     "elapsed": 296,
     "status": "ok",
     "timestamp": 1665975458068,
     "user": {
      "displayName": "Юрий Юров",
      "userId": "14847658770947017811"
     },
     "user_tz": -240
    },
    "id": "c09cf2b9",
    "outputId": "0874c2df-92f6-480d-8bfa-0659f0393817",
    "papermill": {
     "duration": 0.318469,
     "end_time": "2022-09-17T00:13:38.652066",
     "exception": false,
     "start_time": "2022-09-17T00:13:38.333597",
     "status": "completed"
    },
    "tags": []
   },
   "outputs": [],
   "source": [
    "data = df_churn['MonthlyCharges'].to_numpy()\n",
    "pt = PowerTransformer(method='yeo-johnson') # ‘box-cox’, 'yeo-johnson'\n",
    "data = data.reshape(-1, 1)\n",
    "pt.fit(data)\n",
    "transformed_data = pt.transform(data)\n",
    "\n",
    "transformed_k2, transformed_p = stats.normaltest(transformed_data)\n",
    "\n",
    "# другие методы преобразования в гауссово распределение\n",
    "\n",
    "# log transform\n",
    "# stats.normaltest(np.log(df_churn['MonthlyCharges']))\n",
    "\n",
    "# square transform\n",
    "# stats.normaltest(np.sqrt(df_churn['MonthlyCharges'])\n",
    "\n",
    "# box-cox transform\n",
    "# stats.normaltest(stats.boxcox(df_churn['MonthlyCharges'])[0])\n",
    "\n",
    "# all other methods failed to convert into gaussian\n",
    "\n",
    "\n",
    "alpha = 0.05\n",
    "if transformed_p > alpha:\n",
    "    print('Выборка выглядит гауссовой (не удается отклонить H0)')\n",
    "else:\n",
    "    print('Выборка не выглядит гауссовой (отклоняем H0)')"
   ]
  },
  {
   "cell_type": "markdown",
   "id": "6fed0deb",
   "metadata": {
    "id": "6fed0deb",
    "papermill": {
     "duration": 0.292843,
     "end_time": "2022-09-17T00:13:39.242340",
     "exception": false,
     "start_time": "2022-09-17T00:13:38.949497",
     "status": "completed"
    },
    "tags": []
   },
   "source": [
    "**Поскольку числовые столбцы не могут быть преобразованы в распределение по Гауссу, проверка точечной бисериальной корреляции не может быть выполнена**"
   ]
  },
  {
   "cell_type": "markdown",
   "id": "b6e84e4e",
   "metadata": {
    "id": "b6e84e4e",
    "papermill": {
     "duration": 0.290119,
     "end_time": "2022-09-17T00:13:39.824756",
     "exception": false,
     "start_time": "2022-09-17T00:13:39.534637",
     "status": "completed"
    },
    "tags": []
   },
   "source": [
    "<a id='6.3.3'></a>\n",
    "### 6.3.3 Многоклассовые с числовыми\n",
    "\n",
    "Для двухклассовой категориальной переменной и непрерывной переменной мы можем вычислить корреляцию Пирсона, если категориальная переменная имеет кодировку 0/1 для категорий. Эта корреляция затем также известна как точечно-бисериальный коэффициент корреляции. (параметрический тест)\n",
    "\n",
    "Но когда у нас есть **более двух категорий** для категориальной переменной, корреляция Пирсона больше не подходит.\n",
    "\n",
    "Потому, мы должны использовать **eta-квадрат, или eta**, в качестве меры размера эффекта для взаимосвязи категориальной переменной **и непрерывной переменной**.\n",
    "\n",
    "Ссылка:\n",
    "https://www.codecamp.ru/blog/eta-squared/\n"
   ]
  },
  {
   "cell_type": "code",
   "execution_count": null,
   "id": "c56b0971",
   "metadata": {
    "execution": {
     "iopub.execute_input": "2022-09-17T00:13:40.473003Z",
     "iopub.status.busy": "2022-09-17T00:13:40.472192Z",
     "iopub.status.idle": "2022-09-17T00:13:40.475476Z",
     "shell.execute_reply": "2022-09-17T00:13:40.474885Z",
     "shell.execute_reply.started": "2022-06-11T01:42:24.469750Z"
    },
    "id": "c56b0971",
    "papermill": {
     "duration": 0.304802,
     "end_time": "2022-09-17T00:13:40.475640",
     "exception": false,
     "start_time": "2022-09-17T00:13:40.170838",
     "status": "completed"
    },
    "tags": []
   },
   "outputs": [],
   "source": [
    "def correlation_ratio(categories, measurements):\n",
    "    fcat, _ = pd.factorize(categories)\n",
    "    cat_num = np.max(fcat)+1\n",
    "    y_avg_array = np.zeros(cat_num)\n",
    "    n_array = np.zeros(cat_num)\n",
    "    for i in range(0,cat_num):\n",
    "        cat_measures = measurements[np.argwhere(fcat == i).flatten()]\n",
    "        n_array[i] = len(cat_measures)\n",
    "        y_avg_array[i] = np.average(cat_measures)\n",
    "    y_total_avg = np.sum(np.multiply(y_avg_array,n_array))/np.sum(n_array)\n",
    "    numerator = np.sum(np.multiply(n_array,np.power(np.subtract(y_avg_array,y_total_avg),2)))\n",
    "    denominator = np.sum(np.power(np.subtract(measurements,y_total_avg),2))\n",
    "    if numerator == 0:\n",
    "        eta = 0.0\n",
    "    else:\n",
    "        eta = np.sqrt(numerator/denominator)\n",
    "    return eta"
   ]
  },
  {
   "cell_type": "code",
   "execution_count": null,
   "id": "ad9dd7e8",
   "metadata": {
    "colab": {
     "base_uri": "https://localhost:8080/"
    },
    "execution": {
     "iopub.execute_input": "2022-09-17T00:13:41.074670Z",
     "iopub.status.busy": "2022-09-17T00:13:41.073865Z",
     "iopub.status.idle": "2022-09-17T00:13:41.083610Z",
     "shell.execute_reply": "2022-09-17T00:13:41.083021Z",
     "shell.execute_reply.started": "2022-06-11T01:42:24.481170Z"
    },
    "executionInfo": {
     "elapsed": 5,
     "status": "ok",
     "timestamp": 1665975580048,
     "user": {
      "displayName": "Юрий Юров",
      "userId": "14847658770947017811"
     },
     "user_tz": -240
    },
    "id": "ad9dd7e8",
    "outputId": "484f974c-b262-4762-fe0e-897139430b55",
    "papermill": {
     "duration": 0.3134,
     "end_time": "2022-09-17T00:13:41.083775",
     "exception": false,
     "start_time": "2022-09-17T00:13:40.770375",
     "status": "completed"
    },
    "tags": []
   },
   "outputs": [],
   "source": [
    "correlation_ratio(df_churn['PaymentMethod'], df_churn['MonthlyCharges'])"
   ]
  },
  {
   "cell_type": "code",
   "execution_count": null,
   "id": "2e9e6b85",
   "metadata": {
    "colab": {
     "base_uri": "https://localhost:8080/"
    },
    "execution": {
     "iopub.execute_input": "2022-09-17T00:13:41.671661Z",
     "iopub.status.busy": "2022-09-17T00:13:41.670948Z",
     "iopub.status.idle": "2022-09-17T00:13:41.679329Z",
     "shell.execute_reply": "2022-09-17T00:13:41.679855Z",
     "shell.execute_reply.started": "2022-06-11T01:42:24.501386Z"
    },
    "executionInfo": {
     "elapsed": 853,
     "status": "ok",
     "timestamp": 1665975588372,
     "user": {
      "displayName": "Юрий Юров",
      "userId": "14847658770947017811"
     },
     "user_tz": -240
    },
    "id": "2e9e6b85",
    "outputId": "4197c8e2-a0f2-4006-9019-eb4f476c16e8",
    "papermill": {
     "duration": 0.30392,
     "end_time": "2022-09-17T00:13:41.680067",
     "exception": false,
     "start_time": "2022-09-17T00:13:41.376147",
     "status": "completed"
    },
    "tags": []
   },
   "outputs": [],
   "source": [
    "correlation_ratio(df_churn['PaymentMethod'], df_churn['TotalCharges'])"
   ]
  },
  {
   "cell_type": "code",
   "execution_count": null,
   "id": "2a71fe37",
   "metadata": {
    "colab": {
     "base_uri": "https://localhost:8080/"
    },
    "execution": {
     "iopub.execute_input": "2022-09-17T00:13:42.298571Z",
     "iopub.status.busy": "2022-09-17T00:13:42.297823Z",
     "iopub.status.idle": "2022-09-17T00:13:42.306546Z",
     "shell.execute_reply": "2022-09-17T00:13:42.306000Z",
     "shell.execute_reply.started": "2022-06-11T01:42:24.515573Z"
    },
    "executionInfo": {
     "elapsed": 345,
     "status": "ok",
     "timestamp": 1665975590047,
     "user": {
      "displayName": "Юрий Юров",
      "userId": "14847658770947017811"
     },
     "user_tz": -240
    },
    "id": "2a71fe37",
    "outputId": "80ef2c96-d787-47fa-9b0c-45994d394ef0",
    "papermill": {
     "duration": 0.322991,
     "end_time": "2022-09-17T00:13:42.306711",
     "exception": false,
     "start_time": "2022-09-17T00:13:41.983720",
     "status": "completed"
    },
    "tags": []
   },
   "outputs": [],
   "source": [
    "correlation_ratio(df_churn['PaymentMethod'], df_churn['tenure'])"
   ]
  },
  {
   "cell_type": "markdown",
   "id": "f957c665",
   "metadata": {
    "id": "f957c665",
    "papermill": {
     "duration": 0.294321,
     "end_time": "2022-09-17T00:13:42.895200",
     "exception": false,
     "start_time": "2022-09-17T00:13:42.600879",
     "status": "completed"
    },
    "tags": []
   },
   "source": [
    "<a id='6.4'></a>\n",
    "## 6.4 Двухклассовое и Двухклассовое\n",
    "\n",
    "В классификации, когда оба признака являются категориальными, тогда сила взаимосвязи между ними может быть измерена с помощью **критерия Chi-квадрат**\n",
    "\n",
    "Ссылки:\n",
    "* https://ru.wikipedia.org/wiki/Критерий_хи-квадрат\n",
    "* https://www.codecamp.ru/blog/chi-square-goodness-of-fit-test-python/"
   ]
  },
  {
   "cell_type": "markdown",
   "id": "d517c4ac",
   "metadata": {
    "id": "d517c4ac",
    "papermill": {
     "duration": 0.292027,
     "end_time": "2022-09-17T00:13:43.484361",
     "exception": false,
     "start_time": "2022-09-17T00:13:43.192334",
     "status": "completed"
    },
    "tags": []
   },
   "source": [
    "<a id='6.4.1'></a>\n",
    "### 6.4.1 Корреляция Phi\n",
    "---\n",
    "Коэффициент корреляции Мэтьюса (MCC) или коэффициент phi используется в машинном обучении в качестве меры качества бинарных (двухклассовых) классификаций\n",
    "\n",
    "Ссылки:\n",
    "* https://en.wikipedia.org/wiki/Phi_coefficient\n",
    "* https://www.codecamp.ru/blog/matthews-correlation-coefficient-python/\n"
   ]
  },
  {
   "cell_type": "code",
   "execution_count": null,
   "id": "d185da90",
   "metadata": {
    "colab": {
     "base_uri": "https://localhost:8080/",
     "height": 133
    },
    "execution": {
     "iopub.execute_input": "2022-09-17T00:13:44.082612Z",
     "iopub.status.busy": "2022-09-17T00:13:44.081857Z",
     "iopub.status.idle": "2022-09-17T00:13:44.202146Z",
     "shell.execute_reply": "2022-09-17T00:13:44.203016Z",
     "shell.execute_reply.started": "2022-06-11T01:42:24.529401Z"
    },
    "executionInfo": {
     "elapsed": 446,
     "status": "ok",
     "timestamp": 1665975715553,
     "user": {
      "displayName": "Юрий Юров",
      "userId": "14847658770947017811"
     },
     "user_tz": -240
    },
    "id": "d185da90",
    "outputId": "c8d2f120-bee7-4a6a-a88a-38aef222effa",
    "papermill": {
     "duration": 0.421031,
     "end_time": "2022-09-17T00:13:44.203259",
     "exception": false,
     "start_time": "2022-09-17T00:13:43.782228",
     "status": "completed"
    },
    "tags": []
   },
   "outputs": [],
   "source": [
    "printmd(\"**Корреляция между двухклассовым признаками с целевой: Churn**\")\n",
    "\n",
    "for col in dichotomous_cols:\n",
    "    print(col.ljust(left_padding), matthews_corrcoef(df_churn[col], df_churn['Churn']))"
   ]
  },
  {
   "cell_type": "markdown",
   "id": "d0eca535",
   "metadata": {
    "id": "d0eca535",
    "papermill": {
     "duration": 0.29257,
     "end_time": "2022-09-17T00:13:44.791722",
     "exception": false,
     "start_time": "2022-09-17T00:13:44.499152",
     "status": "completed"
    },
    "tags": []
   },
   "source": [
    "<a id='6.5'></a>\n",
    "## 6.5 Категориальная & категориальная "
   ]
  },
  {
   "cell_type": "markdown",
   "id": "1d3b854f",
   "metadata": {
    "id": "1d3b854f",
    "papermill": {
     "duration": 0.292038,
     "end_time": "2022-09-17T00:13:45.385182",
     "exception": false,
     "start_time": "2022-09-17T00:13:45.093144",
     "status": "completed"
    },
    "tags": []
   },
   "source": [
    "<a id='6.5.1'></a>\n",
    "### 6.5.1 Chi-квадрат\n",
    "\n",
    "Обнаружим независимость между 2 категориальными переменными, 2x2 или 2 x Многие\n",
    "\n",
    "Тестовая статистика в контексте распределения Chi-квадрат с необходимым числом степеней свободы\n",
    "\n",
    "* Если Статистика >= Критическое значение: значимый результат, отклонить нулевую гипотезу (H0), зависимый.\n",
    "* Если статистика < Критическое значение: результат незначим, не удается отклонить нулевую гипотезу (H0), независим.\n",
    "\n",
    "В терминах p-значения и выбранного уровня значимости (альфа):\n",
    "\n",
    "* Если p-значение <= альфа: значимый результат, отклоните нулевую гипотезу (H0), зависимую.\n",
    "* Если p-значение > альфа: незначимый результат, не удается отклонить нулевую гипотезу (H0), независимую"
   ]
  },
  {
   "cell_type": "code",
   "execution_count": null,
   "id": "ad0f7b79",
   "metadata": {
    "execution": {
     "iopub.execute_input": "2022-09-17T00:13:46.566491Z",
     "iopub.status.busy": "2022-09-17T00:13:46.565488Z",
     "iopub.status.idle": "2022-09-17T00:13:46.573047Z",
     "shell.execute_reply": "2022-09-17T00:13:46.573608Z",
     "shell.execute_reply.started": "2022-06-11T01:42:24.744371Z"
    },
    "id": "ad0f7b79",
    "papermill": {
     "duration": 0.304133,
     "end_time": "2022-09-17T00:13:46.573798",
     "exception": false,
     "start_time": "2022-09-17T00:13:46.269665",
     "status": "completed"
    },
    "tags": []
   },
   "outputs": [],
   "source": [
    "\n",
    "def calculate_chi_square(feature1, feature2='Churn'):\n",
    "    printmd(f\"Корреляция между **{feature1}** and **{feature2}**\")\n",
    "    crosstab = pd.crosstab(df_churn[feature1], df_churn[feature2])\n",
    "    # display(crosstab)\n",
    "    stat, p, dof, expected = stats.chi2_contingency(crosstab,correction=True)\n",
    "\n",
    "\n",
    "    print(f'p-value : {p}, degree of freedom: {dof}')\n",
    "\n",
    "    # interpret test-statistic\n",
    "    prob = 0.95\n",
    "    critical = stats.chi2.ppf(prob, dof)\n",
    "    print('probability=%.3f, critical=%.3f, stat=%.3f' % (prob, critical, stat))\n",
    "\n",
    "    if abs(stat) >= critical:\n",
    "        print('Зависимый (отклонить H0)')\n",
    "    else:\n",
    "        print('Независимый (не удается отклонить H0)')\n",
    "\n",
    "    # interpret p-value\n",
    "    alpha = 1.0 - prob\n",
    "\n",
    "    print('significance=%.3f, p=%.3f' % (alpha, p))\n",
    "    if p <= alpha:\n",
    "        print('Зависимый (отклонить H0)')\n",
    "    else:\n",
    "        print('Независимый (не удается отклонить H0)')\n",
    "    print('-----------------------------------\\n')\n",
    "\n"
   ]
  },
  {
   "cell_type": "markdown",
   "id": "5b3f6f5c",
   "metadata": {
    "id": "5b3f6f5c",
    "papermill": {
     "duration": 0.293882,
     "end_time": "2022-09-17T00:13:47.158711",
     "exception": false,
     "start_time": "2022-09-17T00:13:46.864829",
     "status": "completed"
    },
    "tags": []
   },
   "source": [
    "#### Двухклассовые признаки"
   ]
  },
  {
   "cell_type": "code",
   "execution_count": null,
   "id": "f244264a",
   "metadata": {
    "colab": {
     "base_uri": "https://localhost:8080/",
     "height": 795
    },
    "execution": {
     "iopub.execute_input": "2022-09-17T00:13:47.751240Z",
     "iopub.status.busy": "2022-09-17T00:13:47.750412Z",
     "iopub.status.idle": "2022-09-17T00:13:47.842575Z",
     "shell.execute_reply": "2022-09-17T00:13:47.843165Z",
     "shell.execute_reply.started": "2022-06-11T01:42:24.754630Z"
    },
    "executionInfo": {
     "elapsed": 710,
     "status": "ok",
     "timestamp": 1665975796460,
     "user": {
      "displayName": "Юрий Юров",
      "userId": "14847658770947017811"
     },
     "user_tz": -240
    },
    "id": "f244264a",
    "outputId": "71dc786c-693d-4c10-f21f-b90056f973de",
    "papermill": {
     "duration": 0.390798,
     "end_time": "2022-09-17T00:13:47.843355",
     "exception": false,
     "start_time": "2022-09-17T00:13:47.452557",
     "status": "completed"
    },
    "tags": []
   },
   "outputs": [],
   "source": [
    "printmd(\"**Chi-квадратная корреляция между двухклассовым признаками и целевым: Churn**\")\n",
    "\n",
    "for col in dichotomous_cols:\n",
    "    calculate_chi_square(col)\n"
   ]
  },
  {
   "cell_type": "markdown",
   "id": "fe6790aa",
   "metadata": {
    "id": "fe6790aa",
    "papermill": {
     "duration": 0.295651,
     "end_time": "2022-09-17T00:13:48.442495",
     "exception": false,
     "start_time": "2022-09-17T00:13:48.146844",
     "status": "completed"
    },
    "tags": []
   },
   "source": [
    "\n",
    "**При уровне значимости 5% функции \"PhoneService\" и \"Gender\" не зависят от целевого: Churn**"
   ]
  },
  {
   "cell_type": "markdown",
   "id": "6daec212",
   "metadata": {
    "id": "6daec212",
    "papermill": {
     "duration": 0.299901,
     "end_time": "2022-09-17T00:13:49.044046",
     "exception": false,
     "start_time": "2022-09-17T00:13:48.744145",
     "status": "completed"
    },
    "tags": []
   },
   "source": [
    "### Многоклассовые признаки"
   ]
  },
  {
   "cell_type": "code",
   "execution_count": null,
   "id": "884b1d3c",
   "metadata": {
    "colab": {
     "base_uri": "https://localhost:8080/",
     "height": 1000
    },
    "execution": {
     "iopub.execute_input": "2022-09-17T00:13:49.647605Z",
     "iopub.status.busy": "2022-09-17T00:13:49.646560Z",
     "iopub.status.idle": "2022-09-17T00:13:49.810998Z",
     "shell.execute_reply": "2022-09-17T00:13:49.810357Z",
     "shell.execute_reply.started": "2022-06-11T01:42:24.863808Z"
    },
    "executionInfo": {
     "elapsed": 291,
     "status": "ok",
     "timestamp": 1665975880335,
     "user": {
      "displayName": "Юрий Юров",
      "userId": "14847658770947017811"
     },
     "user_tz": -240
    },
    "id": "884b1d3c",
    "outputId": "96107b77-356a-421f-a89d-f873c258fbd0",
    "papermill": {
     "duration": 0.466912,
     "end_time": "2022-09-17T00:13:49.811155",
     "exception": false,
     "start_time": "2022-09-17T00:13:49.344243",
     "status": "completed"
    },
    "tags": []
   },
   "outputs": [],
   "source": [
    "printmd(\"**Chi-квадратная корреляция между многоклассовыми признаками и целевым: Churn**\")\n",
    "\n",
    "for col in polytomous_cols:\n",
    "    calculate_chi_square(col)"
   ]
  },
  {
   "cell_type": "markdown",
   "id": "de64e5d4",
   "metadata": {
    "id": "de64e5d4",
    "papermill": {
     "duration": 0.304748,
     "end_time": "2022-09-17T00:13:50.424609",
     "exception": false,
     "start_time": "2022-09-17T00:13:50.119861",
     "status": "completed"
    },
    "tags": []
   },
   "source": [
    "**При уровне значимости 5% Все многоклассовые признаки зависят от целевого: Churn**"
   ]
  },
  {
   "cell_type": "markdown",
   "id": "9df3b51a",
   "metadata": {
    "id": "9df3b51a",
    "papermill": {
     "duration": 0.308083,
     "end_time": "2022-09-17T00:13:51.036157",
     "exception": false,
     "start_time": "2022-09-17T00:13:50.728074",
     "status": "completed"
    },
    "tags": []
   },
   "source": [
    "<a id='6.5.2'></a>\n",
    "###  6.5.2 V Крамера\n",
    "---\n",
    "Он основан на номинальной вариации **критерия Chi-квадрат Пирсона**\\\n",
    "Как и корреляция, V Крамера симметричен — он нечувствителен к замене x и y\n",
    "\n",
    "V Крамера используется для изучения связи между **двумя категориальными переменными, когда существует более 2 Х 2 непредвиденных обстоятельств** (например, 2 Х 3).\\\n",
    "В этих более сложных конструкциях **корреляционный тест phi** не подходит, но статистика Крамера подходит. V Крамера представляет собой ассоциацию или корреляцию между двумя переменными. Эта статистика также упоминается как **\"Cramers Phi\"**\n",
    "\n",
    "Ссылки:\n",
    "* https://en.wikipedia.org/wiki/Cramér%27s_V\n",
    "* https://www.codecamp.ru/blog/cramers-v-in-python/"
   ]
  },
  {
   "cell_type": "code",
   "execution_count": null,
   "id": "17705f11",
   "metadata": {
    "execution": {
     "iopub.execute_input": "2022-09-17T00:13:51.659089Z",
     "iopub.status.busy": "2022-09-17T00:13:51.658092Z",
     "iopub.status.idle": "2022-09-17T00:13:51.661420Z",
     "shell.execute_reply": "2022-09-17T00:13:51.660850Z",
     "shell.execute_reply.started": "2022-06-11T01:42:25.041945Z"
    },
    "id": "17705f11",
    "papermill": {
     "duration": 0.316261,
     "end_time": "2022-09-17T00:13:51.661598",
     "exception": false,
     "start_time": "2022-09-17T00:13:51.345337",
     "status": "completed"
    },
    "tags": []
   },
   "outputs": [],
   "source": [
    "def cramers_v(x, y):\n",
    "    confusion_matrix = pd.crosstab(x,y)\n",
    "    chi2 = stats.chi2_contingency(confusion_matrix)[0]\n",
    "    n = confusion_matrix.sum().sum()\n",
    "    phi2 = chi2/n\n",
    "    r,k = confusion_matrix.shape\n",
    "    phi2corr = max(0, phi2-((k-1)*(r-1))/(n-1))\n",
    "    rcorr = r-((r-1)**2)/(n-1)\n",
    "    kcorr = k-((k-1)**2)/(n-1)\n",
    "    return np.sqrt(phi2corr/min((kcorr-1),(rcorr-1)))"
   ]
  },
  {
   "cell_type": "code",
   "execution_count": null,
   "id": "5b31c984",
   "metadata": {
    "colab": {
     "base_uri": "https://localhost:8080/",
     "height": 267
    },
    "execution": {
     "iopub.execute_input": "2022-09-17T00:13:52.287921Z",
     "iopub.status.busy": "2022-09-17T00:13:52.287159Z",
     "iopub.status.idle": "2022-09-17T00:13:52.410922Z",
     "shell.execute_reply": "2022-09-17T00:13:52.411476Z",
     "shell.execute_reply.started": "2022-06-11T01:42:25.053483Z"
    },
    "executionInfo": {
     "elapsed": 5,
     "status": "ok",
     "timestamp": 1665975964093,
     "user": {
      "displayName": "Юрий Юров",
      "userId": "14847658770947017811"
     },
     "user_tz": -240
    },
    "id": "5b31c984",
    "outputId": "1beb8434-399f-4b38-97d4-5a174b5dc862",
    "papermill": {
     "duration": 0.44244,
     "end_time": "2022-09-17T00:13:52.411664",
     "exception": false,
     "start_time": "2022-09-17T00:13:51.969224",
     "status": "completed"
    },
    "tags": []
   },
   "outputs": [],
   "source": [
    "printmd(\"**Корреляция между многоклассовыми признаками и целевыи: Churn**\")\n",
    "cramer_v_val_dict = {}\n",
    "for col in polytomous_cols:\n",
    "    cramer_v_val_dict[col] = cramers_v(df_churn[col], df_churn['Churn'])\n",
    "\n",
    "cramer_v_val_dict_sorted = sorted(cramer_v_val_dict.items(), key=lambda x:x[1], reverse=True)\n",
    "\n",
    "for k,v in cramer_v_val_dict_sorted:\n",
    "    print(k.ljust(left_padding), v)\n",
    "\n",
    "printmd(\"<br>**Contract, OnlineSecurity, TechSupport, InternetService умеренно коррелируют с Churn**<br>\")            "
   ]
  },
  {
   "cell_type": "code",
   "execution_count": null,
   "id": "17e2c75a",
   "metadata": {
    "colab": {
     "base_uri": "https://localhost:8080/",
     "height": 134
    },
    "execution": {
     "iopub.execute_input": "2022-09-17T00:13:53.049059Z",
     "iopub.status.busy": "2022-09-17T00:13:53.047821Z",
     "iopub.status.idle": "2022-09-17T00:13:53.444754Z",
     "shell.execute_reply": "2022-09-17T00:13:53.444101Z",
     "shell.execute_reply.started": "2022-06-11T01:42:25.206849Z"
    },
    "executionInfo": {
     "elapsed": 1040,
     "status": "ok",
     "timestamp": 1665975986131,
     "user": {
      "displayName": "Юрий Юров",
      "userId": "14847658770947017811"
     },
     "user_tz": -240
    },
    "id": "17e2c75a",
    "outputId": "1d51177b-e070-495d-b78d-a68afa0dcd43",
    "papermill": {
     "duration": 0.723997,
     "end_time": "2022-09-17T00:13:53.444921",
     "exception": false,
     "start_time": "2022-09-17T00:13:52.720924",
     "status": "completed"
    },
    "tags": []
   },
   "outputs": [],
   "source": [
    "printmd(\"**Тепловая карта Крамера V на многоклассовых признаках и целевом: Churn**\")\n",
    "cramers_v_val = pd.DataFrame(index=['Churn'], columns=polytomous_cols)\n",
    "\n",
    "for j in range(0,len(polytomous_cols)):\n",
    "    u = cramers_v(df_churn['Churn'], df_churn[polytomous_cols[j]])\n",
    "    cramers_v_val.loc[:,polytomous_cols[j]] = u\n",
    "\n",
    "cramers_v_val.fillna(value=np.nan,inplace=True)\n",
    "plt.figure(figsize=(20,1))\n",
    "sns.heatmap(cramers_v_val,annot=True,fmt='.3f', cmap=\"YlGnBu\")\n",
    "plt.show()"
   ]
  },
  {
   "cell_type": "markdown",
   "id": "5c0a5263",
   "metadata": {
    "id": "5c0a5263",
    "papermill": {
     "duration": 0.36497,
     "end_time": "2022-09-17T00:13:54.121037",
     "exception": false,
     "start_time": "2022-09-17T00:13:53.756067",
     "status": "completed"
    },
    "tags": []
   },
   "source": [
    "#### Using Scipy Module"
   ]
  },
  {
   "cell_type": "code",
   "execution_count": null,
   "id": "343aca00",
   "metadata": {
    "colab": {
     "base_uri": "https://localhost:8080/",
     "height": 204
    },
    "execution": {
     "iopub.execute_input": "2022-09-17T00:13:54.743364Z",
     "iopub.status.busy": "2022-09-17T00:13:54.742311Z",
     "iopub.status.idle": "2022-09-17T00:13:54.766400Z",
     "shell.execute_reply": "2022-09-17T00:13:54.765851Z",
     "shell.execute_reply.started": "2022-06-11T01:42:25.689662Z"
    },
    "executionInfo": {
     "elapsed": 5,
     "status": "ok",
     "timestamp": 1665960650834,
     "user": {
      "displayName": "Юрий Юров",
      "userId": "14847658770947017811"
     },
     "user_tz": -240
    },
    "id": "343aca00",
    "outputId": "a1cabf10-9405-4d02-b8b2-b649b818b790",
    "papermill": {
     "duration": 0.335943,
     "end_time": "2022-09-17T00:13:54.766592",
     "exception": false,
     "start_time": "2022-09-17T00:13:54.430649",
     "status": "completed"
    },
    "tags": []
   },
   "outputs": [],
   "source": [
    "crosstab = pd.crosstab(df_churn['OnlineSecurity'], df_churn['Churn'])\n",
    "display(crosstab)\n",
    "printmd(f\"Связь между OnlineSecurity и целевым:Churn **{stats.contingency.association(crosstab, method='cramer')}**\")"
   ]
  },
  {
   "cell_type": "markdown",
   "id": "c67b2136",
   "metadata": {
    "id": "c67b2136",
    "papermill": {
     "duration": 0.312922,
     "end_time": "2022-09-17T00:13:55.391752",
     "exception": false,
     "start_time": "2022-09-17T00:13:55.078830",
     "status": "completed"
    },
    "tags": []
   },
   "source": [
    "<a id='6.5.3'></a>\n",
    "### 6.5.3 Коэффициент неопределенности\n",
    "---\n",
    "\n",
    "\n",
    "Так же **U Тейла** - **асимметричная** мера ассоциации между категориальными признаками\n",
    "\n",
    "Основано на условной энтропии между x и y — или на человеческом языке, учитывая значение x, сколько возможных состояний имеет y и как часто они происходят.\n",
    "\n",
    "Формально помечено как U(x|y); Так же, как и V Крамера, выходное значение находится в диапазоне [0,1], где 0 означает, что функция y не предоставляет никакой информации о функции x, а 1 означает, что функция y предоставляет полную информацию о значении функции x\n",
    "\n",
    "**В отличие от V Крамера, он асимметричен**\n",
    "\n",
    "Таким образом, мы не потеряем никакой ценной информации в отличие от симметричных тестов\n",
    "\n",
    "Ссылки:\n",
    "* https://en.wikipedia.org/wiki/Uncertainty_coefficient\n",
    "* https://habr.com/ru/post/454352/"
   ]
  },
  {
   "cell_type": "code",
   "execution_count": null,
   "id": "8775341c",
   "metadata": {
    "_kg_hide-input": true,
    "execution": {
     "iopub.execute_input": "2022-09-17T00:13:56.021808Z",
     "iopub.status.busy": "2022-09-17T00:13:56.021026Z",
     "iopub.status.idle": "2022-09-17T00:13:56.023078Z",
     "shell.execute_reply": "2022-09-17T00:13:56.023606Z",
     "shell.execute_reply.started": "2022-06-11T01:42:25.720816Z"
    },
    "id": "8775341c",
    "papermill": {
     "duration": 0.324194,
     "end_time": "2022-09-17T00:13:56.023794",
     "exception": false,
     "start_time": "2022-09-17T00:13:55.699600",
     "status": "completed"
    },
    "tags": []
   },
   "outputs": [],
   "source": [
    "def conditional_entropy(x,y):\n",
    "  # entropy of x given y\n",
    "    y_counter = Counter(y)\n",
    "    xy_counter = Counter(list(zip(x,y)))\n",
    "    total_occurrences = sum(y_counter.values())\n",
    "    entropy = 0\n",
    "    for xy in xy_counter.keys():\n",
    "        p_xy = xy_counter[xy] / total_occurrences\n",
    "        p_y = y_counter[xy[1]] / total_occurrences\n",
    "        entropy += p_xy * math.log(p_y/p_xy)\n",
    "    return entropy\n",
    "\n",
    "def theil_u(x,y):\n",
    "    s_xy = conditional_entropy(x,y)\n",
    "    x_counter = Counter(x)\n",
    "    total_occurrences = sum(x_counter.values())\n",
    "    p_x = list(map(lambda n: n/total_occurrences, x_counter.values()))\n",
    "    s_x = stats.entropy(p_x)\n",
    "    if s_x == 0:\n",
    "        return 1\n",
    "    else:\n",
    "        return (s_x - s_xy) / s_x"
   ]
  },
  {
   "cell_type": "code",
   "execution_count": null,
   "id": "2c663849",
   "metadata": {
    "colab": {
     "base_uri": "https://localhost:8080/",
     "height": 240
    },
    "execution": {
     "iopub.execute_input": "2022-09-17T00:13:56.741254Z",
     "iopub.status.busy": "2022-09-17T00:13:56.647659Z",
     "iopub.status.idle": "2022-09-17T00:13:57.202636Z",
     "shell.execute_reply": "2022-09-17T00:13:57.203618Z",
     "shell.execute_reply.started": "2022-06-11T01:42:25.731588Z"
    },
    "executionInfo": {
     "elapsed": 433,
     "status": "ok",
     "timestamp": 1665976086694,
     "user": {
      "displayName": "Юрий Юров",
      "userId": "14847658770947017811"
     },
     "user_tz": -240
    },
    "id": "2c663849",
    "outputId": "5c0bc1a3-5761-4d08-9898-a335d9e6a2ce",
    "papermill": {
     "duration": 0.866725,
     "end_time": "2022-09-17T00:13:57.203891",
     "exception": false,
     "start_time": "2022-09-17T00:13:56.337166",
     "status": "completed"
    },
    "tags": []
   },
   "outputs": [],
   "source": [
    "theilu = pd.DataFrame(index=['Churn'], columns=cat_cols)\n",
    "\n",
    "for j in range(0,len(cat_cols)):\n",
    "    u = theil_u(df_churn['Churn'].tolist(),df_churn[cat_cols[j]].tolist())\n",
    "    theilu.loc[:,cat_cols[j]] = u\n",
    "\n",
    "theilu.fillna(value=np.nan,inplace=True)\n",
    "plt.figure(figsize=(20,1))\n",
    "sns.heatmap(theilu,annot=True,fmt='.2f')\n",
    "plt.show()\n",
    "\n",
    "printmd(\"**Contract, OnlineSecurity, TechSupport, tenure-binned умеренно коррелируют с Churn**\")            "
   ]
  },
  {
   "cell_type": "markdown",
   "id": "ccbc0d39",
   "metadata": {
    "id": "ccbc0d39",
    "papermill": {
     "duration": 0.317445,
     "end_time": "2022-09-17T00:13:57.844199",
     "exception": false,
     "start_time": "2022-09-17T00:13:57.526754",
     "status": "completed"
    },
    "tags": []
   },
   "source": [
    "<a id='6.6'></a>\n",
    "## 6.6 Коллинеарность\n",
    "\n",
    "Для категориальных переменных мультиколлинеарность может быть обнаружена с помощью **коэффициента ранговой корреляции Спирмена** (порядковые переменные) и **критерия chi-квадрат** (номинальные переменные)\n",
    "\n",
    "ρ Спирмена уже был выполнен в предыдущем разделе, который может быть использован в качестве меры коллинеарности\n",
    "\n",
    "Вот почему давайте просто перейдем к **chi-квадрат**"
   ]
  },
  {
   "cell_type": "markdown",
   "id": "2716deca",
   "metadata": {
    "id": "2716deca",
    "papermill": {
     "duration": 0.310464,
     "end_time": "2022-09-17T00:13:58.467988",
     "exception": false,
     "start_time": "2022-09-17T00:13:58.157524",
     "status": "completed"
    },
    "tags": []
   },
   "source": [
    "<a id='6.6.1'></a>\n",
    "### 6.6.1 Chi-Square"
   ]
  },
  {
   "cell_type": "code",
   "execution_count": null,
   "id": "7644d3d4",
   "metadata": {
    "colab": {
     "base_uri": "https://localhost:8080/",
     "height": 168
    },
    "execution": {
     "iopub.execute_input": "2022-09-17T00:13:59.093081Z",
     "iopub.status.busy": "2022-09-17T00:13:59.092333Z",
     "iopub.status.idle": "2022-09-17T00:13:59.111821Z",
     "shell.execute_reply": "2022-09-17T00:13:59.112373Z",
     "shell.execute_reply.started": "2022-06-11T01:42:26.299958Z"
    },
    "executionInfo": {
     "elapsed": 301,
     "status": "ok",
     "timestamp": 1665976135469,
     "user": {
      "displayName": "Юрий Юров",
      "userId": "14847658770947017811"
     },
     "user_tz": -240
    },
    "id": "7644d3d4",
    "outputId": "82d89349-9614-43fa-f703-a70b472080e5",
    "papermill": {
     "duration": 0.331866,
     "end_time": "2022-09-17T00:13:59.112579",
     "exception": false,
     "start_time": "2022-09-17T00:13:58.780713",
     "status": "completed"
    },
    "tags": []
   },
   "outputs": [],
   "source": [
    "calculate_chi_square('PaymentMethod','MultipleLines')"
   ]
  },
  {
   "cell_type": "code",
   "execution_count": null,
   "id": "1a56823f",
   "metadata": {
    "colab": {
     "base_uri": "https://localhost:8080/",
     "height": 168
    },
    "execution": {
     "iopub.execute_input": "2022-09-17T00:13:59.743740Z",
     "iopub.status.busy": "2022-09-17T00:13:59.742967Z",
     "iopub.status.idle": "2022-09-17T00:13:59.763022Z",
     "shell.execute_reply": "2022-09-17T00:13:59.763729Z",
     "shell.execute_reply.started": "2022-06-11T01:42:26.324129Z"
    },
    "executionInfo": {
     "elapsed": 305,
     "status": "ok",
     "timestamp": 1665976143115,
     "user": {
      "displayName": "Юрий Юров",
      "userId": "14847658770947017811"
     },
     "user_tz": -240
    },
    "id": "1a56823f",
    "outputId": "bc41db34-8937-4583-e09e-866caca3a367",
    "papermill": {
     "duration": 0.337747,
     "end_time": "2022-09-17T00:13:59.763978",
     "exception": false,
     "start_time": "2022-09-17T00:13:59.426231",
     "status": "completed"
    },
    "tags": []
   },
   "outputs": [],
   "source": [
    "calculate_chi_square('PaymentMethod','PhoneService')"
   ]
  },
  {
   "cell_type": "code",
   "execution_count": null,
   "id": "511662a3",
   "metadata": {
    "colab": {
     "base_uri": "https://localhost:8080/",
     "height": 168
    },
    "execution": {
     "iopub.execute_input": "2022-09-17T00:14:00.402454Z",
     "iopub.status.busy": "2022-09-17T00:14:00.401683Z",
     "iopub.status.idle": "2022-09-17T00:14:00.420871Z",
     "shell.execute_reply": "2022-09-17T00:14:00.420214Z",
     "shell.execute_reply.started": "2022-06-11T01:42:26.348414Z"
    },
    "executionInfo": {
     "elapsed": 443,
     "status": "ok",
     "timestamp": 1665976146842,
     "user": {
      "displayName": "Юрий Юров",
      "userId": "14847658770947017811"
     },
     "user_tz": -240
    },
    "id": "511662a3",
    "outputId": "0d066f0f-1de8-43a3-dd8d-6b0d23ea68c2",
    "papermill": {
     "duration": 0.338082,
     "end_time": "2022-09-17T00:14:00.421031",
     "exception": false,
     "start_time": "2022-09-17T00:14:00.082949",
     "status": "completed"
    },
    "tags": []
   },
   "outputs": [],
   "source": [
    "calculate_chi_square('PaymentMethod','Contract')"
   ]
  },
  {
   "cell_type": "markdown",
   "id": "d94cbb17",
   "metadata": {
    "id": "d94cbb17",
    "papermill": {
     "duration": 0.316642,
     "end_time": "2022-09-17T00:14:01.051582",
     "exception": false,
     "start_time": "2022-09-17T00:14:00.734940",
     "status": "completed"
    },
    "tags": []
   },
   "source": [
    "<a id='6.7'></a>\n",
    "## 6.7 Visualization"
   ]
  },
  {
   "cell_type": "markdown",
   "id": "310ea60b",
   "metadata": {
    "id": "310ea60b",
    "papermill": {
     "duration": 0.315377,
     "end_time": "2022-09-17T00:14:01.682564",
     "exception": false,
     "start_time": "2022-09-17T00:14:01.367187",
     "status": "completed"
    },
    "tags": []
   },
   "source": [
    "### Tenure and MonthlyCharges Distribution"
   ]
  },
  {
   "cell_type": "code",
   "execution_count": null,
   "id": "e3211939",
   "metadata": {
    "_kg_hide-input": true,
    "colab": {
     "base_uri": "https://localhost:8080/",
     "height": 580
    },
    "execution": {
     "iopub.execute_input": "2022-09-17T00:14:02.318803Z",
     "iopub.status.busy": "2022-09-17T00:14:02.318057Z",
     "iopub.status.idle": "2022-09-17T00:14:02.761676Z",
     "shell.execute_reply": "2022-09-17T00:14:02.762229Z",
     "shell.execute_reply.started": "2022-06-11T01:42:26.374249Z"
    },
    "executionInfo": {
     "elapsed": 1006,
     "status": "ok",
     "timestamp": 1665976225023,
     "user": {
      "displayName": "Юрий Юров",
      "userId": "14847658770947017811"
     },
     "user_tz": -240
    },
    "id": "e3211939",
    "outputId": "a20a234f-924c-4cbb-c4fd-1639d72ff7cb",
    "papermill": {
     "duration": 0.764254,
     "end_time": "2022-09-17T00:14:02.762418",
     "exception": false,
     "start_time": "2022-09-17T00:14:01.998164",
     "status": "completed"
    },
    "tags": []
   },
   "outputs": [],
   "source": [
    "plt.figure(figsize=(10,6),dpi=100)\n",
    "sns.kdeplot(df_churn.tenure, color='b', shade=True, Label='Tenure')\n",
    "sns.kdeplot(df_churn.MonthlyCharges, color='r', shade=True, Label='Monthly Charges')\n",
    "  \n",
    "plt.xlabel('Tenure против Monthly Charges')\n",
    "plt.ylabel('Плотность вероятности')\n",
    "plt.legend()\n",
    "plt.show()\n",
    "\n",
    "printmd(\"\"\"**Оба нормально не распределяются, перекошены, Tenure имеет\n",
    "Bi-модальное распределение <br>Большинство клиентов оставались клиентами менее чем на 20 месяцев,\n",
    "Monthly Charges для большинства людей составляет почти 20 единиц**\"\"\")"
   ]
  },
  {
   "cell_type": "code",
   "execution_count": null,
   "id": "18445416",
   "metadata": {
    "_kg_hide-input": true,
    "colab": {
     "base_uri": "https://localhost:8080/",
     "height": 571
    },
    "execution": {
     "iopub.execute_input": "2022-09-17T00:14:03.403999Z",
     "iopub.status.busy": "2022-09-17T00:14:03.403263Z",
     "iopub.status.idle": "2022-09-17T00:14:03.517253Z",
     "shell.execute_reply": "2022-09-17T00:14:03.516694Z",
     "shell.execute_reply.started": "2022-06-11T01:42:26.828531Z"
    },
    "executionInfo": {
     "elapsed": 333,
     "status": "ok",
     "timestamp": 1665976274787,
     "user": {
      "displayName": "Юрий Юров",
      "userId": "14847658770947017811"
     },
     "user_tz": -240
    },
    "id": "18445416",
    "outputId": "6a3cd353-080a-413c-ed1d-429cda0383d3",
    "papermill": {
     "duration": 0.43323,
     "end_time": "2022-09-17T00:14:03.517403",
     "exception": false,
     "start_time": "2022-09-17T00:14:03.084173",
     "status": "completed"
    },
    "tags": []
   },
   "outputs": [],
   "source": [
    "df_g = df_churn.groupby(['StreamingTV', 'Churn']).size().reset_index()\n",
    "df_g['percentage'] = df_churn.groupby(['StreamingTV', 'Churn']).size().groupby(level=0).apply(lambda x: 100 * x / float(x.sum())).values\n",
    "df_g.columns = ['StreamingTV', 'Churn', 'Counts', 'Percentage']\n",
    "\n",
    "fig = px.bar(df_g, x='StreamingTV', y='Counts', \n",
    "       color='Churn',\n",
    "       color_discrete_map={\n",
    "        'Yes': '#99D594',\n",
    "        'No': '#FC8D59',\n",
    "    }, \n",
    "    text=df_g['Percentage'].apply(lambda x: '{0:1.2f}%'.format(x)))\n",
    "fig.show(renderer=\"colab\")\n",
    "printmd(\"**Аналогичное соотношение между наличием потокового телевиденья и отсутствием среди Churn клиентов**\")"
   ]
  },
  {
   "cell_type": "markdown",
   "id": "e52dae80",
   "metadata": {
    "id": "e52dae80",
    "papermill": {
     "duration": 0.343276,
     "end_time": "2022-09-17T00:14:04.239877",
     "exception": false,
     "start_time": "2022-09-17T00:14:03.896601",
     "status": "completed"
    },
    "tags": []
   },
   "source": [
    "### Contract and Churn"
   ]
  },
  {
   "cell_type": "code",
   "execution_count": null,
   "id": "f1758a23",
   "metadata": {
    "_kg_hide-input": true,
    "colab": {
     "base_uri": "https://localhost:8080/",
     "height": 531
    },
    "execution": {
     "iopub.execute_input": "2022-09-17T00:14:04.896212Z",
     "iopub.status.busy": "2022-09-17T00:14:04.895201Z",
     "iopub.status.idle": "2022-09-17T00:14:05.171450Z",
     "shell.execute_reply": "2022-09-17T00:14:05.172023Z",
     "shell.execute_reply.started": "2022-06-11T01:42:26.956970Z"
    },
    "executionInfo": {
     "elapsed": 800,
     "status": "ok",
     "timestamp": 1665976386086,
     "user": {
      "displayName": "Юрий Юров",
      "userId": "14847658770947017811"
     },
     "user_tz": -240
    },
    "id": "f1758a23",
    "outputId": "2dbce85d-4f1d-41fa-9c10-1cbfcaf1b759",
    "papermill": {
     "duration": 0.609658,
     "end_time": "2022-09-17T00:14:05.172251",
     "exception": false,
     "start_time": "2022-09-17T00:14:04.562593",
     "status": "completed"
    },
    "tags": []
   },
   "outputs": [],
   "source": [
    "sns.set(rc={'figure.figsize':(15,8)})\n",
    "ax=sns.countplot(x='Contract',hue='Churn',data=df_churn)\n",
    "for p in ax.patches:\n",
    "    patch_height = p.get_height()\n",
    "    if np.isnan(patch_height):\n",
    "        patch_height = 0\n",
    "    ax.annotate('{}'.format(int(patch_height)), (p.get_x()+0.05, patch_height+10))\n",
    "plt.show()\n",
    "\n",
    "printmd(\"**Большинство ушедших клиентов имеют ежемесячный контракт**\")"
   ]
  },
  {
   "cell_type": "markdown",
   "id": "676703b7",
   "metadata": {
    "id": "676703b7",
    "papermill": {
     "duration": 0.323463,
     "end_time": "2022-09-17T00:14:05.820536",
     "exception": false,
     "start_time": "2022-09-17T00:14:05.497073",
     "status": "completed"
    },
    "tags": []
   },
   "source": [
    "### OnlineSecurity and Churn"
   ]
  },
  {
   "cell_type": "code",
   "execution_count": null,
   "id": "e04e23b4",
   "metadata": {
    "_kg_hide-input": true,
    "colab": {
     "base_uri": "https://localhost:8080/",
     "height": 531
    },
    "execution": {
     "iopub.execute_input": "2022-09-17T00:14:06.484206Z",
     "iopub.status.busy": "2022-09-17T00:14:06.481552Z",
     "iopub.status.idle": "2022-09-17T00:14:06.770350Z",
     "shell.execute_reply": "2022-09-17T00:14:06.770912Z",
     "shell.execute_reply.started": "2022-06-11T01:42:27.263435Z"
    },
    "executionInfo": {
     "elapsed": 805,
     "status": "ok",
     "timestamp": 1665976419425,
     "user": {
      "displayName": "Юрий Юров",
      "userId": "14847658770947017811"
     },
     "user_tz": -240
    },
    "id": "e04e23b4",
    "outputId": "27f1cd53-ebf3-47f3-de3e-4b40e6ac7aaf",
    "papermill": {
     "duration": 0.624499,
     "end_time": "2022-09-17T00:14:06.771116",
     "exception": false,
     "start_time": "2022-09-17T00:14:06.146617",
     "status": "completed"
    },
    "tags": []
   },
   "outputs": [],
   "source": [
    "sns.set(rc={'figure.figsize':(15,8)})\n",
    "ax=sns.countplot(x='OnlineSecurity',hue='Churn',data=df_churn)\n",
    "for p in ax.patches:\n",
    "    patch_height = p.get_height()\n",
    "    if np.isnan(patch_height):\n",
    "        patch_height = 0\n",
    "    ax.annotate('{}'.format(int(patch_height)), (p.get_x()+0.05, patch_height+10))\n",
    "plt.show()\n",
    "\n",
    "printmd(\"**У большинства ушедших клиентов не было онлайн-безопасности**\")"
   ]
  },
  {
   "cell_type": "markdown",
   "id": "1a20ca8a",
   "metadata": {
    "id": "1a20ca8a",
    "papermill": {
     "duration": 0.327549,
     "end_time": "2022-09-17T00:14:07.425602",
     "exception": false,
     "start_time": "2022-09-17T00:14:07.098053",
     "status": "completed"
    },
    "tags": []
   },
   "source": [
    "### Partner and Churn"
   ]
  },
  {
   "cell_type": "code",
   "execution_count": null,
   "id": "c5dcc96c",
   "metadata": {
    "_kg_hide-input": true,
    "colab": {
     "base_uri": "https://localhost:8080/",
     "height": 394
    },
    "execution": {
     "iopub.execute_input": "2022-09-17T00:14:08.083033Z",
     "iopub.status.busy": "2022-09-17T00:14:08.081959Z",
     "iopub.status.idle": "2022-09-17T00:14:08.496797Z",
     "shell.execute_reply": "2022-09-17T00:14:08.497262Z",
     "shell.execute_reply.started": "2022-06-11T01:42:27.583754Z"
    },
    "executionInfo": {
     "elapsed": 747,
     "status": "ok",
     "timestamp": 1665976437207,
     "user": {
      "displayName": "Юрий Юров",
      "userId": "14847658770947017811"
     },
     "user_tz": -240
    },
    "id": "c5dcc96c",
    "outputId": "23d20eab-dcf6-4d48-a138-aab67780d2ef",
    "papermill": {
     "duration": 0.745485,
     "end_time": "2022-09-17T00:14:08.497464",
     "exception": false,
     "start_time": "2022-09-17T00:14:07.751979",
     "status": "completed"
    },
    "tags": []
   },
   "outputs": [],
   "source": [
    "sns.catplot(x='Partner',hue='Churn',data=df_churn, kind=\"count\");\n",
    "\n",
    "printmd(\"**У большинства ушедших клиентов, нет партнера, в отличие от клиентов, у которых есть**\")"
   ]
  },
  {
   "cell_type": "markdown",
   "id": "d9d698d3",
   "metadata": {
    "id": "d9d698d3",
    "papermill": {
     "duration": 0.33133,
     "end_time": "2022-09-17T00:14:09.155910",
     "exception": false,
     "start_time": "2022-09-17T00:14:08.824580",
     "status": "completed"
    },
    "tags": []
   },
   "source": [
    "### Gender, TotalCharges and Churn"
   ]
  },
  {
   "cell_type": "code",
   "execution_count": null,
   "id": "0312b3f4",
   "metadata": {
    "_kg_hide-input": true,
    "colab": {
     "base_uri": "https://localhost:8080/",
     "height": 394
    },
    "execution": {
     "iopub.execute_input": "2022-09-17T00:14:09.818479Z",
     "iopub.status.busy": "2022-09-17T00:14:09.817308Z",
     "iopub.status.idle": "2022-09-17T00:14:10.447876Z",
     "shell.execute_reply": "2022-09-17T00:14:10.447270Z",
     "shell.execute_reply.started": "2022-06-11T01:42:28.059453Z"
    },
    "executionInfo": {
     "elapsed": 770,
     "status": "ok",
     "timestamp": 1665976501158,
     "user": {
      "displayName": "Юрий Юров",
      "userId": "14847658770947017811"
     },
     "user_tz": -240
    },
    "id": "0312b3f4",
    "outputId": "a52c1fe4-5b2f-46d3-8228-1f02d68cc30d",
    "papermill": {
     "duration": 0.96095,
     "end_time": "2022-09-17T00:14:10.448042",
     "exception": false,
     "start_time": "2022-09-17T00:14:09.487092",
     "status": "completed"
    },
    "tags": []
   },
   "outputs": [],
   "source": [
    "sns.catplot(x='Churn',y='TotalCharges', col = 'gender', data=df_churn,\n",
    "                kind='bar', aspect=.6, palette='Set2')\n",
    "\n",
    "printmd(\"**Пол не коррелирует с уровнем Churn**\")"
   ]
  },
  {
   "cell_type": "markdown",
   "id": "f97c20fc",
   "metadata": {
    "id": "f97c20fc",
    "papermill": {
     "duration": 0.327982,
     "end_time": "2022-09-17T00:14:11.103780",
     "exception": false,
     "start_time": "2022-09-17T00:14:10.775798",
     "status": "completed"
    },
    "tags": []
   },
   "source": [
    "### Checking Outliers"
   ]
  },
  {
   "cell_type": "code",
   "execution_count": null,
   "id": "47149777",
   "metadata": {
    "_kg_hide-input": true,
    "colab": {
     "base_uri": "https://localhost:8080/",
     "height": 542
    },
    "execution": {
     "iopub.execute_input": "2022-09-17T00:14:11.772349Z",
     "iopub.status.busy": "2022-09-17T00:14:11.771628Z",
     "iopub.status.idle": "2022-09-17T00:14:12.090177Z",
     "shell.execute_reply": "2022-09-17T00:14:12.090858Z",
     "shell.execute_reply.started": "2022-06-11T01:42:28.811977Z"
    },
    "executionInfo": {
     "elapsed": 10,
     "status": "ok",
     "timestamp": 1665961287679,
     "user": {
      "displayName": "Юрий Юров",
      "userId": "14847658770947017811"
     },
     "user_tz": -240
    },
    "id": "47149777",
    "outputId": "91ab2198-8b72-4cfa-fabd-719bd12a6623",
    "papermill": {
     "duration": 0.65779,
     "end_time": "2022-09-17T00:14:12.091060",
     "exception": false,
     "start_time": "2022-09-17T00:14:11.433270",
     "status": "completed"
    },
    "tags": []
   },
   "outputs": [],
   "source": [
    "fig = px.box(df_churn, x=\"Churn\", y=\"MonthlyCharges\")\n",
    "fig.show(renderer=\"colab\")"
   ]
  },
  {
   "cell_type": "code",
   "execution_count": null,
   "id": "29c96dd1",
   "metadata": {
    "_kg_hide-input": true,
    "colab": {
     "base_uri": "https://localhost:8080/",
     "height": 542
    },
    "execution": {
     "iopub.execute_input": "2022-09-17T00:14:12.839207Z",
     "iopub.status.busy": "2022-09-17T00:14:12.838487Z",
     "iopub.status.idle": "2022-09-17T00:14:12.962659Z",
     "shell.execute_reply": "2022-09-17T00:14:12.963315Z",
     "shell.execute_reply.started": "2022-06-11T01:42:29.166616Z"
    },
    "executionInfo": {
     "elapsed": 9,
     "status": "ok",
     "timestamp": 1665961297780,
     "user": {
      "displayName": "Юрий Юров",
      "userId": "14847658770947017811"
     },
     "user_tz": -240
    },
    "id": "29c96dd1",
    "outputId": "e7609ba1-99bb-4233-b100-94660fb8f501",
    "papermill": {
     "duration": 0.498412,
     "end_time": "2022-09-17T00:14:12.963525",
     "exception": false,
     "start_time": "2022-09-17T00:14:12.465113",
     "status": "completed"
    },
    "tags": []
   },
   "outputs": [],
   "source": [
    "fig = px.box(df_churn, x=\"Churn\", y=\"TotalCharges\")\n",
    "fig.show(renderer=\"colab\")"
   ]
  },
  {
   "cell_type": "code",
   "execution_count": null,
   "id": "b4d32039",
   "metadata": {
    "_kg_hide-input": true,
    "colab": {
     "base_uri": "https://localhost:8080/",
     "height": 542
    },
    "execution": {
     "iopub.execute_input": "2022-09-17T00:14:13.807265Z",
     "iopub.status.busy": "2022-09-17T00:14:13.806260Z",
     "iopub.status.idle": "2022-09-17T00:14:13.926531Z",
     "shell.execute_reply": "2022-09-17T00:14:13.927187Z",
     "shell.execute_reply.started": "2022-06-11T01:42:29.313424Z"
    },
    "executionInfo": {
     "elapsed": 317,
     "status": "ok",
     "timestamp": 1665961305056,
     "user": {
      "displayName": "Юрий Юров",
      "userId": "14847658770947017811"
     },
     "user_tz": -240
    },
    "id": "b4d32039",
    "outputId": "dbea2789-08a1-425e-aebe-73a128137b22",
    "papermill": {
     "duration": 0.543189,
     "end_time": "2022-09-17T00:14:13.927378",
     "exception": false,
     "start_time": "2022-09-17T00:14:13.384189",
     "status": "completed"
    },
    "tags": []
   },
   "outputs": [],
   "source": [
    "fig = px.box(df_churn, x=\"Churn\", y=\"tenure\")\n",
    "fig.show(renderer=\"colab\")"
   ]
  },
  {
   "cell_type": "code",
   "execution_count": null,
   "id": "058b9aaa",
   "metadata": {
    "_kg_hide-input": true,
    "colab": {
     "base_uri": "https://localhost:8080/",
     "height": 531
    },
    "execution": {
     "iopub.execute_input": "2022-09-17T00:14:14.826656Z",
     "iopub.status.busy": "2022-09-17T00:14:14.825564Z",
     "iopub.status.idle": "2022-09-17T00:14:15.129053Z",
     "shell.execute_reply": "2022-09-17T00:14:15.129585Z",
     "shell.execute_reply.started": "2022-06-11T01:42:29.453985Z"
    },
    "executionInfo": {
     "elapsed": 331,
     "status": "ok",
     "timestamp": 1665976567757,
     "user": {
      "displayName": "Юрий Юров",
      "userId": "14847658770947017811"
     },
     "user_tz": -240
    },
    "id": "058b9aaa",
    "outputId": "fb7c6882-8929-4ca1-e294-49a21c56c20f",
    "papermill": {
     "duration": 0.754407,
     "end_time": "2022-09-17T00:14:15.129778",
     "exception": false,
     "start_time": "2022-09-17T00:14:14.375371",
     "status": "completed"
    },
    "tags": []
   },
   "outputs": [],
   "source": [
    "plt.figure(figsize=(15,8))\n",
    "ax = sns.boxplot(x=\"PaymentMethod\", y=\"TotalCharges\", data=df_churn)\n",
    "plt.show()\n",
    "\n",
    "printmd(\"**Total Charges для многих клиентов находятся на низком уровне при способе оплаты чеком по почте**\")"
   ]
  },
  {
   "cell_type": "code",
   "execution_count": null,
   "id": "18ae6ab3",
   "metadata": {
    "_kg_hide-input": true,
    "colab": {
     "base_uri": "https://localhost:8080/",
     "height": 502
    },
    "execution": {
     "iopub.execute_input": "2022-09-17T00:14:16.080650Z",
     "iopub.status.busy": "2022-09-17T00:14:16.079589Z",
     "iopub.status.idle": "2022-09-17T00:14:16.350359Z",
     "shell.execute_reply": "2022-09-17T00:14:16.351037Z",
     "shell.execute_reply.started": "2022-06-11T01:42:29.750023Z"
    },
    "executionInfo": {
     "elapsed": 766,
     "status": "ok",
     "timestamp": 1665961380731,
     "user": {
      "displayName": "Юрий Юров",
      "userId": "14847658770947017811"
     },
     "user_tz": -240
    },
    "id": "18ae6ab3",
    "outputId": "f829b96e-d4c6-42ec-c9e0-94be979e715b",
    "papermill": {
     "duration": 0.723919,
     "end_time": "2022-09-17T00:14:16.351234",
     "exception": false,
     "start_time": "2022-09-17T00:14:15.627315",
     "status": "completed"
    },
    "tags": []
   },
   "outputs": [],
   "source": [
    "plt.figure(figsize=(15,8))\n",
    "ax = sns.boxplot(x=\"PaymentMethod\", y=\"MonthlyCharges\", data=df_churn)\n",
    "plt.show()"
   ]
  },
  {
   "cell_type": "markdown",
   "id": "93210440",
   "metadata": {
    "id": "93210440",
    "papermill": {
     "duration": 0.441523,
     "end_time": "2022-09-17T00:14:17.236426",
     "exception": false,
     "start_time": "2022-09-17T00:14:16.794903",
     "status": "completed"
    },
    "tags": []
   },
   "source": [
    "<a id='7'></a>\n",
    "# 7 Многомерный анализ"
   ]
  },
  {
   "cell_type": "markdown",
   "id": "e41ad496",
   "metadata": {
    "id": "e41ad496",
    "papermill": {
     "duration": 0.446275,
     "end_time": "2022-09-17T00:14:18.127005",
     "exception": false,
     "start_time": "2022-09-17T00:14:17.680730",
     "status": "completed"
    },
    "tags": []
   },
   "source": [
    "<a id='7.1'></a>\n",
    "### 7.1 Мультиколлинеарность (Критерий Краскела — Уоллиса)\n",
    "Для категориальной и непрерывной переменных мультиколлинеарность может быть измерена с помощью **t-критерия** (если категориальная переменная имеет 2 категории, параметрическая) или **ANOVA** (более 2 категорий, параметрическая)\n",
    "\n",
    "**Критерий Краскела — Уоллиса** чаще используется, когда у нас есть **три или более уровня размерность**. Для двух уровней размерность подходит **U-тест Манна Уитни**\n",
    "\n",
    "*Параметрическим эквивалентом критерия Краскела-Уоллиса** является односторонний дисперсионный анализ (ANOVA).\n",
    "\n",
    "Гипотезы:\n",
    "\n",
    "* H0: Все распределения выборок равны.\n",
    "* H1: Одна или несколько распределений выборок не равны.\n",
    "\n",
    "Ссылки:\n",
    "* https://ru.wikipedia.org/wiki/Критерий_Краскела_—_Уоллиса\n",
    "* https://www.codecamp.ru/blog/kruskal-wallis-test-python/"
   ]
  },
  {
   "cell_type": "code",
   "execution_count": null,
   "id": "02f3d726",
   "metadata": {
    "colab": {
     "base_uri": "https://localhost:8080/"
    },
    "execution": {
     "iopub.execute_input": "2022-09-17T00:14:19.018834Z",
     "iopub.status.busy": "2022-09-17T00:14:19.018089Z",
     "iopub.status.idle": "2022-09-17T00:14:19.028284Z",
     "shell.execute_reply": "2022-09-17T00:14:19.028853Z",
     "shell.execute_reply.started": "2022-06-11T01:42:30.044291Z"
    },
    "executionInfo": {
     "elapsed": 297,
     "status": "ok",
     "timestamp": 1665976722219,
     "user": {
      "displayName": "Юрий Юров",
      "userId": "14847658770947017811"
     },
     "user_tz": -240
    },
    "id": "02f3d726",
    "outputId": "293a25e4-ff3f-4f3c-8e6a-52846cb00dd4",
    "papermill": {
     "duration": 0.459817,
     "end_time": "2022-09-17T00:14:19.029044",
     "exception": false,
     "start_time": "2022-09-17T00:14:18.569227",
     "status": "completed"
    },
    "tags": []
   },
   "outputs": [],
   "source": [
    "# compare samples\n",
    "stat, p = stats.kruskal(df_churn['TotalCharges'], df_churn['tenure'], df_churn['MonthlyCharges'])\n",
    "print('Statistics=%.3f, p=%.3f' % (stat, p))\n",
    "# interpret\n",
    "alpha = 0.05\n",
    "if p > alpha:\n",
    "    print('Одинаковое распределение (не удается отклонить H0)')\n",
    "else:\n",
    "    print('Различные распределения (отклонить H0)')"
   ]
  },
  {
   "cell_type": "code",
   "execution_count": null,
   "id": "19080439",
   "metadata": {
    "colab": {
     "base_uri": "https://localhost:8080/"
    },
    "execution": {
     "iopub.execute_input": "2022-09-17T00:14:19.929756Z",
     "iopub.status.busy": "2022-09-17T00:14:19.920328Z",
     "iopub.status.idle": "2022-09-17T00:14:19.958101Z",
     "shell.execute_reply": "2022-09-17T00:14:19.958916Z",
     "shell.execute_reply.started": "2022-06-11T01:42:30.061383Z"
    },
    "executionInfo": {
     "elapsed": 271,
     "status": "ok",
     "timestamp": 1665976724318,
     "user": {
      "displayName": "Юрий Юров",
      "userId": "14847658770947017811"
     },
     "user_tz": -240
    },
    "id": "19080439",
    "outputId": "23effd55-90c4-43ab-bb02-8420c6048cea",
    "papermill": {
     "duration": 0.486471,
     "end_time": "2022-09-17T00:14:19.959153",
     "exception": false,
     "start_time": "2022-09-17T00:14:19.472682",
     "status": "completed"
    },
    "tags": []
   },
   "outputs": [],
   "source": [
    "# compare samples\n",
    "stat, p = stats.kruskal(df_churn['DeviceProtection'], df_churn['StreamingMovies'], df_churn['PhoneService'])\n",
    "print('Statistics=%.3f, p=%.3f' % (stat, p))\n",
    "# interpret\n",
    "alpha = 0.05\n",
    "if p > alpha:\n",
    "    print('Одинаковое распределение (не удается отклонить H0)')\n",
    "else:\n",
    "    print('Различные распределения (отклонить H0)')"
   ]
  },
  {
   "cell_type": "code",
   "execution_count": null,
   "id": "ba10a14e",
   "metadata": {
    "colab": {
     "base_uri": "https://localhost:8080/"
    },
    "execution": {
     "iopub.execute_input": "2022-09-17T00:14:20.856365Z",
     "iopub.status.busy": "2022-09-17T00:14:20.855320Z",
     "iopub.status.idle": "2022-09-17T00:14:20.921203Z",
     "shell.execute_reply": "2022-09-17T00:14:20.920579Z",
     "shell.execute_reply.started": "2022-06-11T01:42:30.119524Z"
    },
    "executionInfo": {
     "elapsed": 287,
     "status": "ok",
     "timestamp": 1665976729609,
     "user": {
      "displayName": "Юрий Юров",
      "userId": "14847658770947017811"
     },
     "user_tz": -240
    },
    "id": "ba10a14e",
    "outputId": "5f61161c-a970-4531-80d0-c23c5fd3590a",
    "papermill": {
     "duration": 0.515986,
     "end_time": "2022-09-17T00:14:20.921362",
     "exception": false,
     "start_time": "2022-09-17T00:14:20.405376",
     "status": "completed"
    },
    "tags": []
   },
   "outputs": [],
   "source": [
    "# compare samples\n",
    "stat, p = stats.kruskal(df_churn['Contract'], df_churn['PaymentMethod'], df_churn['PhoneService'], df_churn['InternetService'])\n",
    "print('Statistics=%.3f, p=%.3f' % (stat, p))\n",
    "# interpret\n",
    "alpha = 0.05\n",
    "if p > alpha:\n",
    "    print('Одинаковое распределение (не удается отклонить H0)')\n",
    "else:\n",
    "    print('Различные распределения (отклонить H0)')"
   ]
  },
  {
   "cell_type": "markdown",
   "id": "cb8e17b9",
   "metadata": {
    "id": "cb8e17b9",
    "papermill": {
     "duration": 0.443767,
     "end_time": "2022-09-17T00:14:21.810556",
     "exception": false,
     "start_time": "2022-09-17T00:14:21.366789",
     "status": "completed"
    },
    "tags": []
   },
   "source": [
    "<a id='7.2'></a>\n",
    "## 7.2 Frequency Distribution"
   ]
  },
  {
   "cell_type": "code",
   "execution_count": null,
   "id": "7456c6d2",
   "metadata": {
    "_kg_hide-input": true,
    "execution": {
     "iopub.execute_input": "2022-09-17T00:14:22.706411Z",
     "iopub.status.busy": "2022-09-17T00:14:22.705335Z",
     "iopub.status.idle": "2022-09-17T00:14:22.708375Z",
     "shell.execute_reply": "2022-09-17T00:14:22.707795Z",
     "shell.execute_reply.started": "2022-06-11T01:42:30.200224Z"
    },
    "id": "7456c6d2",
    "papermill": {
     "duration": 0.453591,
     "end_time": "2022-09-17T00:14:22.708540",
     "exception": false,
     "start_time": "2022-09-17T00:14:22.254949",
     "status": "completed"
    },
    "tags": []
   },
   "outputs": [],
   "source": [
    "def multivariate_analysis(cat_var_1, cat_var_2, cat_var_3, target_variable=df_churn.Churn):\n",
    "    \n",
    "    fig,ax = plt.subplots(1,1,figsize = (18,5))\n",
    "    font_size = 15\n",
    "    cat_grouped_by_cat_target = pd.crosstab(index = [cat_var_1, cat_var_2, cat_var_3],\n",
    "                                        columns = target_variable, normalize = \"index\")*100                            \n",
    "    cat_grouped_by_cat_target.rename({\"Yes\":\"% Churn\", \"No\":\"% Not Churn\"}, axis = 1, inplace = True)\n",
    "    cat_grouped_by_cat_target.plot.bar(color = [\"green\", \"red\"],ax=ax)\n",
    "    ax.set_xlabel(f\"{cat_var_1.name}, {cat_var_2.name}, {cat_var_3.name}\", fontsize = font_size)\n",
    "    ax.set_ylabel(\"Relative Frequency(%)\", fontsize = font_size)\n",
    "    ax.tick_params(axis=\"x\", labelsize=font_size)\n",
    "    ax.tick_params(axis=\"y\", labelsize=font_size)\n",
    "    plt.legend(loc = \"best\")\n",
    "    return plt.show()"
   ]
  },
  {
   "cell_type": "code",
   "execution_count": null,
   "id": "cf11056f",
   "metadata": {
    "_kg_hide-input": true,
    "colab": {
     "base_uri": "https://localhost:8080/",
     "height": 626
    },
    "execution": {
     "iopub.execute_input": "2022-09-17T00:14:25.516394Z",
     "iopub.status.busy": "2022-09-17T00:14:25.515337Z",
     "iopub.status.idle": "2022-09-17T00:14:25.903307Z",
     "shell.execute_reply": "2022-09-17T00:14:25.903858Z",
     "shell.execute_reply.started": "2022-06-11T01:42:31.226551Z"
    },
    "executionInfo": {
     "elapsed": 907,
     "status": "ok",
     "timestamp": 1665963318333,
     "user": {
      "displayName": "Юрий Юров",
      "userId": "14847658770947017811"
     },
     "user_tz": -240
    },
    "id": "cf11056f",
    "outputId": "f575d6a6-2056-47af-bec4-49d2b33448d3",
    "papermill": {
     "duration": 0.853739,
     "end_time": "2022-09-17T00:14:25.904045",
     "exception": false,
     "start_time": "2022-09-17T00:14:25.050306",
     "status": "completed"
    },
    "tags": []
   },
   "outputs": [],
   "source": [
    "multivariate_analysis(df_churn.MultipleLines, df_churn['tenure-binned'], df_churn.PhoneService)\n",
    "printmd(\"## У большинства ушедших кдиентов была телефонная связь\")"
   ]
  },
  {
   "cell_type": "markdown",
   "id": "dc113cd3",
   "metadata": {
    "id": "dc113cd3",
    "papermill": {
     "duration": 0.44744,
     "end_time": "2022-09-17T00:14:26.824180",
     "exception": false,
     "start_time": "2022-09-17T00:14:26.376740",
     "status": "completed"
    },
    "tags": []
   },
   "source": [
    "<a id='7.3'></a>\n",
    "## 7.3 Churn Count Distribution"
   ]
  },
  {
   "cell_type": "code",
   "execution_count": null,
   "id": "87d3cb8e",
   "metadata": {
    "_kg_hide-input": true,
    "execution": {
     "iopub.execute_input": "2022-09-17T00:14:27.734655Z",
     "iopub.status.busy": "2022-09-17T00:14:27.733827Z",
     "iopub.status.idle": "2022-09-17T00:14:27.745634Z",
     "shell.execute_reply": "2022-09-17T00:14:27.744963Z",
     "shell.execute_reply.started": "2022-06-11T01:42:31.639197Z"
    },
    "id": "87d3cb8e",
    "papermill": {
     "duration": 0.471544,
     "end_time": "2022-09-17T00:14:27.745795",
     "exception": false,
     "start_time": "2022-09-17T00:14:27.274251",
     "status": "completed"
    },
    "tags": []
   },
   "outputs": [],
   "source": [
    "def plot_counting_distribution(cardinality_value):\n",
    "\n",
    "    #label encoding binary columns\n",
    "    le = LabelEncoder()\n",
    "\n",
    "    tmp_churn = df_churn[df_churn['Churn'] == 'Yes']\n",
    "    tmp_no_churn = df_churn[df_churn['Churn'] == 'No']\n",
    "\n",
    "    selected_columns = df_churn.nunique()[df_churn.nunique() == cardinality_value].keys()\n",
    "\n",
    "    for col in selected_columns :\n",
    "        tmp_churn[col] = le.fit_transform(tmp_churn[col])\n",
    "\n",
    "\n",
    "    data_frame_x = tmp_churn[selected_columns].sum().reset_index()\n",
    "    data_frame_x.columns = [\"feature\",\"Yes\"]\n",
    "    data_frame_x[\"No\"] = tmp_churn.shape[0]  - data_frame_x[\"Yes\"]\n",
    "    data_frame_x = data_frame_x[data_frame_x[\"feature\"] != \"Churn\"]\n",
    "\n",
    "    #count of 1's(yes)\n",
    "    trace1 = go.Scatterpolar(r=data_frame_x[\"Yes\"].values.tolist(), \n",
    "                          theta=data_frame_x[\"feature\"].tolist(),\n",
    "                          fill=\"toself\", name=\"Churn 1's\",\n",
    "                          mode=\"markers+lines\", visible=True,\n",
    "                          marker=dict(size=5)\n",
    "                          )\n",
    "\n",
    "    #count of 0's(No)\n",
    "    trace2 = go.Scatterpolar(r=data_frame_x[\"No\"].values.tolist(),\n",
    "                          theta=data_frame_x[\"feature\"].tolist(),\n",
    "                          fill=\"toself\",name=\"Churn 0's\",\n",
    "                          mode=\"markers+lines\", visible=True,\n",
    "                          marker=dict(size = 5)\n",
    "                          ) \n",
    "    for col in selected_columns :\n",
    "        tmp_no_churn[col] = le.fit_transform(tmp_no_churn[col])\n",
    "\n",
    "    data_frame_x = tmp_no_churn[selected_columns].sum().reset_index()\n",
    "    data_frame_x.columns  = [\"feature\",\"Yes\"]\n",
    "    data_frame_x[\"No\"]    = tmp_no_churn.shape[0]  - data_frame_x[\"Yes\"]\n",
    "    data_frame_x  = data_frame_x[data_frame_x[\"feature\"] != \"Churn\"]\n",
    "\n",
    "    #count of 1's(yes)\n",
    "    trace3 = go.Scatterpolar(r = data_frame_x[\"Yes\"].values.tolist(),\n",
    "                          theta = data_frame_x[\"feature\"].tolist(),\n",
    "                          fill  = \"toself\",name = \"NoChurn 1's\",\n",
    "                          mode = \"markers+lines\", visible=False,\n",
    "                          marker = dict(size = 5)\n",
    "                          )\n",
    "\n",
    "    #count of 0's(No)\n",
    "    trace4 = go.Scatterpolar(r = data_frame_x[\"No\"].values.tolist(),\n",
    "                          theta = data_frame_x[\"feature\"].tolist(),\n",
    "                          fill  = \"toself\",name = \"NoChurn 0's\",\n",
    "                          mode = \"markers+lines\", visible=False,\n",
    "                          marker = dict(size = 5)\n",
    "                          ) \n",
    "\n",
    "    data = [trace1, trace2, trace3, trace4]\n",
    "\n",
    "    updatemenus = list([\n",
    "      dict(active=0,\n",
    "          x=-0.15,\n",
    "          buttons=list([  \n",
    "              dict(\n",
    "                  label = 'Churn Dist',\n",
    "                  method = 'update',\n",
    "                  args = [{'visible': [True, True, False, False]}, \n",
    "                      {'title': f'Customer Churn Binary Counting Distribution' }]),\n",
    "\n",
    "              dict(\n",
    "                    label = 'No-Churn Dist',\n",
    "                  method = 'update',\n",
    "                  args = [{'visible': [False, False, True, True]},\n",
    "                      {'title': f'No Customer Churn Binary Counting Distribution'}]),\n",
    "\n",
    "          ]),\n",
    "      )\n",
    "    ])\n",
    "\n",
    "    layout = dict(title='ScatterPolar распределение клиентов Churn и Non-Churn', \n",
    "                showlegend=False,\n",
    "                updatemenus=updatemenus)\n",
    "\n",
    "    fig = dict(data=data, layout=layout)\n",
    "\n",
    "    pio.show(fig,renderer=\"colab\")\n"
   ]
  },
  {
   "cell_type": "markdown",
   "id": "ad53226e",
   "metadata": {
    "id": "ad53226e",
    "papermill": {
     "duration": 0.475068,
     "end_time": "2022-09-17T00:14:28.704882",
     "exception": false,
     "start_time": "2022-09-17T00:14:28.229814",
     "status": "completed"
    },
    "tags": []
   },
   "source": [
    "<a id='7.3.1'></a>\n",
    "###  7.3.1 Features With Cardinality = 2"
   ]
  },
  {
   "cell_type": "code",
   "execution_count": null,
   "id": "b5f92af0",
   "metadata": {
    "_kg_hide-input": true,
    "colab": {
     "base_uri": "https://localhost:8080/",
     "height": 542
    },
    "execution": {
     "iopub.execute_input": "2022-09-17T00:14:29.622572Z",
     "iopub.status.busy": "2022-09-17T00:14:29.621841Z",
     "iopub.status.idle": "2022-09-17T00:14:29.710841Z",
     "shell.execute_reply": "2022-09-17T00:14:29.711373Z",
     "shell.execute_reply.started": "2022-06-11T01:42:31.661862Z"
    },
    "executionInfo": {
     "elapsed": 9,
     "status": "ok",
     "timestamp": 1665976861062,
     "user": {
      "displayName": "Юрий Юров",
      "userId": "14847658770947017811"
     },
     "user_tz": -240
    },
    "id": "b5f92af0",
    "outputId": "5725f232-15d1-4ec4-cc08-4d58822b596f",
    "papermill": {
     "duration": 0.545161,
     "end_time": "2022-09-17T00:14:29.711579",
     "exception": false,
     "start_time": "2022-09-17T00:14:29.166418",
     "status": "completed"
    },
    "tags": []
   },
   "outputs": [],
   "source": [
    "plot_counting_distribution(2)"
   ]
  },
  {
   "cell_type": "markdown",
   "id": "a2906ad6",
   "metadata": {
    "id": "a2906ad6",
    "papermill": {
     "duration": 0.457296,
     "end_time": "2022-09-17T00:14:30.631339",
     "exception": false,
     "start_time": "2022-09-17T00:14:30.174043",
     "status": "completed"
    },
    "tags": []
   },
   "source": [
    "<a id='7.3.2'></a>\n",
    "###  7.3.2 Features With Cardinality = 3"
   ]
  },
  {
   "cell_type": "code",
   "execution_count": null,
   "id": "5afdf21c",
   "metadata": {
    "_kg_hide-input": true,
    "colab": {
     "base_uri": "https://localhost:8080/",
     "height": 542
    },
    "execution": {
     "iopub.execute_input": "2022-09-17T00:14:31.545766Z",
     "iopub.status.busy": "2022-09-17T00:14:31.545007Z",
     "iopub.status.idle": "2022-09-17T00:14:31.629394Z",
     "shell.execute_reply": "2022-09-17T00:14:31.629948Z",
     "shell.execute_reply.started": "2022-06-11T01:42:31.777544Z"
    },
    "executionInfo": {
     "elapsed": 274,
     "status": "ok",
     "timestamp": 1665963461936,
     "user": {
      "displayName": "Юрий Юров",
      "userId": "14847658770947017811"
     },
     "user_tz": -240
    },
    "id": "5afdf21c",
    "outputId": "7d717631-78b1-4b96-b29c-10e5489bd186",
    "papermill": {
     "duration": 0.542775,
     "end_time": "2022-09-17T00:14:31.630143",
     "exception": false,
     "start_time": "2022-09-17T00:14:31.087368",
     "status": "completed"
    },
    "tags": []
   },
   "outputs": [],
   "source": [
    "plot_counting_distribution(3)"
   ]
  },
  {
   "cell_type": "markdown",
   "id": "adc5f547",
   "metadata": {
    "id": "adc5f547",
    "papermill": {
     "duration": 0.466383,
     "end_time": "2022-09-17T00:14:36.414567",
     "exception": false,
     "start_time": "2022-09-17T00:14:35.948184",
     "status": "completed"
    },
    "tags": []
   },
   "source": [
    "<a id='8'></a>\n",
    "# 8 Выводы\n",
    "\n",
    "Из приведенного выше анализа мы можем сделать вывод:\n",
    "\n",
    "* Churn клиентов гендерно нейтрален, т.е. пол не имеет корреляции с Churn\n",
    "* Количество месяцев, в течение которых клиент работает c компанией (**tenure**), и срок действия контракта клиента (**contract**) являются наиболее важными характеристиками, которые имеют сильную корреляцию с Churn клиентов\n",
    "* OnlineSecurity, TechSupport, InternetService, PaymentMethod умеренно коррелируют с Churn клиентов\n"
   ]
  },
  {
   "cell_type": "markdown",
   "id": "b840253f",
   "metadata": {
    "id": "b840253f",
    "papermill": {
     "duration": 0.485263,
     "end_time": "2022-09-17T00:14:37.361075",
     "exception": false,
     "start_time": "2022-09-17T00:14:36.875812",
     "status": "completed"
    },
    "tags": []
   },
   "source": [
    "<a id='9'></a>\n",
    "# 9 Ссылки\n",
    "\n",
    "\n",
    "\n",
    "1. [Statstest](https://www.statstest.com/relationship)\n",
    "2. [Parametric nonparametric tests healthknowledge - healthknowledge.org](https://www.healthknowledge.org.uk/public-health-textbook/research-methods/1b-statistical-methods/parametric-nonparametric-tests)\n",
    "3. [Feature Selection Method For Machine Learning - machinelearningmastery](https://machinelearningmastery.com/feature-selection-with-real-and-categorical-data)\n",
    "4. [The Search for Categorical Correlation - towardsdatascience](https://towardsdatascience.com/the-search-for-categorical-correlation-a1cf7f1888c9)\n",
    "5. [Nonparametric statistical significance](https://machinelearningmastery.com/nonparametric-statistical-significance-tests-in-python/)\n",
    "6. [Eta-squared - ResearchGate](https://www.researchgate.net/post/Can_I_use_Pearsons_correlation_coefficient_to_know_the_relation_between_perception_and_gender_age_income)\n",
    "7. [T-test examples - analyticsvidhya](https://www.analyticsvidhya.com/blog/2021/07/t-test-performing-hypothesis-testing-with-python/)\n",
    "8. [Nonparametric Statistical Hypothesis Tests - machinelearningmastery](https://machinelearningmastery.com/nonparametric-statistical-significance-tests-in-python/)\n",
    "9. [Kendalls-tau](https://www.statstest.com/kendalls-tau/)\n",
    "10. [Chi-Squared Test for Machine Learning](https://machinelearningmastery.com/chi-squared-test-for-machine-learning/)\n",
    "11. [Parametric-and-non-parametric-data](https://www.statisticshowto.com/probability-and-statistics/statistics-definitions/parametric-and-non-parametric-data/)\n",
    "12. [Mann-whitney-u-test for non-parametric](https://www.statisticshowto.com/mann-whitney-u-test/)\n",
    "13. [Point-biserial correlation, Phi, & Cramer's V](http://web.pdx.edu/~newsomj/pa551/lectur15.htm)\n",
    "14. [Theia's Uncertainity](https://en.wikipedia.org/wiki/Uncertainty_coefficient)\n",
    "15. [Non-parametric-correlation-for-continuous-and-dichotomous-variables](https://stats.stackexchange.com/questions/86637/non-parametric-correlation-for-continuous-and-dichotomous-variables)\n",
    "16. [Effect Size Wiki](https://en.wikipedia.org/wiki/Effect_size)\n",
    "17. [Categorical correlation](https://towardsdatascience.com/the-search-for-categorical-correlation-a1cf7f1888c9)\n",
    "18. [Correlation_ratio dython](http://shakedzy.xyz/dython/modules/nominal/#correlation_ratio)\n",
    "19. [Tetrachoric’s correlation](https://junye0798.com/post/everythin-you-need-to-know-about-correlation/)\n",
    "20. [Chi-square](http://web.pdx.edu/~newsomj/pa551/lectur11.htm)\n",
    "21. [Kruskal-wallis - statisticshowto](https://www.statisticshowto.com/probability-and-statistics/statistics-definitions/kruskal-wallis/)\n",
    "22. [Everything You Need To Know About Correlation](https://junye0798.com/post/everythin-you-need-to-know-about-correlation)\n"
   ]
  }
 ],
 "metadata": {
  "colab": {
   "provenance": []
  },
  "kernelspec": {
   "display_name": "Python 3",
   "language": "python",
   "name": "python3"
  },
  "language_info": {
   "codemirror_mode": {
    "name": "ipython",
    "version": 3
   },
   "file_extension": ".py",
   "mimetype": "text/x-python",
   "name": "python",
   "nbconvert_exporter": "python",
   "pygments_lexer": "ipython3",
   "version": "3.8.8"
  },
  "papermill": {
   "default_parameters": {},
   "duration": 110.694338,
   "end_time": "2022-09-17T00:14:38.634386",
   "environment_variables": {},
   "exception": null,
   "input_path": "__notebook__.ipynb",
   "output_path": "__notebook__.ipynb",
   "parameters": {},
   "start_time": "2022-09-17T00:12:47.940048",
   "version": "2.3.3"
  },
  "toc": {
   "base_numbering": 1,
   "nav_menu": {},
   "number_sections": true,
   "sideBar": true,
   "skip_h1_title": false,
   "title_cell": "Table of Contents",
   "title_sidebar": "Contents",
   "toc_cell": true,
   "toc_position": {},
   "toc_section_display": true,
   "toc_window_display": true
  },
  "varInspector": {
   "cols": {
    "lenName": 16,
    "lenType": 16,
    "lenVar": 40
   },
   "kernels_config": {
    "python": {
     "delete_cmd_postfix": "",
     "delete_cmd_prefix": "del ",
     "library": "var_list.py",
     "varRefreshCmd": "print(var_dic_list())"
    },
    "r": {
     "delete_cmd_postfix": ") ",
     "delete_cmd_prefix": "rm(",
     "library": "var_list.r",
     "varRefreshCmd": "cat(var_dic_list()) "
    }
   },
   "types_to_exclude": [
    "module",
    "function",
    "builtin_function_or_method",
    "instance",
    "_Feature"
   ],
   "window_display": false
  }
 },
 "nbformat": 4,
 "nbformat_minor": 5
}
