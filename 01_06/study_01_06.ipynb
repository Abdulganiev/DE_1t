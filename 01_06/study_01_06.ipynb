{
 "cells": [
  {
   "cell_type": "markdown",
   "id": "23acfa1b",
   "metadata": {
    "toc": true
   },
   "source": [
    "<h1>Table of Contents<span class=\"tocSkip\"></span></h1>\n",
    "<div class=\"toc\"><ul class=\"toc-item\"></ul></div>"
   ]
  },
  {
   "cell_type": "code",
   "execution_count": 37,
   "id": "90863b6a",
   "metadata": {},
   "outputs": [],
   "source": [
    "cnt = 10\n",
    "a = list('1' * cnt)"
   ]
  },
  {
   "cell_type": "code",
   "execution_count": 40,
   "id": "78953546",
   "metadata": {},
   "outputs": [
    {
     "name": "stdout",
     "output_type": "stream",
     "text": [
      "0 21111111111 11\n",
      "1 12111111111 11\n",
      "2 11211111111 11\n",
      "3 11121111111 11\n",
      "4 11112111111 11\n",
      "5 11111211111 11\n",
      "6 11111121111 11\n",
      "7 11111112111 11\n",
      "8 11111111211 11\n",
      "9 11111111121 11\n",
      "10 11111111112 11\n"
     ]
    }
   ],
   "source": [
    "for i in range(cnt+1):\n",
    "    a.insert(i, '2')\n",
    "    print(i, ''.join(a), len(''.join(a)) )\n",
    "    a.remove('2')"
   ]
  },
  {
   "cell_type": "code",
   "execution_count": 41,
   "id": "0cc4b28a",
   "metadata": {},
   "outputs": [
    {
     "name": "stdout",
     "output_type": "stream",
     "text": [
      "0 21111111111 11\n",
      "1 12111111111 11\n",
      "2 11211111111 11\n",
      "3 11121111111 11\n",
      "4 11112111111 11\n",
      "5 11111211111 11\n",
      "6 11111121111 11\n",
      "7 11111112111 11\n",
      "8 11111111211 11\n",
      "9 11111111121 11\n",
      "10 11111111112 11\n"
     ]
    }
   ],
   "source": [
    "for i in range(cnt+1):\n",
    "    x = '1'*i + '2' + '1'*(cnt-i)\n",
    "    print(i, x, len(x))"
   ]
  },
  {
   "cell_type": "code",
   "execution_count": 6,
   "id": "278bca2b",
   "metadata": {},
   "outputs": [],
   "source": [
    "# a_list"
   ]
  },
  {
   "cell_type": "code",
   "execution_count": 12,
   "id": "28c201cc",
   "metadata": {},
   "outputs": [],
   "source": [
    "b = ''.join(a_list)"
   ]
  },
  {
   "cell_type": "code",
   "execution_count": 13,
   "id": "3c66450d",
   "metadata": {},
   "outputs": [
    {
     "data": {
      "text/plain": [
       "'111111111111111111111111111111111111111111111111111111111111111111111111111111111111111111111111111111111111111111111111111111111111111111111111111111111111111111111111111111111111111111111111111111111111111111111111111111111111111111'"
      ]
     },
     "execution_count": 13,
     "metadata": {},
     "output_type": "execute_result"
    }
   ],
   "source": [
    "b"
   ]
  },
  {
   "cell_type": "code",
   "execution_count": 19,
   "id": "847c8d05",
   "metadata": {},
   "outputs": [
    {
     "name": "stdout",
     "output_type": "stream",
     "text": [
      "['1', '1', '1', '1', '1', '1', '1', '1', '1', '1', '1', '1', '1', '1', '1', '1', '1', '1', '1', '1', '1', '1', '1', '1', '1', '1', '1', '1', '1', '1', '1', '1', '1', '1', '1', '1', '1', '1', '1', '1', '1', '1', '1', '1', '1', '1', '1', '1', '1', '1', '1', '1', '1', '1', '1', '1', '1', '1', '1', '1', '1', '1', '1', '1', '1', '1', '1', '1', '1', '1', '1', '1', '1', '1', '1', '1', '1', '1', '1', '1', '1', '1', '1', '1', '1', '1', '1', '1', '1', '1', '1', '1', '1', '1', '1', '1', '1', '1', '1', '1', '1', '1', '1', '1', '1', '1', '1', '1', '1', '1', '1', '1', '1', '1', '1', '1', '1', '1', '1', '1', '1', '1', '1', '1', '1', '1', '1', '1', '1', '1', '1', '1', '1', '1', '1', '1', '1', '1', '1', '1', '1', '1', '1', '1', '1', '1', '1', '1', '1', '1', '1', '1', '1', '1', '1', '1', '1', '1', '1', '1', '1', '1', '1', '1', '1', '1', '1', '1', '1', '1', '1', '1', '1', '1', '1', '1', '1', '1', '1', '1', '1', '1', '1', '1', '1', '1', '1', '1', '1', '1', '1', '1', '1', '1', '1', '1', '1', '1', '1', '1', '1', '1', '1', '1', '1', '1', '1', '1', '1', '1', '1', '1', '1', '1', '1', '1', '1', '1', '1', '1', '1', '1', '1', '1', '1', '1', '1', '1', '1', '1', '1', '1', '1', '1']\n"
     ]
    }
   ],
   "source": [
    "print(a_list)"
   ]
  },
  {
   "cell_type": "code",
   "execution_count": 18,
   "id": "d8eb7b73",
   "metadata": {},
   "outputs": [],
   "source": [
    "a_list.remove('2')"
   ]
  },
  {
   "cell_type": "code",
   "execution_count": null,
   "id": "387b4266",
   "metadata": {},
   "outputs": [],
   "source": []
  }
 ],
 "metadata": {
  "kernelspec": {
   "display_name": "Python 3",
   "language": "python",
   "name": "python3"
  },
  "language_info": {
   "codemirror_mode": {
    "name": "ipython",
    "version": 3
   },
   "file_extension": ".py",
   "mimetype": "text/x-python",
   "name": "python",
   "nbconvert_exporter": "python",
   "pygments_lexer": "ipython3",
   "version": "3.8.8"
  },
  "toc": {
   "base_numbering": 1,
   "nav_menu": {},
   "number_sections": true,
   "sideBar": true,
   "skip_h1_title": false,
   "title_cell": "Table of Contents",
   "title_sidebar": "Contents",
   "toc_cell": true,
   "toc_position": {},
   "toc_section_display": true,
   "toc_window_display": true
  },
  "varInspector": {
   "cols": {
    "lenName": 16,
    "lenType": 16,
    "lenVar": 40
   },
   "kernels_config": {
    "python": {
     "delete_cmd_postfix": "",
     "delete_cmd_prefix": "del ",
     "library": "var_list.py",
     "varRefreshCmd": "print(var_dic_list())"
    },
    "r": {
     "delete_cmd_postfix": ") ",
     "delete_cmd_prefix": "rm(",
     "library": "var_list.r",
     "varRefreshCmd": "cat(var_dic_list()) "
    }
   },
   "types_to_exclude": [
    "module",
    "function",
    "builtin_function_or_method",
    "instance",
    "_Feature"
   ],
   "window_display": false
  }
 },
 "nbformat": 4,
 "nbformat_minor": 5
}
