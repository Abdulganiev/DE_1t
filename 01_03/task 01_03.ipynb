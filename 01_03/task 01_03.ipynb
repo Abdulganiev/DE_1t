{
 "cells": [
  {
   "cell_type": "markdown",
   "id": "baf021f1",
   "metadata": {
    "toc": true
   },
   "source": [
    "<h1>Table of Contents<span class=\"tocSkip\"></span></h1>\n",
    "<div class=\"toc\"><ul class=\"toc-item\"><li><span><a href=\"#Задание-1.-Парсинг-сайта-hh.ru\" data-toc-modified-id=\"Задание-1.-Парсинг-сайта-hh.ru-1\"><span class=\"toc-item-num\">1&nbsp;&nbsp;</span>Задание 1. Парсинг сайта hh.ru</a></span></li><li><span><a href=\"#Задание-2.-Палиндром-строки\" data-toc-modified-id=\"Задание-2.-Палиндром-строки-2\"><span class=\"toc-item-num\">2&nbsp;&nbsp;</span>Задание 2. Палиндром строки</a></span></li><li><span><a href=\"#Задание-3.-Перевод-арабского-числа-в-римское\" data-toc-modified-id=\"Задание-3.-Перевод-арабского-числа-в-римское-3\"><span class=\"toc-item-num\">3&nbsp;&nbsp;</span>Задание 3. Перевод арабского числа в римское</a></span></li><li><span><a href=\"#Задание-4.-Валидность-скобок\" data-toc-modified-id=\"Задание-4.-Валидность-скобок-4\"><span class=\"toc-item-num\">4&nbsp;&nbsp;</span>Задание 4. Валидность скобок</a></span></li><li><span><a href=\"#Задание-5.-Умножить-два-бинарных-числа-в-формате-строк\" data-toc-modified-id=\"Задание-5.-Умножить-два-бинарных-числа-в-формате-строк-5\"><span class=\"toc-item-num\">5&nbsp;&nbsp;</span>Задание 5. Умножить два бинарных числа в формате строк</a></span></li></ul></div>"
   ]
  },
  {
   "cell_type": "markdown",
   "id": "d12debc4",
   "metadata": {},
   "source": [
    "### Задание 1. Парсинг сайта hh.ru"
   ]
  },
  {
   "cell_type": "markdown",
   "id": "4fec3550",
   "metadata": {},
   "source": [
    "Необходимо спарсить данные о вакансиях python разработчиков с сайта hh.ru, введя в поиск “python разработчик” и указав, что мы рассматриваем все регионы. Необходимо спарсить:  \n",
    "- Название вакансии  \n",
    "- Требуемый опыт работы  \n",
    "- Заработную плату  \n",
    "- Регион  \n",
    "\n",
    "И сохранить эти данные в формате json в следующем виде:  \n",
    "![Формат](./1_3_question.png)"
   ]
  },
  {
   "cell_type": "markdown",
   "id": "191fc759",
   "metadata": {},
   "source": [
    "pip install BeautifulSoup4  \n",
    "pip install requests  \n",
    "pip install lxml"
   ]
  },
  {
   "cell_type": "code",
   "execution_count": 2,
   "id": "b5f36bd8",
   "metadata": {},
   "outputs": [],
   "source": [
    "import requests as req\n",
    "from requests_tor import RequestsTor\n",
    "from bs4 import BeautifulSoup\n",
    "from tqdm import tqdm\n",
    "import json\n",
    "import time\n",
    "\n",
    "rt = RequestsTor()"
   ]
  },
  {
   "cell_type": "code",
   "execution_count": 3,
   "id": "9cfedf25",
   "metadata": {},
   "outputs": [
    {
     "name": "stderr",
     "output_type": "stream",
     "text": [
      "100%|██████████████████████████████████████████████████████████████████████████████████| 20/20 [03:56<00:00, 11.80s/it]\n",
      "100%|██████████████████████████████████████████████████████████████████████████████████| 20/20 [05:29<00:00, 16.49s/it]\n",
      "100%|██████████████████████████████████████████████████████████████████████████████████| 20/20 [05:24<00:00, 16.23s/it]\n"
     ]
    }
   ],
   "source": [
    "data = {'data': []}\n",
    "\n",
    "for page in range(3):\n",
    "    url = f'https://hh.ru/search/vacancy?text=python+разработчик&from=suggest_post&area=113&page={page}&hhtmFrom=vacancy_search_list'\n",
    "    resp = rt.get(url)\n",
    "\n",
    "    soup = BeautifulSoup(resp.text, 'lxml')\n",
    "    tags = soup.find_all(attrs={\"class\" : \"vacancy-serp-item-body__main-info\"})\n",
    "    for tag in tqdm(tags):\n",
    "        title = tag.find_all(attrs={'data-qa' : 'serp-item__title'})[0].text\n",
    "        region = tag.find_all(attrs={\"data-qa\" : \"vacancy-serp__vacancy-address\"})[0].text\n",
    "        url_object = tag.find_all(attrs={'data-qa' : 'serp-item__title'})[0].attrs['href']\n",
    "        try:\n",
    "            resp_object = rt.get(url_object)\n",
    "            soup_object = BeautifulSoup(resp_object.text, 'lxml')\n",
    "            tag_object_salary = soup_object.find_all(attrs={\"data-qa\" : \"vacancy-salary\"})[0].text\n",
    "            tag_object_work = soup_object.find_all(attrs={'data-qa' : \"vacancy-experience\"})[0].text\n",
    "        except:\n",
    "            tag_object_salary = 'Alarm'\n",
    "            tag_object_work = 'Alarm'\n",
    "        time.sleep(0.2)\n",
    "        data['data'].append({'title' : title, 'work experience' : tag_object_work, 'salary' : tag_object_salary, 'region' : region})\n",
    "\n",
    "with open('data.json', 'w') as file:\n",
    "    json.dump(data, file, ensure_ascii=False)"
   ]
  },
  {
   "cell_type": "markdown",
   "id": "f966ebb8",
   "metadata": {},
   "source": [
    "### Задание 2. Палиндром строки  "
   ]
  },
  {
   "cell_type": "markdown",
   "id": "9ffb6db7",
   "metadata": {},
   "source": [
    "Дана строка X, возвращайте True, если X является палиндромом.  \n",
    "Строка является палиндромом тогда, когда она читается одинаково как в обратном, так и в прямом направлении.  \n",
    "\n",
    "Например, является “taco cat” является палиндромом, в то время как “black cat” не является.  \n",
    "В данной задаче пробелы не учитываются.  \n",
    "\n",
    "Гарантируется, что исходная строка может содержать символы только нижнего регистра.  \n",
    "\n",
    "Пример 1:  \n",
    "Ввод: x = “taco cat”  \n",
    "Вывод: true  \n",
    "Пояснение: “taco cat” читается, как “taco cat” слева направо так и справа налево.  \n",
    "\n",
    "Пример 2:  \n",
    "Ввод: x = “rotator”  \n",
    "Вывод: true  \n",
    "Пояснение: “rotator” читается, как “rotator” слева направо так и справа налево.  \n",
    "\n",
    "Пример 3:  \n",
    "Ввод: x = “black cat”  \n",
    "Вывод: false  \n",
    "Пояснение: слева направо она читается как “black cat” . Справа налево оно становится “tac kcalb”.  \n",
    "Следовательно, это не палиндром.  \n",
    "\n",
    "Для решения задачи рекомендуем познакомиться с функцией str.replace()"
   ]
  },
  {
   "cell_type": "code",
   "execution_count": 144,
   "id": "8b33f3af",
   "metadata": {},
   "outputs": [
    {
     "name": "stdout",
     "output_type": "stream",
     "text": [
      "rotator\n",
      "True\n"
     ]
    }
   ],
   "source": [
    "a = input().replace(' ', '')\n",
    "print(a == a[::-1])"
   ]
  },
  {
   "cell_type": "markdown",
   "id": "e673a535",
   "metadata": {
    "heading_collapsed": true
   },
   "source": [
    "### Задание 3. Перевод арабского числа в римское"
   ]
  },
  {
   "cell_type": "markdown",
   "id": "988508c8",
   "metadata": {
    "hidden": true
   },
   "source": [
    "Дано целое положительное число X, необходимо вывести вариант этого числа в римской системе счисления в формате строки.  \n",
    "\n",
    "Римские числа записываются от наибольшего числа к наименьшему слева направо.  \n",
    "Однако число 4 не является “IIII”. Вместо этого число 4 записывается, как “IV”. Т.к. 1 стоит перед 5, мы вычитаем 1, делая 4. Тот же принцип применим к числу 9, которое записывается как “IX”.  \n",
    "Случаи, когда используется вычитание:  \n",
    "I может быть помещен перед V и X, чтобы сделать 4 и 9.  \n",
    "X может быть помещен перед L и C, чтобы составить 40 и 90.  \n",
    "C может быть помещен перед D и M, чтобы составить 400 и 900.  \n",
    "\n",
    "Пример 1:  \n",
    "Ввод: x = 3  \n",
    "Вывод: “III”  \n",
    "\n",
    "Пример 2:  \n",
    "Ввод: x = 9  \n",
    "Вывод: “IX”  \n",
    "\n",
    "Пример 3:  \n",
    "Ввод: x = 1945  \n",
    "Вывод: “MCMXLV”  \n",
    "\n",
    "Гарантируется, что введенное число X будет находиться в диапазоне от 1 до 2000"
   ]
  },
  {
   "cell_type": "code",
   "execution_count": 113,
   "id": "15643738",
   "metadata": {
    "hidden": true
   },
   "outputs": [],
   "source": [
    "roman_numerals = {\n",
    "1000: 'M',\n",
    "900: 'CM',\n",
    "500: 'D',\n",
    "400: 'CD',\n",
    "100: 'C',\n",
    "90: 'XC',\n",
    "50: 'L',\n",
    "40: 'XL',\n",
    "10: 'X',\n",
    "9: 'IX',\n",
    "5: 'V',\n",
    "4: 'IV',\n",
    "1: 'I'\n",
    "}"
   ]
  },
  {
   "cell_type": "code",
   "execution_count": 138,
   "id": "15c53a7d",
   "metadata": {
    "hidden": true
   },
   "outputs": [
    {
     "name": "stdout",
     "output_type": "stream",
     "text": [
      "1945\n",
      "MCMXLV\n"
     ]
    }
   ],
   "source": [
    "a = int(input())\n",
    "result = ''\n",
    "for arab, rim in roman_numerals.items():\n",
    "    result += a // arab * rim\n",
    "    a %= arab\n",
    "print(result)"
   ]
  },
  {
   "cell_type": "markdown",
   "id": "f9b51d81",
   "metadata": {
    "heading_collapsed": true
   },
   "source": [
    "### Задание 4. Валидность скобок"
   ]
  },
  {
   "cell_type": "markdown",
   "id": "106f7710",
   "metadata": {
    "hidden": true
   },
   "source": [
    "Дана строка X, состоящая только из символов { , } , \\[ ,  ], (, ). Программа должна вывести True, в том случае если все открытые скобки закрыты. Например: “[()]{}”, все открытые скобки закрыты закрывающимися скобками, потому вывод будет True. В случае же, если строка будет похожа на: “{{{}”, то вывод будет False, т.к. не все открытые скобки закрыты.  \n",
    "Пример 1:  \n",
    "Ввод: x = “[{}({})]”  \n",
    "Вывод: True  \n",
    "\n",
    "Пример 2:  \n",
    "Ввод: x = “{]”  \n",
    "Вывод: False  \n",
    "\n",
    "Пример 3:  \n",
    "Ввод: x = “{“  \n",
    "Вывод: False  \n",
    "\n",
    "Гарантируется, что введенная строка X будет содержать только скобки и не будет пустой."
   ]
  },
  {
   "cell_type": "code",
   "execution_count": 146,
   "id": "02bac1d6",
   "metadata": {
    "hidden": true
   },
   "outputs": [
    {
     "name": "stderr",
     "output_type": "stream",
     "text": [
      "100%|██████████████████████████████████████████████████████████████████████████████| 34/34 [00:00<00:00, 248876.68it/s]"
     ]
    },
    {
     "name": "stdout",
     "output_type": "stream",
     "text": [
      "False { ] ) ) ) ) ) ) )\n"
     ]
    },
    {
     "name": "stderr",
     "output_type": "stream",
     "text": [
      "\n"
     ]
    }
   ],
   "source": [
    "staples = '{](())))()()()())()()()))))((()()))'\n",
    "staples_list = [el for el in staples]\n",
    "x = 0\n",
    "comparison = ['{}', '[]', '()']\n",
    "for i in tqdm(range(1, len(staples_list))):\n",
    "    couple = staples_list[i-1-x] + staples_list[i-x]\n",
    "    if comparison.count(couple) != 0:\n",
    "        del(staples_list[i-x])\n",
    "        del(staples_list[i-1-x])\n",
    "        x += 2\n",
    "if len(staples_list) == 0:\n",
    "    print('True', staples_list)\n",
    "else:\n",
    "    print('False', *staples_list)"
   ]
  },
  {
   "cell_type": "markdown",
   "id": "4bc6f489",
   "metadata": {
    "heading_collapsed": true
   },
   "source": [
    "### Задание 5. Умножить два бинарных числа в формате строк"
   ]
  },
  {
   "cell_type": "markdown",
   "id": "ef9f2b8f",
   "metadata": {
    "hidden": true
   },
   "source": [
    "На вход подаются две строки X1 и X2, содержащие бинарные числа.  \n",
    "Необходимо вывести их бинарное произведение в формате строки.  \n",
    "**Пример 1:**  \n",
    "Ввод: x1 = ‘’111” и x2= “101”  \n",
    "Вывод: “100011”  \n",
    "*Пояснение: “111” - это 7; “101” - это 5; 7\\*5 = 35; 35 в двоичной системе 100011*  \n",
    "Гарантируется, что введенная строка X будет содержать только числа 1 и 0.  "
   ]
  },
  {
   "cell_type": "code",
   "execution_count": 94,
   "id": "78dba671",
   "metadata": {
    "hidden": true
   },
   "outputs": [
    {
     "name": "stdout",
     "output_type": "stream",
     "text": [
      "111\n",
      "101\n",
      "100011\n"
     ]
    }
   ],
   "source": [
    "print(str(bin(int(input(), 2) * int(input(), 2)))[2:])"
   ]
  }
 ],
 "metadata": {
  "kernelspec": {
   "display_name": "01_03",
   "language": "python",
   "name": "01_03"
  },
  "language_info": {
   "codemirror_mode": {
    "name": "ipython",
    "version": 3
   },
   "file_extension": ".py",
   "mimetype": "text/x-python",
   "name": "python",
   "nbconvert_exporter": "python",
   "pygments_lexer": "ipython3",
   "version": "3.8.8"
  },
  "toc": {
   "base_numbering": 1,
   "nav_menu": {},
   "number_sections": true,
   "sideBar": true,
   "skip_h1_title": false,
   "title_cell": "Table of Contents",
   "title_sidebar": "Contents",
   "toc_cell": true,
   "toc_position": {},
   "toc_section_display": true,
   "toc_window_display": true
  },
  "varInspector": {
   "cols": {
    "lenName": 16,
    "lenType": 16,
    "lenVar": 40
   },
   "kernels_config": {
    "python": {
     "delete_cmd_postfix": "",
     "delete_cmd_prefix": "del ",
     "library": "var_list.py",
     "varRefreshCmd": "print(var_dic_list())"
    },
    "r": {
     "delete_cmd_postfix": ") ",
     "delete_cmd_prefix": "rm(",
     "library": "var_list.r",
     "varRefreshCmd": "cat(var_dic_list()) "
    }
   },
   "types_to_exclude": [
    "module",
    "function",
    "builtin_function_or_method",
    "instance",
    "_Feature"
   ],
   "window_display": false
  }
 },
 "nbformat": 4,
 "nbformat_minor": 5
}
